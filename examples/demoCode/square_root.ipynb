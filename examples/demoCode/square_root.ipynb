{
 "cells": [
  {
   "cell_type": "code",
   "execution_count": 8,
   "metadata": {},
   "outputs": [
    {
     "name": "stdout",
     "output_type": "stream",
     "text": [
      "Square root of ?\n",
      "asdf\n",
      "Cannot find the square root of a non-number. Please enter a positive number.\n",
      "-\n",
      "Cannot find the square root of a non-number. Please enter a positive number.\n",
      "-5\n",
      "Cannot find the square root of a negative number. Please enter a positive number.\n",
      "9.8\n",
      "Answer is: 3.1304951684997055\n",
      "\n"
     ]
    }
   ],
   "source": [
    "import numpy as np\n",
    "\n",
    "def square_root(n: float) -> float:\n",
    "    \"\"\"Implements error handling by continuing to ask for valid input.\"\"\"\n",
    "    \n",
    "    np.seterr(all='raise')  # Change numpy errors from warnings to exceptions\n",
    "    while True:\n",
    "        try:\n",
    "            n = float(n) # Convert input from string to float\n",
    "            square_root = np.sqrt(n)\n",
    "        except ValueError as e:\n",
    "            n = input(\"Cannot find the square root of a non-number. \"\n",
    "                      \"Please enter a positive number.\\n\")\n",
    "        except FloatingPointError:\n",
    "            n = input(\"Cannot find the square root of a negative number. \" \n",
    "                      \"Please enter a positive number.\\n\")\n",
    "        else:\n",
    "            break # Valid input was given, proceed to return value\n",
    "        \n",
    "    return square_root\n",
    "        \n",
    "if __name__ == \"__main__\":\n",
    "    test_num = input(\"Square root of ?\\n\")\n",
    "    print(f\"Answer is: {square_root(test_num)}\\n\")"
   ]
  }
 ],
 "metadata": {
  "kernelspec": {
   "display_name": "Python 3",
   "language": "python",
   "name": "python3"
  },
  "language_info": {
   "codemirror_mode": {
    "name": "ipython",
    "version": 3
   },
   "file_extension": ".py",
   "mimetype": "text/x-python",
   "name": "python",
   "nbconvert_exporter": "python",
   "pygments_lexer": "ipython3",
   "version": "3.7.3"
  }
 },
 "nbformat": 4,
 "nbformat_minor": 2
}
