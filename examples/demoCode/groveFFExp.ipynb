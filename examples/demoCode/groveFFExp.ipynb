{
 "cells": [
  {
   "cell_type": "code",
   "execution_count": 87,
   "metadata": {},
   "outputs": [
    {
     "data": {
      "text/plain": [
       "array([0.83624799, 0.7208273 ])"
      ]
     },
     "execution_count": 87,
     "metadata": {},
     "output_type": "execute_result"
    }
   ],
   "source": [
    "import numpy as np\n",
    "\n",
    "#Start with random weights\n",
    "wt1 = np.random.rand(4,4)\n",
    "wt2 = np.random.rand(2,5)\n",
    "\n",
    "#Store all weights in an array\n",
    "all_wts = np.array([wt1, wt2])\n",
    "\n",
    "#Generate random inputs\n",
    "inputs = np.random.rand(3)\n",
    "\n",
    "#Sigmoid function to calculate activation\n",
    "def sigmoid (z):\n",
    "    return (1/(1+(1*np.exp(-z))))\n",
    "\n",
    "#Function to add a bias to the input\n",
    "def add_bias (i):\n",
    "    return np.append(i, 1)\n",
    "    \n",
    "#Forward pass\n",
    "def forward_pass (inp, wts):\n",
    "    #starts with the original input\n",
    "    a = inp \n",
    "    #iterate through the array of weights, taking the dot product of the weights and input \n",
    "    #need to add bias to the input so the shape matches up with the weights \n",
    "    #the sigmoid function uses the dot product of the weights and input to calculate the activation \n",
    "    for w in wts: \n",
    "        a = sigmoid(w@(add_bias(a))) \n",
    "    #each layer's output becomes the input for the next layer (and a bias is added each time), until we run out of weights\n",
    "    return (a) \n",
    "    \n",
    "forward_pass(inputs, all_wts)"
   ]
  },
  {
   "cell_type": "code",
   "execution_count": null,
   "metadata": {},
   "outputs": [],
   "source": []
  }
 ],
 "metadata": {
  "kernelspec": {
   "display_name": "Python 3",
   "language": "python",
   "name": "python3"
  },
  "language_info": {
   "codemirror_mode": {
    "name": "ipython",
    "version": 3
   },
   "file_extension": ".py",
   "mimetype": "text/x-python",
   "name": "python",
   "nbconvert_exporter": "python",
   "pygments_lexer": "ipython3",
   "version": "3.7.3"
  }
 },
 "nbformat": 4,
 "nbformat_minor": 2
}
