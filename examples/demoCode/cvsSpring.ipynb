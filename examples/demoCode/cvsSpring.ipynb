{
 "cells": [
  {
   "cell_type": "code",
   "execution_count": 2,
   "metadata": {
    "autoscroll": false,
    "ein.hycell": false,
    "ein.tags": "worksheet-0",
    "slideshow": {
     "slide_type": "-"
    }
   },
   "outputs": [
    {
     "name": "stdout",
     "output_type": "stream",
     "text": [
      "Spring simulation\n",
      "Enter options (press Enter for defaults): load_csv\n",
      "File path: test.csv\n"
     ]
    },
    {
     "data": {
      "image/png": "[encoded data removed]",
      "text/plain": [
       "<Figure size 432x288 with 1 Axes>"
      ]
     },
     "metadata": {
      "needs_background": "light"
     },
     "output_type": "display_data"
    }
   ],
   "source": [
    "%matplotlib inline\n",
    "import matplotlib.pyplot as plt\n",
    "import math\n",
    "import os\n",
    "\n",
    "print(\"Spring simulation\")\n",
    "\n",
    "# Options:\n",
    "# \"fast\" to enter every spring in CSV format\n",
    "# \"slow\" to enter every spring one value at a time\n",
    "# \"load_csv\" to load the spring data from a CSV file\n",
    "# \"duration\" to set the duration for every simulation at once\n",
    "# \"dt\" to set the dt for every simulation at once\n",
    "# \"simple\" to set k=0\n",
    "# \"count\" to set the number of springs rather than ask each time to add another\n",
    "\n",
    "options = input(\"Enter options (press Enter for defaults): \").split(\" \")\n",
    "\n",
    "global_duration = None\n",
    "global_dt = None\n",
    "simple = False\n",
    "count = None\n",
    "\n",
    "if \"duration\" in options:\n",
    "    global_duration = float(options[options.index(\"duration\")+1])\n",
    "if \"dt\" in options:\n",
    "    global_dt = float(options[options.index(\"dt\")+1])\n",
    "if \"simple\" in options:\n",
    "    simple = True\n",
    "if \"count\" in options:\n",
    "    count = int(options[options.index(\"count\")+1])\n",
    "\n",
    "def damped_spring_data(start_position, start_velocity, p, k, dt, total_time):\n",
    "    time_range = list(range(1, math.floor(total_time/dt+0.01)+1))\n",
    "\n",
    "    positions = [start_position]\n",
    "    velocities = [start_velocity]\n",
    "\n",
    "    for t in time_range:\n",
    "        acceleration = -p * positions[-1] - k * velocities[-1]\n",
    "        velocity = velocities[-1] + acceleration * dt\n",
    "        position = positions[-1] + velocity * dt\n",
    "        velocities.append(velocity)\n",
    "        positions.append(position)\n",
    "\n",
    "    time_values = [0.0] + [t * dt for t in time_range]\n",
    "    \n",
    "    return time_values, positions\n",
    "\n",
    "def spring_data_from_csv(graph):\n",
    "    name = graph[0]\n",
    "    s0 = float(graph[1])\n",
    "    v0 = float(graph[2])\n",
    "    p = float(graph[3])\n",
    "    if simple:\n",
    "        k = 0\n",
    "        i = 4\n",
    "    else:\n",
    "        k = float(graph[4])\n",
    "        i = 5\n",
    "    if global_duration is not None:\n",
    "        tt = global_duration\n",
    "    else:\n",
    "        tt = float(graph[i])\n",
    "        i = i + 1\n",
    "    dt = global_dt if global_dt is not None else float(graph[i])\n",
    "    time_values, positions = damped_spring_data(s0, v0, p, k, dt, tt)\n",
    "    return name, time_values, positions\n",
    "\n",
    "\n",
    "if \"load_csv\" in options:\n",
    "    path = input(\"File path: \")\n",
    "    try:\n",
    "        with open(os.path.abspath(path)) as file:\n",
    "            for line in file.readlines():\n",
    "                graph = line.split(\",\")\n",
    "                name, time_values, positions = spring_data_from_csv(graph)\n",
    "                plt.plot(time_values, positions, label=name)\n",
    "        plt.legend(loc=\"best\")\n",
    "        plt.show()\n",
    "    except Exception as e:\n",
    "        print(\"Error: could not read file {0}\".format(os.path.abspath(path)))\n",
    "        print(e)\n",
    "elif count != 0:\n",
    "    new_spring = True\n",
    "    counter = 0\n",
    "    while new_spring:\n",
    "        fast_input = (\"fast\" in options) or ((\"slow\" not in options) and input(\"Fast input? (Y/n): \") == \"Y\")\n",
    "        if fast_input:\n",
    "            graph = input(\"Enter all parameters on one line, separated by commas: \").split(\",\")\n",
    "            name, time_values, positions = spring_data_from_csv(graph)\n",
    "            plt.plot(time_values, positions, label=name)\n",
    "        else:\n",
    "            name = input(\"Spring name: \")\n",
    "            s0 = float(input(\"Starting distance of the spring (in m): \"))\n",
    "            v0 = float(input(\"Starting velocity of the spring (in m/s): \"))\n",
    "            p = float(input(\"Spring constant p (in N/kg/m): \"))\n",
    "            k = 0 if simple else float(input(\"Damping coefficient k (in s^-1): \"))\n",
    "            tt = global_duration if global_duration is not None else float(input(\"Duration of simulation (in seconds): \"))\n",
    "            dt = global_dt if global_dt is not None else float(input(\"Time increment size (in seconds): \"))\n",
    "            time_values, positions = damped_spring_data(s0, v0, p, k, dt, tt)\n",
    "            plt.plot(time_values, positions, label=name)\n",
    "        if count is not None:\n",
    "            counter += 1\n",
    "            new_spring = (counter < count)\n",
    "        else:\n",
    "            new_spring = input(\"Add another spring? (Y/n): \") == \"Y\"\n",
    "    plt.legend(loc=\"best\")\n",
    "    plt.show()\n",
    "\n"
   ]
  },
  {
   "cell_type": "code",
   "execution_count": 4,
   "metadata": {
    "autoscroll": false,
    "ein.hycell": false,
    "ein.tags": "worksheet-0",
    "slideshow": {
     "slide_type": "-"
    }
   },
   "outputs": [
    {
     "data": {
      "text/plain": [
       "'11'"
      ]
     },
     "execution_count": 4,
     "metadata": {},
     "output_type": "execute_result"
    }
   ],
   "source": [
    "\"1\" + \"1\"\n"
   ]
  }
 ],
 "metadata": {
  "kernelspec": {
   "display_name": "Python 3",
   "language": "python",
   "name": "python3"
  },
  "language_info": {
   "codemirror_mode": {
    "name": "ipython",
    "version": 3
   },
   "file_extension": ".py",
   "mimetype": "text/x-python",
   "name": "python",
   "nbconvert_exporter": "python",
   "pygments_lexer": "ipython3",
   "version": "3.7.3"
  },
  "name": "92127-153706 - Rivett Luke Aaron - 20581074 - Jun 2, 2019 209 PM - oscillators.ipynb"
 },
 "nbformat": 4,
 "nbformat_minor": 2
}
