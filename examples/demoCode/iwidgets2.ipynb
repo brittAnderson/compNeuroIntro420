{
 "cells": [
  {
   "cell_type": "code",
   "execution_count": 1,
   "metadata": {
    "autoscroll": false,
    "ein.hycell": false,
    "ein.tags": "worksheet-0",
    "slideshow": {
     "slide_type": "-"
    }
   },
   "outputs": [
    {
     "data": {
      "application/vnd.jupyter.widget-view+json": {
       "model_id": "b52d677452d14a618f29e057dc1e909f",
       "version_major": 2,
       "version_minor": 0
      },
      "text/plain": [
       "interactive(children=(FloatSlider(value=0.0, description='Initial Position', max=5.0, min=-5.0, step=0.5, styl…"
      ]
     },
     "metadata": {},
     "output_type": "display_data"
    },
    {
     "data": {
      "application/vnd.jupyter.widget-view+json": {
       "model_id": "adf0e0ecd06a435db51144654a79286e",
       "version_major": 2,
       "version_minor": 0
      },
      "text/plain": [
       "interactive(children=(FloatSlider(value=1.0, description='Initial Velocity', max=5.0, min=-5.0, step=0.5, styl…"
      ]
     },
     "metadata": {},
     "output_type": "display_data"
    },
    {
     "data": {
      "application/vnd.jupyter.widget-view+json": {
       "model_id": "b7e103ff72b74e19bf0c6c3e85e0c6f5",
       "version_major": 2,
       "version_minor": 0
      },
      "text/plain": [
       "interactive(children=(FloatSlider(value=5.0, description='Spring Constant P', max=10.0, min=0.5, step=0.5, sty…"
      ]
     },
     "metadata": {},
     "output_type": "display_data"
    },
    {
     "data": {
      "application/vnd.jupyter.widget-view+json": {
       "model_id": "057070f6c156460a8fb655397542189a",
       "version_major": 2,
       "version_minor": 0
      },
      "text/plain": [
       "interactive(children=(FloatSlider(value=5.0, description='Friction k', max=10.0, step=0.5, style=SliderStyle(d…"
      ]
     },
     "metadata": {},
     "output_type": "display_data"
    },
    {
     "data": {
      "application/vnd.jupyter.widget-view+json": {
       "model_id": "8b2f2d687b8445f5bb7f06c2718bac17",
       "version_major": 2,
       "version_minor": 0
      },
      "text/plain": [
       "interactive(children=(FloatSlider(value=20.0, description='Duration of Simulation', min=1.0, step=1.0, style=S…"
      ]
     },
     "metadata": {},
     "output_type": "display_data"
    },
    {
     "data": {
      "application/vnd.jupyter.widget-view+json": {
       "model_id": "95289a3102d040eeb1af88b2b469684f",
       "version_major": 2,
       "version_minor": 0
      },
      "text/plain": [
       "interactive(children=(FloatSlider(value=0.1, description='Length of Time Steps', max=1.0, min=0.05, step=0.05,…"
      ]
     },
     "metadata": {},
     "output_type": "display_data"
    },
    {
     "data": {
      "application/vnd.jupyter.widget-view+json": {
       "model_id": "27802b46d631427fab5ac4b8971ceb7f",
       "version_major": 2,
       "version_minor": 0
      },
      "text/plain": [
       "interactive(children=(Button(description='Run Interact', style=ButtonStyle()), Output()), _dom_classes=('widge…"
      ]
     },
     "metadata": {},
     "output_type": "display_data"
    }
   ],
   "source": [
    "%matplotlib inline\n",
    "\n",
    "import matplotlib\n",
    "import matplotlib.pyplot as plt\n",
    "import math\n",
    "import ipywidgets as widgets\n",
    "\n",
    "# This program plots the dynamics of a harmonic spring with friction\n",
    "# a(t) = -Ps(t) -kv(t)\n",
    "\n",
    "class Simulation:\n",
    "    Y_AXIS_TITLES = {\"s\": \"position\",\n",
    "                     \"v\": \"velocity\",\n",
    "                     \"a\": \"acceleration\"}\n",
    "    \n",
    "    def __init__(self, initS, initV, P, k, duration, dt):\n",
    "        self.initS = initS\n",
    "        self.initV = initV\n",
    "        self.P = P\n",
    "        self.k = k\n",
    "        self.duration = duration\n",
    "        self.dt = dt\n",
    "        self.results = None\n",
    "    \n",
    "    # Simulate the spring to populate the results dict\n",
    "    def run(self):\n",
    "        self.results = {\"s\": [self.initS],\n",
    "                        \"v\": [self.initV],\n",
    "                        \"a\": []}\n",
    "        self.aStep()      \n",
    "        stepcount = math.ceil(self.duration / self.dt)\n",
    "        for step in range(stepcount):\n",
    "            self.aStep()\n",
    "            self.vStep()\n",
    "            self.sStep()\n",
    "        self.times = [step * self.dt for step in range(0, stepcount + 1)]\n",
    "        \n",
    "    def aStep(self):\n",
    "        s = self.results[\"s\"][-1]\n",
    "        v = self.results[\"v\"][-1]\n",
    "        self.results[\"a\"].append(-self.P * s - self.k * v * self.dt)\n",
    "        \n",
    "    def vStep(self):\n",
    "        v = self.results[\"v\"][-1]\n",
    "        a = self.results[\"a\"][-1]\n",
    "        self.results[\"v\"].append(v + a * self.dt)\n",
    "\n",
    "    def sStep(self):\n",
    "        s = self.results[\"s\"][-1]\n",
    "        v = self.results[\"v\"][-1]\n",
    "        self.results[\"s\"].append(s + v * self.dt)\n",
    "\n",
    "    # Plot s, v, or a against time\n",
    "    def plot(self, data = \"s\"):\n",
    "        plt.axhline(color = \"gray\")\n",
    "        plt.plot(self.times, self.results[data])\n",
    "        plt.xlabel(\"time\")\n",
    "        plt.ylabel(Simulation.Y_AXIS_TITLES[data])\n",
    "        \n",
    "    # Plot s, v, and a side-by-side\n",
    "    def plotAll(self, subplotHeight=1, subplotWidth=3, subplotIndexStart=1):\n",
    "        plt.subplot(subplotHeight, subplotWidth, subplotIndexStart)\n",
    "        self.plot(\"s\")\n",
    "        plt.subplot(subplotHeight, subplotWidth, subplotIndexStart + 1)\n",
    "        self.plot(\"v\")\n",
    "        plt.subplot(subplotHeight, subplotWidth, subplotIndexStart + 2)\n",
    "        self.plot(\"a\")\n",
    "\n",
    "        \n",
    "# Hardcoded values for testing\n",
    "initS = 0\n",
    "initV = 1\n",
    "P = 1\n",
    "k = 1\n",
    "duration = 10\n",
    "dt = 0.1\n",
    "\n",
    "sim1 = Simulation(initS, initV, P, k, duration, dt)\n",
    "sim1.run()\n",
    "sim2 = Simulation(initS, initV, P, 0, duration, dt)\n",
    "sim2.run()\n",
    "\n",
    "def plotResults():\n",
    "    plt.close()\n",
    "    plt.figure(figsize=(20,5))\n",
    "    sim1.plotAll(2, 3, 1)\n",
    "    sim2.plotAll(2, 3, 4)\n",
    "    plt.show()\n",
    "\n",
    "# UI widgets\n",
    "@widgets.interact(s = widgets.widgets.FloatSlider(\n",
    "    value = 0.0,\n",
    "    min = -5.0,\n",
    "    max = 5.0,\n",
    "    step = 0.5,\n",
    "    description = \"Initial Position\",\n",
    "    style = {'description_width': 'initial'}))\n",
    "def setInitS(s):\n",
    "    sim1.initS = s\n",
    "    sim2.initS = s\n",
    "    \n",
    "@widgets.interact(v = widgets.FloatSlider(\n",
    "    value = 1.0,\n",
    "    min = -5,\n",
    "    max = 5,\n",
    "    step = 0.5,\n",
    "    description = \"Initial Velocity\",\n",
    "    style = {'description_width': 'initial'}))\n",
    "def setInitV(v):\n",
    "    sim1.initV = v\n",
    "    sim2.initV = v\n",
    "    \n",
    "@widgets.interact(P = widgets.FloatSlider(\n",
    "    value = 5.0,\n",
    "    min = 0.5,\n",
    "    max = 10.0,\n",
    "    step = 0.5,\n",
    "    description = \"Spring Constant P\",\n",
    "    style = {'description_width': 'initial'}))\n",
    "def setP(P):\n",
    "    sim1.P = P\n",
    "    sim2.P = P\n",
    "    \n",
    "@widgets.interact(k = widgets.FloatSlider(\n",
    "    value = 5.0,\n",
    "    min = 0.0,\n",
    "    max = 10.0,\n",
    "    step = 0.5,\n",
    "    description = \"Friction k\",\n",
    "    style = {'description_width': 'initial'}))\n",
    "def setK(k):\n",
    "    sim1.k = k\n",
    "    sim2.k = 0 # k2 is always 0 for our simulation\n",
    "    \n",
    "@widgets.interact(duration = widgets.FloatSlider(\n",
    "    value = 20,\n",
    "    min = 1,\n",
    "    max = 100,\n",
    "    step = 1,\n",
    "    description = \"Duration of Simulation\",\n",
    "    style = {'description_width': 'initial'}))\n",
    "def setDuration(duration):\n",
    "    sim1.duration = duration\n",
    "    sim2.duration = duration\n",
    "    \n",
    "@widgets.interact(dt = widgets.FloatSlider(\n",
    "    value = 0.1,\n",
    "    min = 0.05,\n",
    "    max = 1,\n",
    "    step = 0.05,\n",
    "    description = \"Length of Time Steps\",\n",
    "    style = {'description_width': 'initial'}))\n",
    "def setDt(dt):\n",
    "    sim1.dt = dt\n",
    "    sim2.dt = dt\n",
    "    \n",
    "def runSimulation():\n",
    "    sim1.run()\n",
    "    sim2.run()\n",
    "    plotResults()\n",
    "      \n",
    "runButton = widgets.interact_manual(runSimulation)\n",
    "runButton.widget.children[0].description = \"Run Simulation\""
   ]
  },
  {
   "cell_type": "code",
   "execution_count": null,
   "metadata": {
    "autoscroll": false,
    "ein.hycell": false,
    "ein.tags": "worksheet-0",
    "slideshow": {
     "slide_type": "-"
    }
   },
   "outputs": [],
   "source": []
  }
 ],
 "metadata": {
  "kernelspec": {
   "display_name": "Python 3",
   "language": "python",
   "name": "python3"
  },
  "language_info": {
   "codemirror_mode": {
    "name": "ipython",
    "version": 3
   },
   "file_extension": ".py",
   "mimetype": "text/x-python",
   "name": "python",
   "nbconvert_exporter": "python",
   "pygments_lexer": "ipython3",
   "version": "3.7.3"
  },
  "name": "90377-153706 - Munce Nolan Matthew - 20569610 - Jun 1, 2019 423 AM - nmmunce_spring.ipynb"
 },
 "nbformat": 4,
 "nbformat_minor": 2
}
