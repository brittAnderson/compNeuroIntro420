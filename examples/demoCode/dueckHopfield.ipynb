{
 "cells": [
  {
   "cell_type": "code",
   "execution_count": 515,
   "metadata": {},
   "outputs": [],
   "source": [
    "import numpy as np\n",
    "import random\n",
    "import matplotlib\n",
    "import matplotlib.pyplot as p\n",
    "import math"
   ]
  },
  {
   "cell_type": "code",
   "execution_count": 520,
   "metadata": {},
   "outputs": [],
   "source": [
    "#Generate hopfield net that encodes x matricies of y*y size\n",
    "\n",
    "# generate 1d pattern of random values in [-1,1]\n",
    "def gen2dPattern(size):\n",
    "    return (np.round(np.random.rand(size)) * 2) -1\n",
    "\n",
    "# generate hopfield network (affinity matrix between node i and nodes != i)\n",
    "# multiple input patterns share matrix values\n",
    "def genNetwork(inputPatterns):\n",
    "    assert(inputPatterns.size > 0)\n",
    "    w = np.zeros((inputPatterns[0].size, inputPatterns[0].size))\n",
    "    \n",
    "    # for each weight\n",
    "    for i in range(0, w.shape[0]):\n",
    "        for j in range(0, w.shape[1]):\n",
    "            acc = 0\n",
    "            for x in range(0, inputPatterns.shape[0]):\n",
    "                acc += inputPatterns[x][i] * inputPatterns[x][j]\n",
    "            w[i,j] = acc #/ inputPatterns.shape[0]\n",
    "    np.fill_diagonal(w,0)\n",
    "    return w\n",
    "    \n",
    "# generate prediction from weight matrix\n",
    "def updateNode(n, w):\n",
    "    print(\"New pattern...\")\n",
    "    n_update = np.copy(n)\n",
    "    while True:\n",
    "        print(\"epoch\")\n",
    "        n_check = np.copy(n_update)\n",
    "        for i in range(0, n.size):\n",
    "            v = 0\n",
    "            for j in range(0, n.size):\n",
    "                if i != j:\n",
    "                    v += w[j,i] * n_update[j]\n",
    "            if v >= 0:\n",
    "                n_update[i] = 1\n",
    "            else:\n",
    "                n_update[i] = -1\n",
    "\n",
    "        if np.all(np.equal(n_check, n_update)):\n",
    "            return n_update\n",
    "    raise Exception(\"Failed control flow\")\n",
    "\n",
    "# gaussian blurs matrix\n",
    "# blurring is wrapped\n",
    "# assumes convertable to 2d\n",
    "def distortPattern(p):\n",
    "    assert(int(math.sqrt(p.size) + 0.5) ** 2 == p.size)\n",
    "    dim = int(math.sqrt(p.size))\n",
    "    p_distort = np.copy(p)\n",
    "    \n",
    "    for i in range(0, p.size):\n",
    "        p_distort[i] = (p[i] \n",
    "                        + p[(i+1)%p.size] \n",
    "                        + p[(i-1)%p.size] \n",
    "                        + p[(i+dim)%p.size] \n",
    "                        + p[(i+dim+1)%p.size]\n",
    "                        + p[(i+dim-1)%p.size] \n",
    "                        + p[(i-dim)%p.size]\n",
    "                        + p[(i-dim+1)%p.size]\n",
    "                        + p[(i-dim-1)%p.size]) / 9\n",
    "        \n",
    "            \n",
    "    return p_distort"
   ]
  },
  {
   "cell_type": "code",
   "execution_count": 521,
   "metadata": {},
   "outputs": [
    {
     "name": "stdout",
     "output_type": "stream",
     "text": [
      "Generated patterns.\n",
      "Generating Network...\n",
      "Generated Test input patterns.\n",
      "Updating test patterns...\n",
      "New pattern...\n",
      "epoch\n",
      "epoch\n",
      "New pattern...\n",
      "epoch\n",
      "epoch\n",
      "New pattern...\n",
      "epoch\n",
      "epoch\n",
      "Regenerated patterns.\n"
     ]
    }
   ],
   "source": [
    "# preset constants\n",
    "patternDim = 10\n",
    "patternSize = patternDim * patternDim\n",
    "numPatterns = 3\n",
    "\n",
    "#generate random patterns\n",
    "np.random.seed(400000000)\n",
    "patterns = gen2dPattern(patternSize)\n",
    "for i in range(1, numPatterns):\n",
    "    patterns = np.vstack((patterns, gen2dPattern(patternSize)))\n",
    "# dependancy of hopPlot\n",
    "if numPatterns == 1:\n",
    "    patterns = np.array([patterns])\n",
    "print(\"Generated patterns.\")\n",
    "\n",
    "print(\"Generating Network...\")\n",
    "hn = genNetwork(patterns)\n",
    "#print(hn)\n",
    "\n",
    "ins = np.array([distortPattern(i) for i in patterns])\n",
    "print(\"Generated Test input patterns.\")\n",
    "\n",
    "print(\"Updating test patterns...\")\n",
    "outs = np.array([updateNode(o, hn) for o in ins])\n",
    "print(\"Regenerated patterns.\")\n"
   ]
  },
  {
   "cell_type": "code",
   "execution_count": 522,
   "metadata": {},
   "outputs": [
    {
     "name": "stdout",
     "output_type": "stream",
     "text": [
      "Learned Patterns\n"
     ]
    },
    {
     "data": {
      "image/png": "[encoded data removed]",
      "text/plain": [
       "<Figure size 432x288 with 1 Axes>"
      ]
     },
     "metadata": {
      "needs_background": "light"
     },
     "output_type": "display_data"
    },
    {
     "data": {
      "image/png": "[encoded data removed]",
      "text/plain": [
       "<Figure size 432x288 with 1 Axes>"
      ]
     },
     "metadata": {
      "needs_background": "light"
     },
     "output_type": "display_data"
    },
    {
     "data": {
      "image/png": "[encoded data removed]",
      "text/plain": [
       "<Figure size 432x288 with 1 Axes>"
      ]
     },
     "metadata": {
      "needs_background": "light"
     },
     "output_type": "display_data"
    },
    {
     "name": "stdout",
     "output_type": "stream",
     "text": [
      "Hopfield Network (Affinity Matrix)\n"
     ]
    },
    {
     "data": {
      "image/png": "[encoded data removed]",
      "text/plain": [
       "<Figure size 432x288 with 1 Axes>"
      ]
     },
     "metadata": {
      "needs_background": "light"
     },
     "output_type": "display_data"
    },
    {
     "name": "stdout",
     "output_type": "stream",
     "text": [
      "Start Pattern  | Regenerated  |  Differences\n"
     ]
    },
    {
     "data": {
      "image/png": "[encoded data removed]",
      "text/plain": [
       "<Figure size 432x288 with 9 Axes>"
      ]
     },
     "metadata": {
      "needs_background": "light"
     },
     "output_type": "display_data"
    }
   ],
   "source": [
    "def hopPlot(ins,outs): \n",
    "    r = len(ins)\n",
    "    c = 3\n",
    "    pltcntr = 1\n",
    "    for i in range(r):\n",
    "        p.subplot(r,3,pltcntr)\n",
    "        p.imshow(ins[i])\n",
    "        p.subplot(r,3,(pltcntr+1))\n",
    "        p.imshow(outs[i])\n",
    "        p.subplot(r,3,(pltcntr+2))\n",
    "        p.imshow(ins[i]-outs[i])\n",
    "        pltcntr = pltcntr+3\n",
    "    return(p)\n",
    "\n",
    "imagify = lambda p: p.reshape((patternDim, patternDim))\n",
    "ps = np.array([imagify(p) for p in patterns])\n",
    "ins = np.array([imagify(i) for i in ins])\n",
    "outs = np.array([imagify(o) for o in outs])\n",
    "\n",
    "print(\"Learned Patterns\")\n",
    "for i in range(len(ps)):\n",
    "    p.imshow(ps[i])\n",
    "    p.show()\n",
    "\n",
    "print(\"Hopfield Network (Affinity Matrix)\")\n",
    "p.imshow(hn)\n",
    "p.show()\n",
    "    \n",
    "print(\"Start Pattern  | Regenerated  |  Differences\")\n",
    "hopPlot(ins, outs).show()"
   ]
  },
  {
   "cell_type": "markdown",
   "metadata": {},
   "source": [
    "**What's going on?**\n",
    "\n",
    "The above \"Learned Patterns\" are used to generate the affinity matrix of the Hopfield network.\n",
    "\n",
    "Next the learned patterns are linearly gaussian blurred (filter size of 3x3).\n",
    "\n",
    "Then we asynchonously update the pixels of the blurred images using the network's affinity matrix to guess the most likely value based on the rest of the image.\n",
    "\n",
    "As seen above, even heavily blurred images (with floating point values) restabalize to their original.\n",
    "\n",
    "This suggests that images compressed or downsampled could be regenerated by a hopfield network (possible compression technique?)"
   ]
  },
  {
   "cell_type": "code",
   "execution_count": null,
   "metadata": {},
   "outputs": [],
   "source": []
  }
 ],
 "metadata": {
  "kernelspec": {
   "display_name": "Python 3",
   "language": "python",
   "name": "python3"
  },
  "language_info": {
   "codemirror_mode": {
    "name": "ipython",
    "version": 3
   },
   "file_extension": ".py",
   "mimetype": "text/x-python",
   "name": "python",
   "nbconvert_exporter": "python",
   "pygments_lexer": "ipython3",
   "version": "3.6.5"
  }
 },
 "nbformat": 4,
 "nbformat_minor": 2
}
