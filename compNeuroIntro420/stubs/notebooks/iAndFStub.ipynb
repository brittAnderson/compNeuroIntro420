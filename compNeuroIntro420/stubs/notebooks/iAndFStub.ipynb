{
 "cells": [
  {
   "cell_type": "markdown",
   "metadata": {},
   "source": [
    "## Stub for Generating Your Own I and F simulation in Python"
   ]
  },
  {
   "cell_type": "code",
   "execution_count": null,
   "metadata": {},
   "outputs": [],
   "source": [
    "%matplotlib inline\n",
    "import matplotlib.pyplot as p\n",
    "import numpy as np\n",
    "\n",
    "#define constants - you will need to replace most of these numbers\n",
    "dt = 0; #time step is \"delta\" t\n",
    "maxT = 0; # maximum time for simulation\n",
    "time = np.arange(0,maxT,dt)\n",
    "cap = 0;# capacitance set to 1, why?\n",
    "res = 0;# resistance\n",
    "thresh = 0; #threshold for spike - why is this needed?\n",
    "spikeDisplay = 0; # arbitrary value used for \"pasting on\" a spike. Not needed, just nice for display.\n",
    "tau = 1.0/(res*cap)\n",
    "voltage = [0];#what does the \"0\" represent here?\n",
    "injCurrent = (0.0,0.0);#using tuple to represent when to start and end \"current\" injection\n",
    "curMag = 0.0\n",
    "\n",
    "def newVal(ov,dt,dv):\n",
    "    return(\"equation needed here\")\n",
    "\n",
    "def dvdt(tau,res,v,i):\n",
    "    return(\"equation needed here\"))\n",
    "\n",
    "\n",
    "\n",
    "for j in time:\n",
    "    if (injCurrent[0] < j <= injCurrent[1]):\n",
    "        curCur = \"?\" ;#what should happen if the time is between the current start and stop?\n",
    "    else:\n",
    "        curCur = 0\n",
    "    tempV = newVal(voltage[-1],dt,dvdt(tau,res,voltage[-1],curCur));# what is happening here?\n",
    "    if voltage[-1] == spikeDisplay: \n",
    "        \"what voltage values gets appended if we just spiked\"\n",
    "    elif tempV > thresh:\n",
    "        \"what voltage value gets appended in we are over threshold, but did not just spike\"\n",
    "    else: \n",
    "        \"otherwise we what?\"\n",
    "        \n",
    "    \n",
    "#Will let you plot - avoid future frustation and figure out why I had to be explicit about which voltages to plot\n",
    "p.plot(time,voltage[0:-1])\n",
    "p.show()"
   ]
  }
 ],
 "metadata": {
  "kernelspec": {
   "display_name": "Python 3",
   "language": "python",
   "name": "python3"
  },
  "language_info": {
   "codemirror_mode": {
    "name": "ipython",
    "version": 3
   },
   "file_extension": ".py",
   "mimetype": "text/x-python",
   "name": "python",
   "nbconvert_exporter": "python",
   "pygments_lexer": "ipython3",
   "version": "3.5.2"
  }
 },
 "nbformat": 4,
 "nbformat_minor": 2
}
