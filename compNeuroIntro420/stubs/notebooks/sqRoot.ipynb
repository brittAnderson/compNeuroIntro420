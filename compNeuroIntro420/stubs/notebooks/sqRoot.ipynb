{
 "cells": [
  {
   "cell_type": "code",
   "execution_count": null,
   "metadata": {},
   "outputs": [],
   "source": [
    "def square (x):\n",
    "    #undefined\n",
    "    \n",
    "def derivSq (x):\n",
    "    #undefined\n",
    "\n",
    "def sqRoot(n,initGuess = 5.0):\n",
    "    guesses = [initGuess]\n",
    "    errors = [10000.0]\n",
    "    tolerance = 0.01\n",
    "    i = 0\n",
    "#    while not (errors[-1] < tolerance):\n",
    "    while (abs(errors[-1]) > tolerance):i\n",
    "      #stuff needed here#\n",
    "    \n",
    "    #what is the meaning of all the -1's\n",
    "    return(guesses[-1])\n",
    "\n",
    "def main():\n",
    "    testNum = input(\"Square root of ?\\n\")\n",
    "    print (\"Answer is: %f\\n\" % squareRoot(float(testNum)))\n",
    "\n",
    "if __name__ == \"__main__\":\n",
    "    main()\n"
   ]
  }
 ],
 "metadata": {
  "kernelspec": {
   "display_name": "Python 3",
   "language": "python",
   "name": "python3"
  },
  "language_info": {
   "codemirror_mode": {
    "name": "ipython",
    "version": 3
   },
   "file_extension": ".py",
   "mimetype": "text/x-python",
   "name": "python",
   "nbconvert_exporter": "python",
   "pygments_lexer": "ipython3",
   "version": "3.5.2"
  }
 },
 "nbformat": 4,
 "nbformat_minor": 2
}
