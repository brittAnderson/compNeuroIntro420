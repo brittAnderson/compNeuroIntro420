{
 "cells": [
  {
   "cell_type": "markdown",
   "metadata": {},
   "source": [
    "# Formulas and Values for HH model"
   ]
  },
  {
   "cell_type": "markdown",
   "metadata": {},
   "source": [
    "# HH Formula\n",
    "\n",
    "$c~\\frac{dV}{dt} = I_{tot} - (\\bar{g}_{Na} m^3 h (V(t) - E_{Na}) + \\bar{g}_{K} n^4 (V(t) - E_{K}) + \\bar{g}_{L} (V(t) - E_{L}))$"
   ]
  },
  {
   "cell_type": "markdown",
   "metadata": {},
   "source": [
    "## M, N, H derivative with time look like:\n",
    "\n",
    " $ \\dot{m} = \\alpha_m (V)(1 - m) - \\beta_m (V) m $"
   ]
  },
  {
   "cell_type": "markdown",
   "metadata": {},
   "source": [
    "## Constants\n",
    "\n",
    "Constant | Value\n",
    "---------|------\n",
    "ena      |   115\n",
    "gna      |   120\n",
    "ek       |   -12\n",
    "gk       |    36\n",
    "el       |  10.6\n",
    "gl       |   0.3"
   ]
  },
  {
   "cell_type": "markdown",
   "metadata": {},
   "source": [
    "## Alpha and Beta Formulas\n",
    "\n",
    "$\n",
    "\\alpha _{n}(V_{m})={\\frac {0.01(10-V_{m})}{\\exp {\\big (}{\\frac {10-V_{m}}{10}}{\\big )}-1}}$\n",
    "\n",
    "$\\alpha _{m}(V_{m})={\\frac {0.1(25-V_{m})}{\\exp {\\big (}{\\frac {25-V_{m}}{10}}{\\big )}-1}}$\n",
    "\n",
    "$\\alpha _{h}(V_{m})=0.07\\exp {\\bigg (}{\\frac {-V_{m}}{20}}{\\bigg )}$\n",
    "\n",
    "$\\beta _{n}(V_{m})=0.125\\exp {\\bigg (}{\\frac {-V_{m}}{80}}{\\bigg )}$\n",
    "\n",
    "$\\beta _{m}(V_{m})=4\\exp {\\bigg (}{\\frac {-V_{m}}{18}}{\\bigg )}$\n",
    "\n",
    "$\\beta _{h}(V_{m})={\\frac {1}{\\exp {\\big (}{\\frac {30-V_{m}}{10}}{\\big )}+1}}\n",
    "$"
   ]
  }
 ],
 "metadata": {
  "kernelspec": {
   "display_name": "Python 3",
   "language": "python",
   "name": "python3"
  },
  "language_info": {
   "codemirror_mode": {
    "name": "ipython",
    "version": 3
   },
   "file_extension": ".py",
   "mimetype": "text/x-python",
   "name": "python",
   "nbconvert_exporter": "python",
   "pygments_lexer": "ipython3",
   "version": "3.5.2"
  }
 },
 "nbformat": 4,
 "nbformat_minor": 2
}
