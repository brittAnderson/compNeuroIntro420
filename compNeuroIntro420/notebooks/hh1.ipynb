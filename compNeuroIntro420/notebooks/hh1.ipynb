{
 "cells": [
  {
   "cell_type": "markdown",
   "metadata": {},
   "source": [
    "# What is a Differential Equation (DE) and Why Do We Care?"
   ]
  },
  {
   "cell_type": "markdown",
   "metadata": {},
   "source": [
    "Notes for future additions.\n",
    "Add notes on Hodgkin Huxley and foreshadow why DEs are important.\n",
    "Memory decay. Neuron models.\n",
    "plot an exponential\n",
    "compound interest\n",
    "plot compound interest - what looks similar/why.\n",
    "Discuss solving a de - by equation, analytically - but don't do it now. Come back to it. "
   ]
  },
  {
   "cell_type": "markdown",
   "metadata": {},
   "source": [
    "## Questions\n",
    "   1. What does the abbreviation stand for?\n",
    "   2. What are they?\n",
    "   3. What good are they?\n",
    "   4. What are the notations for a *derivative*?\n",
    "   "
   ]
  },
  {
   "cell_type": "markdown",
   "metadata": {},
   "source": [
    "## Answers :noexport:\n",
    "   1. Differential Equations\n",
    "   2. An equation with a derivative\n",
    "   3. Incorporating rates of changes to update estimates of a state. Consider estimating location from a velocity. "
   ]
  },
  {
   "cell_type": "markdown",
   "metadata": {},
   "source": [
    "## Derivative Notations\n",
    "      \n",
    "\n",
    "$$\\frac{dy}{dx}$$\n",
    "$$\\dot{x}$$\n",
    "$$x'$$\n",
    "$$f'(x)$$"
   ]
  },
  {
   "cell_type": "markdown",
   "metadata": {},
   "source": [
    "## Questions\n",
    "\n",
    "   1. What is a cube root?\n",
    "   2. In your head guess the square root of 128.\n",
    "   3. Write a formula that would allow me to compute the error (or how far off you were).\n",
    "   4. How much should you adjust your guess to get closer to the correct answer?\n",
    "   5. What is the derivative of $x^3$? Use the formula.\n",
    "   6. Using this derivative make an estimate of how much you need to change your guess, and give a reason why this should work graphically.\n",
    "   7. What happens to the sign of the \"adjustment\" when our guesses go from giving us to big an answer to too little an answer.\n",
    "\n",
    "\n",
    "## Answers :noexport:\n",
    "\n",
    "   1. The solution to $y = x^3$.\n",
    "      \n",
    "      This is what I will have them code, but for the example might be better to stick with what is in the book. Might talk about what it means to be a \"solution.\" And also might point out the similarity to regression equations and dependent and independent variables. Helps them see they sort of already \"know\" this stuff. Could try to elicit this as a question. For answers they could talk about fixing \"y\" or we could see how we want the two sides to be equal, and this means if we subtract one from the other the difference (sounds like differential; sounds like derivative) should be zero.\n",
    "      - Terminology\n",
    "\t+ finding the roots\n",
    "\t+ finding the zeros\n",
    "\n",
    "   2. \n",
    "\n",
    "   3. $\\mbox{Error} = \\mbox{(my guess)}^2 - \\mbox{128}$; get someone to come write it up on the board.\n",
    "\n",
    "   4. test\n",
    "\n",
    "      #+Begin_Src python :results file :exports both"
   ]
  },
  {
   "cell_type": "code",
   "execution_count": 3,
   "metadata": {},
   "outputs": [
    {
     "data": {
      "text/plain": [
       "[<matplotlib.lines.Line2D at 0x7f87b7d312b0>]"
      ]
     },
     "execution_count": 3,
     "metadata": {},
     "output_type": "execute_result"
    },
    {
     "data": {
      "image/png": "[encoded data removed]",
      "text/plain": [
       "<matplotlib.figure.Figure at 0x7f87ba19f400>"
      ]
     },
     "metadata": {},
     "output_type": "display_data"
    }
   ],
   "source": [
    "%matplotlib inline\n",
    "\n",
    "import matplotlib, numpy\n",
    "a = numpy.linspace(-4,6,num=120)\n",
    "b = [x**3 for x in a];#list comprehension\n",
    "import matplotlib.pyplot as p\n",
    "p.plot(a,b)\n",
    "p.plot([2,2],[-100,8], 'k-',lw=2)\n",
    "p.plot([-4,2],[8,8], 'k-',lw=2)\n",
    "p.plot([4,4],[64,-100], 'k-',lw=2)\n",
    "p.plot([-4,6],[-64,56], 'r-',lw=2)\n",
    "p.plot([-4,4],[64,64], 'k-',lw=2)\n",
    "p.plot([4,6],[64,64], 'k--',lw=2)\n",
    "p.plot([2,4],[8,64], 'k-',lw=2)"
   ]
  },
  {
   "cell_type": "code",
   "execution_count": null,
   "metadata": {},
   "outputs": [],
   "source": [
    "   5. Need them to see it as slope. Rise over run. Can now try to help them see how if you shrink the run to 0 you get the slope at a point. This gives us a way to compute derivatives.\n",
    "\n",
    "   6. \n",
    "\n",
    "   7. $\\frac{\\Delta~\\mbox{Error}}{\\Delta~\\mbox{Guess}} = \\frac{\\mbox{Error(Guess1) - Error(Guess0)}}{\\mbox{Guess1} - \\mbox{Guess0}}$\n",
    "## Explorations \n",
    "   :Properties:\n",
    "   :CUSTOM_ID: explorations\n",
    "   :End:\n",
    "\n",
    "   1. Explorations can often start by drawing or sketching. Never underestimate the utility of trying to graph or visualize the problem.\n",
    "   2. Open up [[file:ch2Explore.ods][spreadsheet]]\n",
    "   3. Insert a formula for error of square root of 128\n",
    "      \n",
    "      How to specify a formula\n",
    "\n",
    "      ~$~ freezes column and row references.\n",
    "\n",
    "      How you get more flexibility by using references (variables) rather than ~hard coding~.\n",
    "\n",
    "   4. Class activity. Make a spreadsheet that finds the cube root of any number.\n",
    "\n",
    "   5. Same thing in Python\n",
    "\n",
    "\n",
    "   #+BEGIN_SRC python :session *newton# :results value :exports both"
   ]
  },
  {
   "cell_type": "markdown",
   "metadata": {},
   "source": [
    "### Cube Root Script Python"
   ]
  },
  {
   "cell_type": "code",
   "execution_count": 8,
   "metadata": {},
   "outputs": [
    {
     "name": "stdout",
     "output_type": "stream",
     "text": [
      "         errors   guesses\n",
      "0  10000.000000  5.000000\n",
      "1      3.000000  5.040000\n",
      "2     -0.024064  5.039684\n",
      "3     -0.000002  5.039684\n"
     ]
    }
   ],
   "source": [
    "import pandas as pd\n",
    "\n",
    "guesses = [5.0]\n",
    "errors = [10000]\n",
    "tolerance = 0.01\n",
    "    \n",
    "def cube (x):\n",
    "    return x**3\n",
    "\n",
    "def derivCube (x):\n",
    "    return 3*x**2\n",
    "\n",
    "while (abs(errors[-1]) > tolerance):\n",
    "    errors.append(128 - cube(guesses[-1]))\n",
    "    guesses.append(errors[-1]/derivCube(guesses[-1]) + guesses[-1])\n",
    "\n",
    "print(pd.DataFrame({'errors':errors,'guesses':guesses}))"
   ]
  },
  {
   "cell_type": "markdown",
   "metadata": {},
   "source": [
    "### Standalone Cube Root Program"
   ]
  },
  {
   "cell_type": "code",
   "execution_count": 10,
   "metadata": {},
   "outputs": [
    {
     "name": "stdout",
     "output_type": "stream",
     "text": [
      "Cube root of ?\n",
      "64\n",
      "Answer is: 4.000000\n",
      "\n"
     ]
    }
   ],
   "source": [
    "def cube (x):\n",
    "    return x**3\n",
    "\n",
    "def derivCube (x):\n",
    "    return 3*x**2\n",
    "\n",
    "def cubeRoot(n,initGuess = 5.0):\n",
    "    guesses = [initGuess]\n",
    "    errors = [10000.0]\n",
    "    tolerance = 0.01\n",
    "    i = 0\n",
    "#    while not (errors[-1] < tolerance):\n",
    "    while (abs(errors[-1]) > tolerance):\n",
    "        curError = n - cube(guesses[-1])\n",
    "#        print(\"curError = %f\" % curError)\n",
    "        errors.append(curError)\n",
    "        newGuess = errors[-1]/derivCube(guesses[-1]) + guesses[-1]\n",
    "#       print (\"newGuess = %f\" % newGuess)\n",
    "        guesses.append(newGuess)\n",
    "\n",
    "    return(guesses[-1])\n",
    "\n",
    "def main():\n",
    "    testNum = input(\"Cube root of ?\\n\")\n",
    "    print (\"Answer is: %f\\n\" % cubeRoot(float(testNum)))\n",
    "\n",
    "if __name__ == \"__main__\":\n",
    "    main()"
   ]
  },
  {
   "cell_type": "markdown",
   "metadata": {},
   "source": [
    "# Intermission Github\n",
    "\n",
    "## A way to share code or anything - e.g. text/doc files\n",
    " \n",
    "   1. No cost if public. For private you might have to pay.\n",
    "   2. Uses =git=. Don't have to use [github](https://github.com/) to use [git tutorial](https://www.atlassian.com/git/tutorials/) (note Bitbucket is another option for free hosting). I mostly use a machine in my office as the main site of my repositories, e.g. for these notes, and then I just ~clone~ them on to a new laptop if needed.\n",
    "   3. There are other programs for doing this.\n",
    "   4. Let's get everyone's feet wet.\n",
    "   5. You can have your own website there using [jekyll](http://jekyllrb.com/)\n",
    "   6. Again, you don't have to use github to use Jekyll. I use Jekyll for the [brittlab](https://brittlab.uwaterloo.ca) which is hosted on a University computer.\n",
    "   7. There can be a steep learning curve, but it is hard to do any permanent damage. Sometimes files look like they disappear, but they are still there. In fact it is harder to irreversibly delete stuff from a git repo than on a regular set up, and if you have a repo you have a back-up.\n",
    "   "
   ]
  },
  {
   "cell_type": "markdown",
   "metadata": {},
   "source": [
    "# Using a Differential Equation to Iterate\n",
    "\n",
    "  - Harken back to the travel example. To know where I will be I can estimate from where I am now and how fast my position is changing.\n",
    "  - A derivative is a rate of change. See the derivative from the cube root example. We can see how the error is changing as we change the independent variable, and use that to help us find out where we want to be.\n",
    "\n",
    "## Springs\n",
    "   \n",
    "   Before we go to the more advanced usage of the spiking models. Let's try something where me might have a little more physical intuition. \n",
    "\n",
    "   The equation [fn:parantheses] for the spring came from empirical observations. Just as the Hodgkin-Huxley model of the neuron that we will work up to. \n",
    "\n",
    "\\begin{equation} \n",
    "\\frac{d^2s}{dt} = -Ps(t) \n",
    "\\end{equation}\n",
    "\n",
    "### Begin with a spreadsheet\n",
    "\n",
    "### Try it with code\n",
    "\n",
    "#+INCLUDE: \"./spring.hs\" src haskell\n",
    "\n",
    "#+BEGIN_SRC sh :export code :results none\n",
    "runhaskell ./spring.hs\n",
    "#+END_SRC\n",
    "\n",
    "\n",
    "#+Name: spring.png\n",
    "#+Caption: Oscillation output of Haskell Spring Code\n",
    "[[./spring.png]]\n",
    "\n",
    "# Assignment\n",
    "  1. Sign-up for a github account\n",
    "  2. Clone the course repo.\n",
    "  3. Submit (in the dropbox to be created) a screenshot or some documentation that you did the above.\n",
    "  4. If you submit something to the repository, a recipie for how to do something, a snippet of code that works, a list of links to helpful sites, anything that you think might help me or your classmates, and I accept it, then I will give you some extra-credit.\n",
    "  5. Submit into the dropbox /either/ a spreadsheet program to compute the solution for $x^3 + x^2$ or a small computer program in any language of your choice.\n",
    "\n",
    "   \n",
    "[fn:parantheses] Note this is *not# s multiplied by t, but s as a function of t."
   ]
  }
 ],
 "metadata": {
  "kernelspec": {
   "display_name": "Python 3",
   "language": "python",
   "name": "python3"
  },
  "language_info": {
   "codemirror_mode": {
    "name": "ipython",
    "version": 3
   },
   "file_extension": ".py",
   "mimetype": "text/x-python",
   "name": "python",
   "nbconvert_exporter": "python",
   "pygments_lexer": "ipython3",
   "version": "3.5.2"
  }
 },
 "nbformat": 4,
 "nbformat_minor": 2
}
