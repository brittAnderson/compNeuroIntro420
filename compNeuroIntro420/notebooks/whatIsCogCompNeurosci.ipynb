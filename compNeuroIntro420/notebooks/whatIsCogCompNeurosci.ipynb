{
 "cells": [
  {
   "cell_type": "markdown",
   "metadata": {
    "slideshow": {
     "slide_type": "slide"
    }
   },
   "source": [
    "# Cognitive Computational Neuroscience\n",
    "\n",
    "What is it?"
   ]
  },
  {
   "cell_type": "markdown",
   "metadata": {
    "slideshow": {
     "slide_type": "slide"
    }
   },
   "source": [
    "## A New Conference\n",
    "\n",
    "An [article](https://doi.org/10.1016/j.tics.2018.02.008) discussing the motivations for the new meeting.\n",
    "\n",
    "The conference website program [index](http://ccneuro.org/index.html@p=618.html)."
   ]
  },
  {
   "cell_type": "code",
   "execution_count": 1,
   "metadata": {
    "slideshow": {
     "slide_type": "slide"
    }
   },
   "outputs": [],
   "source": [
    "#This is python code\n",
    "import random as r;#imports a library for using random numbers\n",
    "\n",
    "sids = list(range(1,12));#generates ids for each student\n",
    "abstractIds = list(range(1,242));#ids for each abstract\n",
    "\n",
    "#zip works like a zipper to zip together two lists into a \"tuple\"\n",
    "yourSearch = list(zip(sids,r.sample(abstractIds,len(sids))))"
   ]
  },
  {
   "cell_type": "code",
   "execution_count": 2,
   "metadata": {
    "slideshow": {
     "slide_type": "slide"
    }
   },
   "outputs": [
    {
     "data": {
      "text/plain": [
       "[(1, 96),\n",
       " (2, 222),\n",
       " (3, 186),\n",
       " (4, 149),\n",
       " (5, 185),\n",
       " (6, 205),\n",
       " (7, 141),\n",
       " (8, 36),\n",
       " (9, 191),\n",
       " (10, 194),\n",
       " (11, 202)]"
      ]
     },
     "execution_count": 2,
     "metadata": {},
     "output_type": "execute_result"
    }
   ],
   "source": [
    "yourSearch"
   ]
  },
  {
   "cell_type": "code",
   "execution_count": 5,
   "metadata": {
    "scrolled": true,
    "slideshow": {
     "slide_type": "slide"
    }
   },
   "outputs": [
    {
     "data": {
      "text/plain": [
       "[(6, 205),\n",
       " (5, 185),\n",
       " (4, 149),\n",
       " (8, 36),\n",
       " (1, 96),\n",
       " (9, 191),\n",
       " (10, 194),\n",
       " (11, 202),\n",
       " (2, 222),\n",
       " (7, 141),\n",
       " (3, 186)]"
      ]
     },
     "execution_count": 5,
     "metadata": {},
     "output_type": "execute_result"
    }
   ],
   "source": [
    "r.shuffle(yourSearch)\n",
    "\n",
    "yourSearch"
   ]
  },
  {
   "cell_type": "markdown",
   "metadata": {
    "slideshow": {
     "slide_type": "slide"
    }
   },
   "source": [
    "## Activity\n",
    "1. Find your abstract.\n",
    "2. Twenty minutes to read.\n",
    "3. Five minutes to present a summary."
   ]
  },
  {
   "cell_type": "markdown",
   "metadata": {
    "slideshow": {
     "slide_type": "subslide"
    }
   },
   "source": [
    "### Goal\n",
    "To understand the breadth of **techniques** and **topics** that fall under the heading of cognitive computational neuroscience. "
   ]
  },
  {
   "cell_type": "markdown",
   "metadata": {
    "slideshow": {
     "slide_type": "notes"
    }
   },
   "source": [
    "### Comments\n",
    "N.B. Almost any permutation of the words cognitve computation(al) model neuroscience will yield a slightly different community. \n",
    "\n",
    "Question: What is the difference between cognitive computational modeling and cognitive computational neuroscience."
   ]
  }
 ],
 "metadata": {
  "kernelspec": {
   "display_name": "Python 3",
   "language": "python",
   "name": "python3"
  },
  "language_info": {
   "codemirror_mode": {
    "name": "ipython",
    "version": 3
   },
   "file_extension": ".py",
   "mimetype": "text/x-python",
   "name": "python",
   "nbconvert_exporter": "python",
   "pygments_lexer": "ipython3",
   "version": "3.5.2"
  }
 },
 "nbformat": 4,
 "nbformat_minor": 2
}
