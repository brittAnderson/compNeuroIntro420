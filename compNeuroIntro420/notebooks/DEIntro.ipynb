{
 "cells": [
  {
   "cell_type": "markdown",
   "metadata": {
    "slideshow": {
     "slide_type": "slide"
    }
   },
   "source": [
    "# Differential Equations and Models of Neuronal Action Potentials"
   ]
  },
  {
   "cell_type": "markdown",
   "metadata": {
    "slideshow": {
     "slide_type": "subslide"
    }
   },
   "source": [
    "What is the use of DEs in psychology and neuroscience? Measures of change"
   ]
  },
  {
   "cell_type": "markdown",
   "metadata": {
    "slideshow": {
     "slide_type": "slide"
    }
   },
   "source": [
    "## What is a _DE_?\n"
   ]
  },
  {
   "cell_type": "markdown",
   "metadata": {
    "slideshow": {
     "slide_type": "subslide"
    }
   },
   "source": [
    "## Notations\n",
    "\n",
    "$\\frac{dy}{dx}$\n",
    "\n",
    "$\\dot{x}$\n",
    "\n",
    "$x'$\n",
    "\n",
    "$f'(x)$"
   ]
  },
  {
   "cell_type": "markdown",
   "metadata": {
    "slideshow": {
     "slide_type": "subslide"
    }
   },
   "source": [
    "### Derivatives are Instantaneous Slopes ###\n",
    "\n",
    "You pick two points that are \"close enough\" and you get an answer that is \"close enough.\"  If your answer isn't \"close enough\" then you move your points closer, until _in the limit_ there is an infinitesimal distance between them.\n",
    "\n",
    "Definition:\n",
    "\n",
    "$\\frac{dy}{dx} = \\lim_{h \\to 0}\\frac{f(x + h) - f(x)}{(x + h) - x}$"
   ]
  },
  {
   "cell_type": "markdown",
   "metadata": {
    "slideshow": {
     "slide_type": "slide"
    }
   },
   "source": [
    "## Slopes Graphed"
   ]
  },
  {
   "cell_type": "code",
   "execution_count": 63,
   "metadata": {
    "scrolled": false,
    "slideshow": {
     "slide_type": "fragment"
    },
    "tags": [
     "remove_cell"
    ]
   },
   "outputs": [
    {
     "data": {
      "image/png": "[encoded data removed]",
      "text/plain": [
       "<matplotlib.figure.Figure at 0x7fc1a701d208>"
      ]
     },
     "metadata": {},
     "output_type": "display_data"
    }
   ],
   "source": [
    "%matplotlib inline\n",
    "import matplotlib, numpy\n",
    "import matplotlib.pyplot as p\n",
    "a = numpy.linspace(-4,6,num=120)\n",
    "b = [x**3 for x in a];#list comprehension\n",
    "p.plot(a,b)\n",
    "p.plot([2,2],[-100,8], 'k-',lw=2)\n",
    "p.plot([-4,2],[8,8], 'k-',lw=2)\n",
    "p.plot([4,4],[64,-100], 'k-',lw=2)\n",
    "p.plot([-4,6],[-64,56], 'r-',lw=2)\n",
    "p.plot([-4,4],[64,64], 'k-',lw=2)\n",
    "p.plot([4,6],[64,64], 'k--',lw=2)\n",
    "p.plot([2,4],[8,64], 'k-',lw=2)\n",
    "p.show()"
   ]
  },
  {
   "cell_type": "markdown",
   "metadata": {
    "slideshow": {
     "slide_type": "slide"
    }
   },
   "source": [
    "#### What is a square root?\n",
    " #### What is the **solution** to $y=x^2$?"
   ]
  },
  {
   "cell_type": "markdown",
   "metadata": {
    "slideshow": {
     "slide_type": "subslide"
    }
   },
   "source": [
    "**Intuition Pumps for how to solve it**\n",
    "\n",
    "1. Come up with a guess (e.g. in your head what would you guess is the square root of 128?).\n",
    "2. Write a formula that would allow you to compute the error (or how far off you were).\n",
    "3. How much should you adjust your guess to get closer to the correct answer?\n",
    "4. What is the derivative of $x^2$? Does it have a place in your formula?\n",
    "5. Give a reason graphically why you ought to be able to use this derivative to help improve your guess.\n",
    "6. What happens to the sign of the \"adjustment\" when our guesses go from giving us to big an answer to too little an answer."
   ]
  },
  {
   "cell_type": "markdown",
   "metadata": {
    "slideshow": {
     "slide_type": "subslide"
    }
   },
   "source": [
    "$\\mbox{Error} = \\mbox{(my guess)}^2 - \\mbox{128}$"
   ]
  },
  {
   "cell_type": "markdown",
   "metadata": {
    "slideshow": {
     "slide_type": "subslide"
    }
   },
   "source": [
    "$\\frac{\\Delta~\\mbox{Error}}{\\Delta~\\mbox{Guess}} = \\frac{\\mbox{Error(Guess1) - Error(Guess0)}}{\\mbox{Guess1} - \\mbox{Guess0}}$"
   ]
  },
  {
   "cell_type": "markdown",
   "metadata": {
    "slideshow": {
     "slide_type": "subslide"
    }
   },
   "source": [
    "$$\\frac{\\mbox{dError}}{\\mbox{dGuess}} = \\frac{\\mbox{f(Guess1)} - \\mbox{goal} - \\mbox{f(Guess0)} + \\mbox{goal}}{\\mbox{Guess1} - \\mbox{Guess0}}$$"
   ]
  },
  {
   "cell_type": "code",
   "execution_count": 64,
   "metadata": {
    "scrolled": true,
    "slideshow": {
     "slide_type": "slide"
    }
   },
   "outputs": [
    {
     "data": {
      "text/plain": [
       "[<matplotlib.lines.Line2D at 0x7fc1a1daf2e8>]"
      ]
     },
     "execution_count": 64,
     "metadata": {},
     "output_type": "execute_result"
    },
    {
     "data": {
      "image/png": "[encoded data removed]",
      "text/plain": [
       "<matplotlib.figure.Figure at 0x7fc1a7061978>"
      ]
     },
     "metadata": {},
     "output_type": "display_data"
    }
   ],
   "source": [
    "#Error Plot\n",
    "#What is square root of 55?\n",
    "plotData = [(x**2-55,x) for x in numpy.arange(5.0,8.5,0.01)]\n",
    "p.plot([y[1] for y in plotData],[x[0] for x in plotData],)\n",
    "p.plot([5.0,8.5],[0,0],'r-')\n",
    "p.plot([numpy.sqrt(55),numpy.sqrt(55)],[12,-30],'r-')\n",
    "p.plot([5.0,8.0],[-30,0],'k--')\n",
    "p.plot([8.0,8.0],[-5,15],'g--')\n",
    "p.plot([8.0,8.0-(9.0/16)] , [9.0,0.0],'b')"
   ]
  },
  {
   "cell_type": "code",
   "execution_count": 65,
   "metadata": {
    "scrolled": true,
    "slideshow": {
     "slide_type": "slide"
    }
   },
   "outputs": [
    {
     "data": {
      "text/plain": [
       "[<matplotlib.lines.Line2D at 0x7fc1a1d709b0>]"
      ]
     },
     "execution_count": 65,
     "metadata": {},
     "output_type": "execute_result"
    },
    {
     "data": {
      "image/png": "[encoded data removed]",
      "text/plain": [
       "<matplotlib.figure.Figure at 0x7fc1a6e98828>"
      ]
     },
     "metadata": {},
     "output_type": "display_data"
    }
   ],
   "source": [
    "plotData = [(x**2-55,x) for x in numpy.arange(7.3,7.6,0.01)]\n",
    "p.plot([y[1] for y in plotData],[x[0] for x in plotData],)\n",
    "p.plot([7.0,7.5],[0,0],'r-')\n",
    "p.plot([numpy.sqrt(55),numpy.sqrt(55)],[3,-3],'r-')\n",
    "xs = [numpy.sqrt(55)-1/4,numpy.sqrt(55)+1/4]\n",
    "p.plot(xs , [16*x-119 for x in xs],'b')"
   ]
  },
  {
   "cell_type": "code",
   "execution_count": 66,
   "metadata": {
    "scrolled": true,
    "slideshow": {
     "slide_type": "slide"
    }
   },
   "outputs": [],
   "source": [
    "import pandas as pd\n",
    "\n",
    "#Constants\n",
    "guesses = [8.0]\n",
    "errors = [10000]\n",
    "tolerance = 0.01"
   ]
  },
  {
   "cell_type": "code",
   "execution_count": 67,
   "metadata": {
    "scrolled": true,
    "slideshow": {
     "slide_type": "subslide"
    }
   },
   "outputs": [],
   "source": [
    "#Local Functions\n",
    "def cube (x):\n",
    "    return(x**3)\n",
    "\n",
    "def derivCube (x):\n",
    "    return(3*x**2)\n",
    "    "
   ]
  },
  {
   "cell_type": "code",
   "execution_count": null,
   "metadata": {
    "scrolled": true,
    "slideshow": {
     "slide_type": "subslide"
    }
   },
   "outputs": [
    {
     "data": {
      "text/html": [
       "<div>\n",
       "<style scoped>\n",
       "    .dataframe tbody tr th:only-of-type {\n",
       "        vertical-align: middle;\n",
       "    }\n",
       "\n",
       "    .dataframe tbody tr th {\n",
       "        vertical-align: top;\n",
       "    }\n",
       "\n",
       "    .dataframe thead th {\n",
       "        text-align: right;\n",
       "    }\n",
       "</style>\n",
       "<table border=\"1\" class=\"dataframe\">\n",
       "  <thead>\n",
       "    <tr style=\"text-align: right;\">\n",
       "      <th></th>\n",
       "      <th>errors</th>\n",
       "      <th>guesses</th>\n",
       "    </tr>\n",
       "  </thead>\n",
       "  <tbody>\n",
       "    <tr>\n",
       "      <th>0</th>\n",
       "      <td>10000.000000</td>\n",
       "      <td>8.000000</td>\n",
       "    </tr>\n",
       "    <tr>\n",
       "      <th>1</th>\n",
       "      <td>-384.000000</td>\n",
       "      <td>6.000000</td>\n",
       "    </tr>\n",
       "    <tr>\n",
       "      <th>2</th>\n",
       "      <td>-88.000000</td>\n",
       "      <td>5.185185</td>\n",
       "    </tr>\n",
       "    <tr>\n",
       "      <th>3</th>\n",
       "      <td>-11.409643</td>\n",
       "      <td>5.043729</td>\n",
       "    </tr>\n",
       "    <tr>\n",
       "      <th>4</th>\n",
       "      <td>-0.308434</td>\n",
       "      <td>5.039687</td>\n",
       "    </tr>\n",
       "    <tr>\n",
       "      <th>5</th>\n",
       "      <td>-0.000247</td>\n",
       "      <td>5.039684</td>\n",
       "    </tr>\n",
       "  </tbody>\n",
       "</table>\n",
       "</div>"
      ],
      "text/plain": [
       "         errors   guesses\n",
       "0  10000.000000  8.000000\n",
       "1   -384.000000  6.000000\n",
       "2    -88.000000  5.185185\n",
       "3    -11.409643  5.043729\n",
       "4     -0.308434  5.039687\n",
       "5     -0.000247  5.039684"
      ]
     },
     "execution_count": 68,
     "metadata": {},
     "output_type": "execute_result"
    }
   ],
   "source": [
    "while (abs(errors[-1]) > tolerance):\n",
    "    errors.append(128 - cube(guesses[-1]))\n",
    "    guesses.append(errors[-1]/derivCube(guesses[-1]) + guesses[-1])\n",
    "\n",
    "pd.DataFrame({\n",
    "    'errors' : errors,\n",
    "    'guesses' :guesses\n",
    "})"
   ]
  },
  {
   "cell_type": "markdown",
   "metadata": {
    "slideshow": {
     "slide_type": "slide"
    }
   },
   "source": [
    "## A freestanding version"
   ]
  },
  {
   "cell_type": "code",
   "execution_count": null,
   "metadata": {
    "scrolled": false,
    "slideshow": {
     "slide_type": "subslide"
    }
   },
   "outputs": [],
   "source": [
    "def cube (x):\n",
    "    return x**3\n",
    "\n",
    "def derivCube (x):\n",
    "    return 3*x**2\n",
    "\n",
    "def cubeRoot(n,initGuess = 5.0):\n",
    "    guesses = [initGuess]\n",
    "    errors = [10000.0]\n",
    "    tolerance = 0.01\n",
    "    i = 0\n",
    "#    while not (errors[-1] < tolerance):\n",
    "    while (abs(errors[-1]) > tolerance):\n",
    "        curError = n - cube(guesses[-1])\n",
    "#        print(\"curError = %f\" % curError)\n",
    "        errors.append(curError)\n",
    "        newGuess = errors[-1]/derivCube(guesses[-1]) + guesses[-1]\n",
    "#       print (\"newGuess = %f\" % newGuess)\n",
    "        guesses.append(newGuess)\n",
    "\n",
    "    return(guesses[-1])\n",
    "\n",
    "def main():\n",
    "    testNum = input(\"Cube root of ?\\n\")\n",
    "    print (\"Answer is: %f\\n\" % cubeRoot(float(testNum)))\n",
    "\n",
    "if __name__ == \"__main__\":\n",
    "    main()\n"
   ]
  }
 ],
 "metadata": {
  "celltoolbar": "Slideshow",
  "kernelspec": {
   "display_name": "Python 3",
   "language": "python",
   "name": "python3"
  },
  "language_info": {
   "codemirror_mode": {
    "name": "ipython",
    "version": 3
   },
   "file_extension": ".py",
   "mimetype": "text/x-python",
   "name": "python",
   "nbconvert_exporter": "python",
   "pygments_lexer": "ipython3",
   "version": "3.5.2"
  },
  "livereveal": {
   "scroll": true
  }
 },
 "nbformat": 4,
 "nbformat_minor": 2
}
