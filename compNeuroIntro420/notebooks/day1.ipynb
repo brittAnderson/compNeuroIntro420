{
 "cells": [
  {
   "cell_type": "markdown",
   "metadata": {
    "ein.tags": "worksheet-0",
    "slideshow": {
     "slide_type": "slide"
    }
   },
   "source": [
    "# Cognitive Computational Neuroscience?\n",
    "1. What is it?\n",
    "2. What are the methods?\n",
    "3. What are the topics?\n",
    "4. What are the tools?\n",
    "\n",
    "[Cognitive Computational Neuroscience](./../mod1_whatIsCompCogNeurosci/whatIsCogCompNeurosci.ipynb)"
   ]
  },
  {
   "cell_type": "markdown",
   "metadata": {
    "ein.tags": "worksheet-0",
    "slideshow": {
     "slide_type": "slide"
    }
   },
   "source": [
    "## Computational Tooling"
   ]
  },
  {
   "cell_type": "markdown",
   "metadata": {
    "ein.tags": "worksheet-0",
    "slideshow": {
     "slide_type": "subslide"
    }
   },
   "source": [
    "### Languages\n",
    "\n",
    "1. Excel/LibreCalc\n",
    "2. [Python](https://docs.anaconda.com/anaconda/install/)\n",
    "3. [R](https://cran.r-project.org/)"
   ]
  },
  {
   "cell_type": "code",
   "execution_count": 1,
   "metadata": {
    "autoscroll": false,
    "ein.hycell": false,
    "ein.tags": "worksheet-0",
    "slideshow": {
     "slide_type": "subslide"
    }
   },
   "outputs": [
    {
     "name": "stdout",
     "output_type": "stream",
     "text": [
      "hello python!\n"
     ]
    }
   ],
   "source": [
    "print(\"hello python!\")"
   ]
  },
  {
   "cell_type": "code",
   "execution_count": 13,
   "metadata": {
    "autoscroll": false,
    "ein.hycell": false,
    "ein.tags": "worksheet-0",
    "slideshow": {
     "slide_type": "subslide"
    }
   },
   "outputs": [
    {
     "name": "stdout",
     "output_type": "stream",
     "text": [
      "hello R\n"
     ]
    }
   ],
   "source": [
    "import rpy2\n",
    "%load_ext rpy2.ipython\n",
    "%R\n",
    "print(\"hello R\")"
   ]
  },
  {
   "cell_type": "code",
   "execution_count": 11,
   "metadata": {
    "autoscroll": false,
    "ein.hycell": false,
    "ein.tags": "worksheet-0",
    "scrolled": true,
    "slideshow": {
     "slide_type": "slide"
    }
   },
   "outputs": [
    {
     "data": {
      "text/html": [
       "<iframe width=\"560\" height=\"315\" src=\"https://www.youtube.com/embed/ubIpoPjBUds\" frameborder=\"0\" allow=\"autoplay; encrypted-media\" allowfullscreen></iframe>"
      ],
      "text/plain": [
       "<IPython.core.display.HTML object>"
      ]
     },
     "metadata": {},
     "output_type": "display_data"
    }
   ],
   "source": [
    "%%HTML\n",
    "<iframe width=\"560\" height=\"315\" src=\"https://www.youtube.com/embed/ubIpoPjBUds\" frameborder=\"0\" allow=\"autoplay; encrypted-media\" allowfullscreen></iframe>"
   ]
  },
  {
   "cell_type": "markdown",
   "metadata": {
    "ein.tags": "worksheet-0",
    "slideshow": {
     "slide_type": "slide"
    }
   },
   "source": [
    "### Terminals\n",
    "\n",
    "1. Mac - Open finder/Open Utility Folder/Open Terminal\n",
    "2. Windows - Same as Command.exe and Powershell - Click in search box/type 'cmd'\n",
    "3. Linux (preferred) - depends on Desktop. Usually listed in menu of applications"
   ]
  },
  {
   "cell_type": "markdown",
   "metadata": {
    "ein.tags": "worksheet-0",
    "slideshow": {
     "slide_type": "notes"
    }
   },
   "source": [
    "Directories and Files (from the terminal)\n",
    "\n",
    "1. Windows: `dir /s /b` or `tree /a /f`\n",
    "2. Mac/Linux: `pwd`"
   ]
  },
  {
   "cell_type": "markdown",
   "metadata": {
    "ein.tags": "worksheet-0",
    "slideshow": {
     "slide_type": "notes"
    }
   },
   "source": [
    "### IDEs\n",
    "We will be using jupyter (formerly ipython) for everything. *You* are responsible to get this installed on your computer (this week's homework), and have it using your language of choice (R or Python). I am using jupyter _lab_ but jupyter _notebooks_ are fine too."
   ]
  },
  {
   "cell_type": "markdown",
   "metadata": {
    "ein.tags": "worksheet-0",
    "slideshow": {
     "slide_type": "slide"
    }
   },
   "source": [
    "#### Getting [Jupyter](https://jupyter.org/)\n",
    "\n",
    "1. If you used Anaconda to install Python then you are basically there: from your terminal: `jupyter notebook` (or `lab`)\n",
    "\n",
    "2. If Linux your distribution will probably have instructions if you google, but you can try if you already have python 3 installed: \n",
    "    `python3 -m pip install --upgrade pip`\n",
    "    `python3 -m pip install jupyter`\n",
    "    then use the command above from your terminal to launch."
   ]
  },
  {
   "cell_type": "markdown",
   "metadata": {
    "ein.tags": "worksheet-0",
    "slideshow": {
     "slide_type": "subslide"
    }
   },
   "source": [
    "3. If you want to use R then you will have to install jupyter and R separately and then tell jupyter where to find R. See this [page](https://irkernel.github.io/installation/) for more detailed instructions. Be sure to launch R from your terminal (just `R` followed by `<enter>`. The `<>` means a key. Don't type that."
   ]
  },
  {
   "cell_type": "markdown",
   "metadata": {
    "ein.tags": "worksheet-0",
    "slideshow": {
     "slide_type": "slide"
    }
   },
   "source": [
    "### Markdown\n",
    "How am I getting all this nice formatting on the export to HTML? I am using _markdown_ which is a way to use simple annotations in a plain text file, that can then be understood at export to create the fancy tags needed for display in a web browser. Many [cheatsheets](https://github.com/adam-p/markdown-here/wiki/Markdown-Cheatsheet#code) are available."
   ]
  },
  {
   "cell_type": "markdown",
   "metadata": {
    "ein.tags": "worksheet-0",
    "slideshow": {
     "slide_type": "slide"
    }
   },
   "source": [
    "### Version Control\n",
    "\n",
    "Computational collaborations require being able to easily share code, write collaboratively, and to be able to follow different branches of work that can later be merged together, or even reverted if a mistake was made or you change your mind. \n",
    "\n",
    "There are many different tools for that, but a particularly popular one is **git**. A popular social platform for the sharing of code repositories is [Github](https://github.com/). \n",
    "\n",
    "Your second homework this week is to create an account. Later you will use that account to _fork_ a \"repo\", _clone_ a repo, and generate a _pull request._ My notes for this course are kept as git repository in my office. You don't have to use github for this. "
   ]
  },
  {
   "cell_type": "markdown",
   "metadata": {
    "ein.tags": "worksheet-0",
    "slideshow": {
     "slide_type": "subslide"
    }
   },
   "source": [
    "#### Download this notebook file\n",
    "\n",
    "[course git repo](https://github.com/brittAnderson/compNeuroIntro420.git)"
   ]
  }
 ],
 "metadata": {
  "kernelspec": {
   "display_name": "Python 3",
   "language": "python",
   "name": "python3"
  },
  "language_info": {
   "codemirror_mode": {
    "name": "ipython",
    "version": 3
   },
   "file_extension": ".py",
   "mimetype": "text/x-python",
   "name": "python",
   "nbconvert_exporter": "python",
   "pygments_lexer": "ipython3",
   "version": "3.5.2"
  },
  "name": "day1.ipynb"
 },
 "nbformat": 4,
 "nbformat_minor": 2
}
