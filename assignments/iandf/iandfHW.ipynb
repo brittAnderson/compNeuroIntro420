{
 "cells": [
  {
   "cell_type": "code",
   "execution_count": null,
   "metadata": {},
   "outputs": [],
   "source": [
    "%matplotlib inline\n",
    "import matplotlib.pyplot as p\n",
    "import numpy as np\n",
    "\n",
    "#define constants\n",
    "dt        = \n",
    "maxT      = \n",
    "time      = \n",
    "cap       = \n",
    "res       = \n",
    "thresh    = \n",
    "spikeDispl= 8; # arbitrary value used for \"pasting on\" a spike. Not needed, just nice for display.\n",
    "tau       = \n",
    "voltage   = \n",
    "curMag    = \n",
    "injCurrent = ;#a tuple for start and stop of current injection\n",
    "def newVal(ov,dt,dv):\n",
    "    return(\"something here\")\n",
    "\n",
    "def dvdt(tau,res,v,i):\n",
    "    return(\"something here\")\n",
    "\n",
    "for j in time:\n",
    "    if (injCurrent[0] < j <= injCurrent[1]):\n",
    "        #what do I do if time is in the bounds when current should be injected?\n",
    "    else:\n",
    "        curCur = 0\n",
    "    tempV = ;# how do I figure out the voltage at the next time step\n",
    "    if voltage[-1] == spikeDisplay: \n",
    "        ;#what should the voltage be if I just spiked? Why?\n",
    "    elif tempV > thresh:\n",
    "        ;#what should the voltage be if I am above threshold?\n",
    "    else: \n",
    "        ;#and what about the other cases?\n",
    "    \n",
    "\n",
    "p.plot(time,voltage[0:-1]);#again, what is the '-1' doing?\n",
    "p.show()"
   ]
  }
 ],
 "metadata": {
  "kernelspec": {
   "display_name": "Python 3",
   "language": "python",
   "name": "python3"
  },
  "language_info": {
   "codemirror_mode": {
    "name": "ipython",
    "version": 3
   },
   "file_extension": ".py",
   "mimetype": "text/x-python",
   "name": "python",
   "nbconvert_exporter": "python",
   "pygments_lexer": "ipython3",
   "version": "3.7.3"
  }
 },
 "nbformat": 4,
 "nbformat_minor": 2
}
