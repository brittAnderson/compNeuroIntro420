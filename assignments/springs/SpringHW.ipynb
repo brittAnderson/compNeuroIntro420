{
 "cells": [
  {
   "cell_type": "markdown",
   "metadata": {},
   "source": [
    "# Spring Homework\n",
    "\n",
    "## Instructions\n",
    "\n",
    "Provide me with a notebook (python or R - your choice) that will allow me to enter the value for \"P\", and which will then generate the graph of how the position changes with time. Note this skeleton is for Python3, but shouldn't be hard to change for R.\n",
    "\n",
    "Below I give you a skeleton of how you could organize it, with an effort to allow people to replot things by changing the value of P. Don't get obsessed with making that work right."
   ]
  },
  {
   "cell_type": "markdown",
   "metadata": {},
   "source": [
    "## Part 1"
   ]
  },
  {
   "cell_type": "code",
   "execution_count": null,
   "metadata": {},
   "outputs": [],
   "source": [
    "#Skeleton\n",
    "\n",
    "#How do you get **input** from a user?\n",
    "\n",
    "def spring(inputs): #might need more than one input, might not\n",
    "    #stuff here\n",
    "    return();#something has to go in there\n",
    "\n",
    "def plot(inputs): #inputs just a place holder, you have to supply details\n",
    "    #stuff here\n",
    "    return(); #return something?\n",
    "\n",
    "def main():\n",
    "    s = spring(1);#1's are just here to make this work without above inputs defined\n",
    "    p = plot(1)\n",
    "    quit = False\n",
    "    if (not quit):\n",
    "        q = input('Type y to quit, any other key to continue')\n",
    "        if (q != 'y'):\n",
    "            main()\n",
    "            \n",
    "main()"
   ]
  },
  {
   "cell_type": "markdown",
   "metadata": {},
   "source": [
    "## Part 2"
   ]
  },
  {
   "cell_type": "markdown",
   "metadata": {},
   "source": [
    "Provide the code for the damped oscillator. It has the formula of \n",
    "\n",
    "$$ \\frac{d^2 s}{dt^2} = -P~s(t) - k~v(t) $$\n",
    "\n",
    "This should really only require changing one line of your code for the simple harmonic oscillator."
   ]
  }
 ],
 "metadata": {
  "kernelspec": {
   "display_name": "Python 3",
   "language": "python",
   "name": "python3"
  },
  "language_info": {
   "codemirror_mode": {
    "name": "ipython",
    "version": 3
   },
   "file_extension": ".py",
   "mimetype": "text/x-python",
   "name": "python",
   "nbconvert_exporter": "python",
   "pygments_lexer": "ipython3",
   "version": "3.7.3"
  }
 },
 "nbformat": 4,
 "nbformat_minor": 2
}
