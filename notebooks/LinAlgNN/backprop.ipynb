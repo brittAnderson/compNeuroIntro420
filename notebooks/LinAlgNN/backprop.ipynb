{
 "cells": [
  {
   "cell_type": "markdown",
   "metadata": {
    "ein.tags": "worksheet-0",
    "slideshow": {
     "slide_type": "-"
    }
   },
   "source": [
    "# Backpropagation"
   ]
  },
  {
   "cell_type": "markdown",
   "metadata": {
    "ein.tags": "worksheet-0",
    "slideshow": {
     "slide_type": "-"
    }
   },
   "source": [
    "## Warm up questions"
   ]
  },
  {
   "cell_type": "markdown",
   "metadata": {
    "ein.tags": "worksheet-0",
    "slideshow": {
     "slide_type": "-"
    }
   },
   "source": [
    "1. What is a neural network?\n",
    "2. What is the difference between supervised and unsupervised learning? Give an example of each? Does anyone know an example other than what we have discussed in class for unsupervised learning?\n",
    "3. What is the activation function we have used for the perceptron and delta rule networks?\n",
    "4. What role does \"error\" play in the perceptron and delta learning rules?\n",
    "5. For a multilayer network how do you know how much of the \"error\" to pass back into the deeper layers of the network?"
   ]
  },
  {
   "cell_type": "markdown",
   "metadata": {
    "ein.tags": "worksheet-0",
    "slideshow": {
     "slide_type": "-"
    }
   },
   "source": [
    "Some Answers\n",
    "\n",
    "1. nodes and edges and a whole bunch of other options.\n",
    "2. Supervised we are given the desired outputs to learn. Perceptron and Hopfield.\n",
    "3. Threshold function.\n",
    "4. It is part of the weight updating equation.\n",
    "5. That is what we will be working on today.\n",
    "\n"
   ]
  },
  {
   "cell_type": "markdown",
   "metadata": {
    "ein.tags": "worksheet-0",
    "slideshow": {
     "slide_type": "-"
    }
   },
   "source": [
    "## Sigmoid Functions"
   ]
  },
  {
   "cell_type": "markdown",
   "metadata": {
    "ein.tags": "worksheet-0",
    "slideshow": {
     "slide_type": "-"
    }
   },
   "source": [
    "Our prior networks have been forms of threshold units. Check to see if our activation cleared a certain hurdle, and if so set its value to 1 or -1. But it is more common to scale the output continuously between a lower and upper bound. One of the intuitions is that this is like a probability that the neuron might fire.\n"
   ]
  },
  {
   "cell_type": "markdown",
   "metadata": {
    "ein.tags": "worksheet-0",
    "slideshow": {
     "slide_type": "-"
    }
   },
   "source": [
    "### What is a sigmoid function and what does it look like?"
   ]
  },
  {
   "cell_type": "markdown",
   "metadata": {
    "ein.tags": "worksheet-0",
    "slideshow": {
     "slide_type": "-"
    }
   },
   "source": [
    "$\\frac{1}{1+e^{-z}}$"
   ]
  },
  {
   "cell_type": "code",
   "execution_count": 19,
   "metadata": {
    "autoscroll": false,
    "ein.hycell": false,
    "ein.tags": "worksheet-0",
    "slideshow": {
     "slide_type": "-"
    }
   },
   "outputs": [
    {
     "data": {
      "image/png": "[encoded data removed]",
      "text/plain": [
       "<matplotlib.figure.Figure at 0x7f5f8cc73c88>"
      ]
     },
     "metadata": {},
     "output_type": "display_data"
    }
   ],
   "source": [
    "%matplotlib inline\n",
    "import numpy as np\n",
    "import matplotlib\n",
    "import matplotlib.pyplot as pyp\n",
    "def sig (z): return 1.0/(1 + np.exp(-1*z))\n",
    "xs = np.linspace(-5,5,101)\n",
    "ys = list(map(sig,xs))\n",
    "pyp.plot(xs,ys)\n",
    "pyp.text(.1,.1,\"Plot of the Sigmoid Function\")\n",
    "pyp.show()\n"
   ]
  },
  {
   "cell_type": "markdown",
   "metadata": {
    "ein.tags": "worksheet-0",
    "slideshow": {
     "slide_type": "-"
    }
   },
   "source": [
    "**Map**\n",
    "Many concepts from functional programming will make your code more readable and concise. Here I use the `map` function to apply a function to all the items in an array. For technical reasons I have to force this to be a list for matplotlib to plot it. But note how much shorter is this than a big for loop."
   ]
  },
  {
   "cell_type": "markdown",
   "metadata": {
    "ein.tags": "worksheet-0",
    "slideshow": {
     "slide_type": "-"
    }
   },
   "source": [
    "More details on programming in a functional style in Python 3 can be found [here](https://docs.python.org/3/howto/functional.html)."
   ]
  },
  {
   "cell_type": "markdown",
   "metadata": {
    "ein.tags": "worksheet-0",
    "slideshow": {
     "slide_type": "-"
    }
   },
   "source": [
    "**A few questions**\n",
    "   1. Why is it called \"sigmoid?\"\n",
    "   2. What advantage does it offer over a threshold function?\n",
    "   3. Is it the only \"sigmoid\" function? Does it have other names?\n",
    "   4. Can you guess an an advantage to this particular form of the equation?\n",
    "   5. How do use this with a neural network, i.e. what is $z$?\n"
   ]
  },
  {
   "cell_type": "markdown",
   "metadata": {
    "ein.tags": "worksheet-0",
    "slideshow": {
     "slide_type": "-"
    }
   },
   "source": [
    "Some Answers\n",
    "\n",
    "1. S shaped\n",
    "2. Differentiable\n",
    "3. No,\n",
    "![Sigmoid Functions](https://upload.wikimedia.org/wikipedia/commons/thumb/6/6f/Gjl-t%28x%29.svg/1000px-Gjl-t%28x%29.svg.png \"Sigmoid Functions Illustrated\")\n",
    "4. The exponential gives it some nice differentiation properties. Can you differentiate it? Go ahead. Why would you care about knowing the derivative?\n",
    "\n",
    " What do you need to know?\n",
    "\n",
    " a. Differentiate a quotient.\n",
    "\n",
    " b. Chain rule.\n",
    "\n",
    " c. Derivatives of sums and sums of derivatives\n",
    "\n",
    " d. Fancy rearrangements.\n",
    "\n",
    " e. The derivative of $e^z$.\n",
    "5. The weighted input."
   ]
  },
  {
   "cell_type": "markdown",
   "metadata": {
    "ein.tags": "worksheet-0",
    "slideshow": {
     "slide_type": "-"
    }
   },
   "source": [
    "How to use it?\n",
    "\n",
    "Have to input the activation of the neuron into the $z$ of the sigmoid function. That is we need, $\\frac{1}{1+e^{-(\\sum_i xw)}}$\n"
   ]
  },
  {
   "cell_type": "markdown",
   "metadata": {
    "ein.tags": "worksheet-0",
    "slideshow": {
     "slide_type": "-"
    }
   },
   "source": [
    "## Think about equations qualitatively."
   ]
  },
  {
   "cell_type": "markdown",
   "metadata": {
    "ein.tags": "worksheet-0",
    "slideshow": {
     "slide_type": "-"
    }
   },
   "source": [
    "Remember, one of the goals of computational modelling is to get insights into the implications of our ideas and theories. Sometimes this means running a model to see what comes out of it. But it can also mean that we look at the equations that go into the model and think about their \"behavior\" to get some sense of how things will behave that have particular functional forms. \n",
    "How might you do that here? Think about how it is the same and differnt from the threshold version. Think about extreme values: what happens at the extremes? Where is the derivative most extreme?  What happens if the dot product of a weight vector and input vector are large? Or very small (and what does small mean here)? What about negative extremes and positive extremes. \n",
    "\n"
   ]
  },
  {
   "cell_type": "markdown",
   "metadata": {
    "ein.tags": "worksheet-0",
    "slideshow": {
     "slide_type": "-"
    }
   },
   "source": [
    "## Why are we starting this discussion of the backpropagation algorithim with all this discussion of activation functions?"
   ]
  },
  {
   "cell_type": "markdown",
   "metadata": {
    "ein.tags": "worksheet-0",
    "slideshow": {
     "slide_type": "-"
    }
   },
   "source": [
    "1. What is being backpropagated?\n",
    "2. What is it we want our network to do?\n",
    "3. How do we guide it?"
   ]
  },
  {
   "cell_type": "markdown",
   "metadata": {
    "ein.tags": "worksheet-0",
    "slideshow": {
     "slide_type": "-"
    }
   },
   "source": [
    "Answers\n",
    "1. Cost\n",
    "2. Move to the point of minimal cost\n",
    "3. We use the derivative (just like we have all course long).\n",
    "\n"
   ]
  },
  {
   "cell_type": "markdown",
   "metadata": {
    "ein.tags": "worksheet-0",
    "slideshow": {
     "slide_type": "-"
    }
   },
   "source": [
    "### What is the cost?"
   ]
  },
  {
   "cell_type": "markdown",
   "metadata": {
    "ein.tags": "worksheet-0",
    "slideshow": {
     "slide_type": "-"
    }
   },
   "source": [
    "Why use a cost instead of a single classification of right or wrong like we had been doing?\n",
    "Many networks have a cost function. We may want to know more than just whether you were right or wrong, but how wrong? In a continuous case being \"right\" might not even really be possible - what is the value of $\\pi$\" ? Our computers cannot give render sufficient precision. There is not \"right\" cost function either, but what might you suggest that we use, and why?\n",
    "\n",
    "What would you suggest as the cost function?\n"
   ]
  },
  {
   "cell_type": "markdown",
   "metadata": {
    "ein.tags": "worksheet-0",
    "slideshow": {
     "slide_type": "-"
    }
   },
   "source": [
    "#### Mean Squared Error"
   ]
  },
  {
   "cell_type": "markdown",
   "metadata": {
    "ein.tags": "worksheet-0",
    "slideshow": {
     "slide_type": "-"
    }
   },
   "source": [
    "It's always a good guess and a resonable starting point\n",
    "\n",
    "$$C(\\mathbf{w}) = \\frac{1}{2\\mathrm{n}}\\sum_\\mathbf{x} \\|\\mathbf{y}(\\mathbf{x}) - \\mathbf{a}\\|^2.$$\n"
   ]
  },
  {
   "cell_type": "markdown",
   "metadata": {
    "ein.tags": "worksheet-0",
    "slideshow": {
     "slide_type": "-"
    }
   },
   "source": [
    "Some Questions:\n",
    "Why isn't this a function of $\\mathbf{x}$ and $\\mathbf{y}$ too?\n",
    "\n",
    "What is the /dimensionality/ of the part of the equation inside the double lines? \n",
    "\n",
    "What do you call the operation characterized by the double lines? (See \"norm\" below).\n",
    "\n",
    "Why is adjusting weights for a multilayer network hard?\n"
   ]
  },
  {
   "cell_type": "markdown",
   "metadata": {
    "ein.tags": "worksheet-0",
    "slideshow": {
     "slide_type": "-"
    }
   },
   "source": [
    "Some Answers:\n",
    "1. It is, but we can't vary those, so we treat them as constants. \n",
    "\n",
    "2. the dimensionality is that of the output vector\n",
    "\n",
    "3. the norm (how big or how far) - think of Hamming distance from the Hopfield network.\n",
    "\n",
    "4. Because we don't know how to distribute the errors for the intermediate connections. How much /blame/ do we give to each one? \n"
   ]
  },
  {
   "cell_type": "markdown",
   "metadata": {
    "ein.tags": "worksheet-0",
    "slideshow": {
     "slide_type": "-"
    }
   },
   "source": [
    "### Backpropagation "
   ]
  },
  {
   "cell_type": "markdown",
   "metadata": {
    "ein.tags": "worksheet-0",
    "slideshow": {
     "slide_type": "-"
    }
   },
   "source": [
    "What do we want? How do we get it?\n",
    "\n",
    "What do we want? \n",
    "\n",
    "To make our network get better; that is to come closer to the \"right\" answer. Right is in quotes because what is right may be different in different circumstances. This is operator determined.\n"
   ]
  },
  {
   "cell_type": "markdown",
   "metadata": {
    "ein.tags": "worksheet-0",
    "slideshow": {
     "slide_type": "-"
    }
   },
   "source": [
    "How do we get it?\n",
    "\n",
    "1. What is free for us to change?\n",
    "\n",
    "2. How do we determine if our change is for the better?\n",
    "\n",
    "3. Can we determine a way to do it that will just work? \n"
   ]
  },
  {
   "cell_type": "markdown",
   "metadata": {
    "ein.tags": "worksheet-0",
    "slideshow": {
     "slide_type": "-"
    }
   },
   "source": [
    "Why can't we just do gradient descent?\n",
    "(Someone please explain this).\n",
    "Networks get too big. In theory you could. In practice you can't.\n",
    "\n"
   ]
  },
  {
   "cell_type": "markdown",
   "metadata": {
    "ein.tags": "worksheet-0",
    "slideshow": {
     "slide_type": "-"
    }
   },
   "source": [
    "[**Classic Publication** pdf](http://www.nature.com/nature/journal/v323/n6088/pdf/323533a0.pdf)"
   ]
  },
  {
   "cell_type": "markdown",
   "metadata": {
    "ein.tags": "worksheet-0",
    "slideshow": {
     "slide_type": "-"
    }
   },
   "source": [
    "You can read this article!\n",
    "\n",
    "You have all the notation, language, and concepts. Note that the abstract makes sense to you. \n",
    "\n"
   ]
  },
  {
   "cell_type": "markdown",
   "metadata": {
    "ein.tags": "worksheet-0",
    "slideshow": {
     "slide_type": "-"
    }
   },
   "source": [
    "Explain backpropagation as a tweet (140 characters or less)"
   ]
  },
  {
   "cell_type": "markdown",
   "metadata": {
    "ein.tags": "worksheet-0",
    "slideshow": {
     "slide_type": "-"
    }
   },
   "source": [
    "Is backpropagation biologically plausible?"
   ]
  },
  {
   "cell_type": "markdown",
   "metadata": {
    "ein.tags": "worksheet-0",
    "slideshow": {
     "slide_type": "-"
    }
   },
   "source": [
    "#### Some Notation"
   ]
  },
  {
   "cell_type": "markdown",
   "metadata": {
    "ein.tags": "worksheet-0",
    "slideshow": {
     "slide_type": "-"
    }
   },
   "source": [
    "$w_{jk}^l$ is the weight between the $kth$ neuron in the $l-1$ layer to the $jth$ neuron in the $lth$ layer. \n",
    "Note the ordering of $j's$ and $k's$. It may be backwards from your intuition. \n",
    "\n",
    "How would you write as an equation with the \"sigma\" summation sign the value activation of a single /arbitrary/ neuron in an /arbitrary/ layer of a multi-layer network?"
   ]
  },
  {
   "cell_type": "markdown",
   "metadata": {
    "ein.tags": "worksheet-0",
    "slideshow": {
     "slide_type": "-"
    }
   },
   "source": [
    "**The activation**\n",
    "   \n",
    "$$a^l_j = \\sigma \\left ( \\sum_k w_{jk}^l~a^{l-1}_k \\right )$$"
   ]
  },
  {
   "cell_type": "markdown",
   "metadata": {
    "ein.tags": "worksheet-0",
    "slideshow": {
     "slide_type": "-"
    }
   },
   "source": [
    "   \n",
    "*** Explain what this means in words.\n",
    "    Especially the $\\sigma$."
   ]
  },
  {
   "cell_type": "markdown",
   "metadata": {
    "ein.tags": "worksheet-0",
    "slideshow": {
     "slide_type": "-"
    }
   },
   "source": [
    "Explain what this means with a picture.\n",
    "Use translation (code:words:pictures) to develop and test your understanding.\n"
   ]
  },
  {
   "cell_type": "markdown",
   "metadata": {
    "ein.tags": "worksheet-0",
    "slideshow": {
     "slide_type": "-"
    }
   },
   "source": [
    "Rewrite this equation as a matrix equation"
   ]
  },
  {
   "cell_type": "markdown",
   "metadata": {
    "ein.tags": "worksheet-0",
    "slideshow": {
     "slide_type": "-"
    }
   },
   "source": [
    "$\\sigma(\\mathbf{W^l}\\vec{a^{l-1}})$ \n",
    "Notice that I am \"hiding\" the bias inside this equation. You have to always have that extra weight and the fixed input activation of $1$ for the bias. \n",
    "   \n"
   ]
  },
  {
   "cell_type": "markdown",
   "metadata": {
    "ein.tags": "worksheet-0",
    "slideshow": {
     "slide_type": "-"
    }
   },
   "source": [
    "What is the dimension of this \"output\" and what is the interpretation of the $\\sigma$? What is *vectorizing*? From this expression why does it make sense to put the $j$ and $k$ backwards?\n",
    "Think of the dot product, column vectors, and the way rows and columns match up. All the odd writing is just to make this consistent with compact matrix notation. "
   ]
  },
  {
   "cell_type": "markdown",
   "metadata": {
    "ein.tags": "worksheet-0",
    "slideshow": {
     "slide_type": "-"
    }
   },
   "source": [
    "### homework"
   ]
  },
  {
   "cell_type": "markdown",
   "metadata": {
    "ein.tags": "worksheet-0",
    "slideshow": {
     "slide_type": "-"
    }
   },
   "source": [
    "1. Write a function that given an input vector of activity and a weight matrix computes the new output activation.\n",
    "\n",
    "2. Write a function to output the derivative of the activity.\n",
    "\n",
    "Both in Python. They should be free standing functions that you can reuse in code later, i.e. they should start with\n",
    "\n",
    "`def yourfunction(args):`\n",
    "\n",
    "  `more stuff here`"
   ]
  },
  {
   "cell_type": "code",
   "execution_count": 21,
   "metadata": {
    "autoscroll": false,
    "ein.hycell": false,
    "ein.tags": "worksheet-0",
    "slideshow": {
     "slide_type": "-"
    }
   },
   "outputs": [],
   "source": [
    "a = np.array([0.9,0.8])\n",
    "ab = np.append(a,1.0)\n",
    "#what is going on in the line above?"
   ]
  },
  {
   "cell_type": "code",
   "execution_count": 39,
   "metadata": {
    "autoscroll": false,
    "ein.hycell": false,
    "ein.tags": "worksheet-0",
    "slideshow": {
     "slide_type": "-"
    }
   },
   "outputs": [],
   "source": [
    "w = np.array([[0.1,-0.25,0.3],[-.4,0.2,0.2],[1.2,2.3,0.03]])\n",
    "#how many neurons are in this layer?"
   ]
  },
  {
   "cell_type": "code",
   "execution_count": 40,
   "metadata": {
    "autoscroll": false,
    "ein.hycell": false,
    "ein.tags": "worksheet-0",
    "slideshow": {
     "slide_type": "-"
    }
   },
   "outputs": [
    {
     "data": {
      "text/plain": [
       "array([ 0.19,  0.  ,  2.95])"
      ]
     },
     "execution_count": 40,
     "metadata": {},
     "output_type": "execute_result"
    }
   ],
   "source": [
    "wtinput = w @ ab\n",
    "wtinput"
   ]
  },
  {
   "cell_type": "code",
   "execution_count": 41,
   "metadata": {
    "autoscroll": false,
    "ein.hycell": false,
    "ein.tags": "worksheet-0",
    "slideshow": {
     "slide_type": "-"
    }
   },
   "outputs": [
    {
     "data": {
      "text/plain": [
       "array([ 0.54735762,  0.5       ,  0.95026349])"
      ]
     },
     "execution_count": 41,
     "metadata": {},
     "output_type": "execute_result"
    }
   ],
   "source": [
    "newa = sig(np.dot(w,ab))\n",
    "newa"
   ]
  },
  {
   "cell_type": "code",
   "execution_count": 42,
   "metadata": {
    "autoscroll": false,
    "ein.hycell": false,
    "ein.tags": "worksheet-0",
    "slideshow": {
     "slide_type": "-"
    }
   },
   "outputs": [
    {
     "data": {
      "text/plain": [
       "<map at 0x7f5f8cbaa1d0>"
      ]
     },
     "execution_count": 42,
     "metadata": {},
     "output_type": "execute_result"
    }
   ],
   "source": [
    "newa_alt = map(sig, np.dot(w,ab))\n",
    "newa_alt"
   ]
  },
  {
   "cell_type": "code",
   "execution_count": 43,
   "metadata": {
    "autoscroll": false,
    "ein.hycell": false,
    "ein.tags": "worksheet-0",
    "slideshow": {
     "slide_type": "-"
    }
   },
   "outputs": [
    {
     "data": {
      "text/plain": [
       "[0.54735761814308936, 0.5, 0.95026348844144337]"
      ]
     },
     "execution_count": 43,
     "metadata": {},
     "output_type": "execute_result"
    }
   ],
   "source": [
    "list(newa_alt)\n"
   ]
  },
  {
   "cell_type": "markdown",
   "metadata": {
    "ein.tags": "worksheet-0",
    "slideshow": {
     "slide_type": "-"
    }
   },
   "source": [
    "The *alt*ernative shows you there is more than one way to do things, but that sometimes that can hide complications. Your data has a type that may change depending on how you do things. These later examples use generators and iterators that may take awhile to wrap your head around. "
   ]
  },
  {
   "cell_type": "markdown",
   "metadata": {
    "ein.tags": "worksheet-0",
    "slideshow": {
     "slide_type": "-"
    }
   },
   "source": [
    "Remembering \"costs\"\n",
    "\n",
    "   $$C = \\frac{1}{2n} \\sum_x \\|y(x) - a^L(x)\\|^2$$\n",
    "\n",
    "   The $L$ became capitalized because this is the \"last\" layer of a multilayer network. Why are we summing over $x$? What are the $x's$? What does the \"[norm](https://en.wikipedia.org/wiki/Norm_(mathematics))\" mean again? Size. Think Euclidean. "
   ]
  },
  {
   "cell_type": "markdown",
   "metadata": {
    "ein.tags": "worksheet-0",
    "slideshow": {
     "slide_type": "-"
    }
   },
   "source": [
    "### Backpropagation: A pseudo code account"
   ]
  },
  {
   "cell_type": "markdown",
   "metadata": {
    "ein.tags": "worksheet-0",
    "slideshow": {
     "slide_type": "-"
    }
   },
   "source": [
    "1. Fix the inputs of the first layer to the input pattern $x$.\n",
    "2. Compute the weighted input to each neuron of the next layer using the input, weights and biases.\n",
    "3. Compute the weighted cost function error vector for the last layer.\n",
    "4. Backpropagate the error\n",
    "5. Use the backpropagated error to update the weights"
   ]
  },
  {
   "cell_type": "markdown",
   "metadata": {
    "ein.tags": "worksheet-0",
    "slideshow": {
     "slide_type": "-"
    }
   },
   "source": [
    "### Backpropagation: A \"stages\" account"
   ]
  },
  {
   "cell_type": "markdown",
   "metadata": {
    "ein.tags": "worksheet-0",
    "slideshow": {
     "slide_type": "-"
    }
   },
   "source": [
    "Feedforward Stage\n",
    "Backward Pass Stage\n",
    "\n",
    "Weight Updating Stage"
   ]
  },
  {
   "cell_type": "markdown",
   "metadata": {
    "ein.tags": "worksheet-0",
    "slideshow": {
     "slide_type": "-"
    }
   },
   "source": [
    "### Warning"
   ]
  },
  {
   "cell_type": "markdown",
   "metadata": {
    "ein.tags": "worksheet-0",
    "slideshow": {
     "slide_type": "-"
    }
   },
   "source": [
    "Just like we had to watch the parameters carefully in the H and H model, here the trick is to track the dimensions and orientation of your data objects. "
   ]
  },
  {
   "cell_type": "markdown",
   "metadata": {
    "ein.tags": "worksheet-0",
    "slideshow": {
     "slide_type": "-"
    }
   },
   "source": [
    "### Understanding why it works"
   ]
  },
  {
   "cell_type": "markdown",
   "metadata": {
    "ein.tags": "worksheet-0",
    "slideshow": {
     "slide_type": "-"
    }
   },
   "source": [
    "It all comes down to the right way to solve for the weight changes.\n",
    "What is it we want to change? What are we free to change? \n",
    "\n",
    "Write an equation"
   ]
  },
  {
   "cell_type": "markdown",
   "metadata": {
    "ein.tags": "worksheet-0",
    "slideshow": {
     "slide_type": "-"
    }
   },
   "source": [
    "First step\n",
    "\n",
    "$$\\frac{\\partial{C_x}}{\\partial{W^{L}_{ji}}}$$\n",
    "\n",
    "Translate this into words. How would we use this if we knew what it was?"
   ]
  },
  {
   "cell_type": "markdown",
   "metadata": {
    "ein.tags": "worksheet-0",
    "slideshow": {
     "slide_type": "-"
    }
   },
   "source": [
    "Second step\n",
    "\n",
    "Substitute and keep doing the chain rule - forever. \n",
    "    \n",
    "$$\\frac{\\partial{1/2(y - \\hat{y})^2}}{\\partial{W^{L}_{ij}}}$$ \n",
    "\n",
    "What part of this is a function of $W$? Only the $\\hat{y}$ (it is common to use a \"hat\" to reflect that one variable is an estimate of the variable under the hat) depends on the weights, and we use the chain rule.\n",
    "\n",
    "$$\\frac{\\partial{1/2(y - \\hat{y})^2}}{\\partial{\\hat{y}}} \\frac{\\partial{\\hat{y}}}{\\partial{W^{L}_{ij}}}$$\n",
    "\n"
   ]
  },
  {
   "cell_type": "markdown",
   "metadata": {
    "ein.tags": "worksheet-0",
    "slideshow": {
     "slide_type": "-"
    }
   },
   "source": [
    "Third step\n",
    "\n",
    "To be systematic, let's only consider the last, terminal, also called output layer and denote it $L$.\n",
    "\n",
    "$$\\frac{\\partial{1/2(y - \\hat{y})^2}}{\\partial{\\hat{y}}} \\frac{\\partial{\\sigma(z^L_i)}}{\\partial{z^L_i}}\\frac{\\partial{z^L_i}}{\\partial{W^{L}_{ij}}}$$\n",
    "\n"
   ]
  },
  {
   "cell_type": "markdown",
   "metadata": {
    "ein.tags": "worksheet-0",
    "slideshow": {
     "slide_type": "-"
    }
   },
   "source": [
    "Fourth step\n",
    "\n",
    "What is $z^L$?\n",
    "\n",
    "$$\\frac{\\partial{1/2(y - \\hat{y})^2}}{\\partial{\\hat{y}}} \\frac{\\partial{\\sigma(z^L_i)}}{\\partial{z^L_i}}\\frac{\\partial{\\sum_kW^{L}_{ik}~a^{L-1}_k}}{\\partial{W^{L}_{ij}}}$$\n",
    "\n"
   ]
  },
  {
   "cell_type": "markdown",
   "metadata": {
    "ein.tags": "worksheet-0",
    "slideshow": {
     "slide_type": "-"
    }
   },
   "source": [
    "Fifth step - simplify\n",
    "\n",
    "$$\\frac{\\partial{C_x}}{\\partial{W^{L}_{ji}}} = (\\hat{y} - y)\\sigma^\\prime(z^L_i)a^{L-1}_j$$\n",
    "\n"
   ]
  },
  {
   "cell_type": "markdown",
   "metadata": {
    "ein.tags": "worksheet-0",
    "slideshow": {
     "slide_type": "-"
    }
   },
   "source": [
    "More notation\n",
    "\n",
    "What part of the above formula is common to all synapses of the output neuron and which is unique for each synapse to the output neuron? Let's denote the common part with a common label $\\delta$.\n",
    "\n",
    "$$\\frac{\\partial{C_x}}{\\partial{W^{L}_{i}}} = \\delta^L_i a^{{L-1}^T}$$\n",
    "\n",
    "And do the same for the next layer\n",
    "\n"
   ]
  },
  {
   "cell_type": "markdown",
   "metadata": {
    "ein.tags": "worksheet-0",
    "slideshow": {
     "slide_type": "-"
    }
   },
   "source": [
    "## Making the pieces to solve the XOR problem "
   ]
  },
  {
   "cell_type": "markdown",
   "metadata": {
    "ein.tags": "worksheet-0",
    "slideshow": {
     "slide_type": "-"
    }
   },
   "source": [
    "### The key equations"
   ]
  },
  {
   "cell_type": "markdown",
   "metadata": {
    "ein.tags": "worksheet-0",
    "slideshow": {
     "slide_type": "-"
    }
   },
   "source": [
    "$$   \\delta^{\\mbox{Last Layer}} = \\nabla_a C \\circ \\sigma^{\\prime}(\\mbox{weighted inputs}) $$"
   ]
  },
  {
   "cell_type": "markdown",
   "metadata": {
    "ein.tags": "worksheet-0",
    "slideshow": {
     "slide_type": "-"
    }
   },
   "source": [
    "$$\\delta^{\\mbox{allOtherLayers}} = (\\mbox{weights}^{nextLayer})^T \\delta^{\\mbox{nextLayer}} \\circ \\sigma^{\\prime}(\\mbox{weighted inputs})^{\\mbox{currentLayer}}$$"
   ]
  },
  {
   "cell_type": "markdown",
   "metadata": {
    "ein.tags": "worksheet-0",
    "slideshow": {
     "slide_type": "-"
    }
   },
   "source": [
    "Memory Hint:    $a_{in} \\delta^{out}$ \n",
    "$$\\frac{\\partial{C}}{\\partial{W_{jk}^l}} = a^{l-1}_k\\delta^l_j$$\n",
    "\n"
   ]
  },
  {
   "cell_type": "markdown",
   "metadata": {
    "ein.tags": "worksheet-0",
    "slideshow": {
     "slide_type": "-"
    }
   },
   "source": [
    "#### Problem Details"
   ]
  },
  {
   "cell_type": "markdown",
   "metadata": {
    "ein.tags": "worksheet-0",
    "slideshow": {
     "slide_type": "-"
    }
   },
   "source": [
    "   1. We will use two inputs, at least three hidden units, and one output unit.\n",
    "   2. Create an input that has each possible input and the proper \"class\".\n",
    "   3. Initiate a random weight matrix.\n",
    "      How do you determine the size?\n",
    "\n",
    "      How do you represent this in your code? There are matrices and arrays - each has potential advantages.\n",
    "   4. Calculate cost\n",
    "   5. Calculate the derivative of the cost.\n",
    "   6. Calculate sigmoid\n",
    "   7. Calculate derivative of the sigmoid.\n",
    "   8. Write a function for the forward pass.\n",
    "   9. Write a function for the backward pass.\n",
    "   10. Write a function to update the weights.\n",
    "   11. Write a function to go through the above for a long time or until you get a good enough approximation.\n",
    "   12. Rewrite your code to be more general and accept different size inputs and outputs, and to allow for different size hidden layers (and maybe even more hidden layers).\n",
    "   13. Solve a harder problem\n",
    "      1. (http://www.cs.utoronto.ca/~kriz/cifar.html)\n",
    "\n",
    "      2.(http://www.iro.umontreal.ca/~lisa/twiki/bin/view.cgi/Public/BabyAIShapesDatasets)\n"
   ]
  },
  {
   "cell_type": "markdown",
   "metadata": {
    "ein.tags": "worksheet-0",
    "slideshow": {
     "slide_type": "-"
    }
   },
   "source": [
    "##### Some Useful Links"
   ]
  },
  {
   "cell_type": "markdown",
   "metadata": {
    "ein.tags": "worksheet-0",
    "slideshow": {
     "slide_type": "-"
    }
   },
   "source": [
    "There is a very good [online textbook](http://neuralnetworksanddeeplearning.com/chap1.html) for this material.\n",
    "\n",
    "And some [nice short videos](https://youtu.be/bxe2T-V8XRs?list=PLiaHhY2iBX9hdHaRr6b7XevZtgZRa1PoU) too."
   ]
  }
 ],
 "metadata": {
  "kernelspec": {
   "display_name": "Python 3",
   "language": "python",
   "name": "python3"
  },
  "language_info": {
   "codemirror_mode": {
    "name": "ipython",
    "version": 3
   },
   "file_extension": ".py",
   "mimetype": "text/x-python",
   "name": "python",
   "nbconvert_exporter": "python",
   "pygments_lexer": "ipython3",
   "version": "3.5.2"
  },
  "name": "backprop.ipynb"
 },
 "nbformat": 4,
 "nbformat_minor": 2
}
