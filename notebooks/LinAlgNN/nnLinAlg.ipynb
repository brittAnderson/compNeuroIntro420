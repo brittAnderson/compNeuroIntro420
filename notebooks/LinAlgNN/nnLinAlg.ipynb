{
 "cells": [
  {
   "cell_type": "markdown",
   "metadata": {
    "ein.tags": "worksheet-0",
    "slideshow": {
     "slide_type": "slide"
    }
   },
   "source": [
    "# Introduction to Linear Algebra and Neural Networks"
   ]
  },
  {
   "cell_type": "markdown",
   "metadata": {
    "ein.tags": "worksheet-0",
    "slideshow": {
     "slide_type": "slide"
    }
   },
   "source": [
    "## Introduction"
   ]
  },
  {
   "cell_type": "markdown",
   "metadata": {
    "ein.tags": "worksheet-0",
    "slideshow": {
     "slide_type": "slide"
    }
   },
   "source": [
    "Goals\n",
    "- What is a neural network?\n",
    "- What is a cellular Automata\n",
    "- What mathematics are needed to build a neural network?\n",
    "- How can neural networks help us understand cognition?\n"
   ]
  },
  {
   "cell_type": "markdown",
   "metadata": {
    "ein.tags": "worksheet-0",
    "slideshow": {
     "slide_type": "skip"
    }
   },
   "source": [
    "## Be the Neuron"
   ]
  },
  {
   "cell_type": "markdown",
   "metadata": {
    "ein.tags": "worksheet-0",
    "slideshow": {
     "slide_type": "slide"
    }
   },
   "source": [
    "For this exercise you will need a sheet of graph paper and a **rule**. Begin with the top row of the graph paper. Your rule will specify how the color of a square of the graph paper depends  on the color of neighboring cells in the row immediately above.  Our rule depends on three cells only and is like the gentleman at the football match deciding whether to stand or sit when making the wave.  Each square in the grid of your graph paper decides whether to be blank or colored-in based on the three squares above it"
   ]
  },
  {
   "cell_type": "code",
   "execution_count": 2,
   "metadata": {
    "autoscroll": false,
    "ein.hycell": false,
    "ein.tags": "worksheet-0",
    "slideshow": {
     "slide_type": "skip"
    }
   },
   "outputs": [],
   "source": [
    "%load_ext tikzmagic"
   ]
  },
  {
   "cell_type": "code",
   "execution_count": 7,
   "metadata": {
    "autoscroll": false,
    "ein.hycell": false,
    "ein.tags": "worksheet-0",
    "slideshow": {
     "slide_type": "subslide"
    }
   },
   "outputs": [
    {
     "data": {
      "image/png": "[encoded data removed]"
     },
     "metadata": {},
     "output_type": "display_data"
    }
   ],
   "source": [
    "%%tikz\n",
    "\\draw[step=1cm] (-1,0) grid (2,2);\n",
    "\\draw (-0.5,1.5) node [] {1};\n",
    "\\draw (0.5,1.5) node [] {2};\n",
    "\\draw (1.5,1.5) node [] {3};\n",
    "\\draw (0.5,0.5) node [] {?};\n"
   ]
  },
  {
   "cell_type": "markdown",
   "metadata": {
    "ein.tags": "worksheet-0",
    "slideshow": {
     "slide_type": "subslide"
    }
   },
   "source": [
    "## Rules"
   ]
  },
  {
   "cell_type": "markdown",
   "metadata": {
    "ein.tags": "worksheet-0",
    "slideshow": {
     "slide_type": "subslide"
    }
   },
   "source": [
    "![Rule 60](introNN/CARule60.png)\n",
    "\n",
    "<center>_Rule 60_</center>"
   ]
  },
  {
   "cell_type": "markdown",
   "metadata": {
    "ein.tags": "worksheet-0",
    "slideshow": {
     "slide_type": "subslide"
    }
   },
   "source": [
    "![Rule 90](introNN/CARule90.png)\n",
    "\n",
    "<center>_Rule 90_</center>"
   ]
  },
  {
   "cell_type": "markdown",
   "metadata": {
    "ein.tags": "worksheet-0",
    "slideshow": {
     "slide_type": "subslide"
    }
   },
   "source": [
    "![Rule 110](introNN/CARule110.png)\n",
    "\n",
    "<center>_Rule 110_</center>"
   ]
  },
  {
   "cell_type": "markdown",
   "metadata": {
    "ein.tags": "worksheet-0",
    "slideshow": {
     "slide_type": "subslide"
    }
   },
   "source": [
    "![Rule 250](introNN/CARule250.png)\n",
    "\n",
    "<center>_Rule 250_</center>\n"
   ]
  },
  {
   "cell_type": "markdown",
   "metadata": {
    "ein.tags": "worksheet-0",
    "slideshow": {
     "slide_type": "slide"
    }
   },
   "source": [
    "## Instructions"
   ]
  },
  {
   "cell_type": "markdown",
   "metadata": {
    "ein.tags": "worksheet-0",
    "slideshow": {
     "slide_type": "slide"
    }
   },
   "source": [
    "1. Color in the very center square of the very top row of the graph paper. \n",
    "2. Proceeding from left to right, color every square in the second row based on the rule you selected. In this row every cell will be left uncolored except for those near the center, because these rules all specify that a cell with three uncolored grids above remains uncolored. But how you treat the ones near the center will depend on the rule. For example, for rule 60, the cell immediately beneath the center, colored, square of row 1 will be colored, as will the one immediately to its right.\n",
    "3. Repeat this process working down until you can clearly see the pattern, or you give up in despair.\n",
    "Compare your results from using different rules.\n"
   ]
  },
  {
   "cell_type": "markdown",
   "metadata": {
    "ein.tags": "worksheet-0",
    "slideshow": {
     "slide_type": "slide"
    }
   },
   "source": [
    "## Food for Thought"
   ]
  },
  {
   "cell_type": "markdown",
   "metadata": {
    "ein.tags": "worksheet-0",
    "slideshow": {
     "slide_type": "notes"
    }
   },
   "source": [
    " How many rules are there? This is an exercise in [combinatorics](https://en.wikipedia.org/wiki/Combinatorics). The field of mathematics for computing combinations. You know how many inputs there can be: there are three cells and each can be white or gray, $2\\times2\\times2 = 8$. But how many output patterns are there that each rule can be matched with?"
   ]
  },
  {
   "cell_type": "markdown",
   "metadata": {
    "ein.tags": "worksheet-0",
    "slideshow": {
     "slide_type": "slide"
    }
   },
   "source": [
    "### Comments"
   ]
  },
  {
   "cell_type": "markdown",
   "metadata": {
    "ein.tags": "worksheet-0",
    "slideshow": {
     "slide_type": "notes"
    }
   },
   "source": [
    "What this exercise illustrates (pun intended) is that remarkable global structure can emerge from the consistent application of simple rules. By analogy think of a neuron computing whether or not to spike based on the input it receives from a small set of neighbors. A spike becomes  a decision, like whether or not to color a grid of the graph paper.  The neuron does not need to know the global objective in order to do its job properly. The global structure takes care of itself.\n",
    "\n",
    " This example also emphasizes the components of many neural networks. Each grid square is a node. It took inputs, the colors  of the three squares above it, and it (or rather you) computed its output: its color. The connectivity was implicit in the structure we used. Each node (grid cell) was wired to the three  nodes, and only those three nodes, above it (for its input) and wired for output to the node directly beneath it and one to either side.  If we change the connections, we change the network. If we change the rule for coloring, we  change the network. There is nothing special or necessary about choosing to use three cells. In fact, von Neumann used a different, more complex architecture. Some mathematicians argue that such simple programs can give rise to all of our complex world.\n"
   ]
  },
  {
   "cell_type": "markdown",
   "metadata": {
    "ein.tags": "worksheet-0",
    "slideshow": {
     "slide_type": "slide"
    }
   },
   "source": [
    "### What's the Point?"
   ]
  },
  {
   "cell_type": "markdown",
   "metadata": {
    "ein.tags": "worksheet-0",
    "slideshow": {
     "slide_type": "notes"
    }
   },
   "source": [
    " Local action can give rise to global properties"
   ]
  },
  {
   "cell_type": "markdown",
   "metadata": {
    "ein.tags": "worksheet-0",
    "slideshow": {
     "slide_type": "slide"
    }
   },
   "source": [
    "## Cellular Automata"
   ]
  },
  {
   "cell_type": "markdown",
   "metadata": {
    "ein.tags": "worksheet-0",
    "slideshow": {
     "slide_type": "slide"
    }
   },
   "source": [
    "1. [Game of Life](https://en.wikipedia.org/wiki/Conway%27s_Game_of_Life)\n",
    "2. John Von Neumann\n",
    "   **Automata and the Brain**\n",
    "   \n",
    "   Commentary by [Claude Shannon (pdf)](http://www.ams.org/bull/1958-64-03/S0002-9904-1958-10214-1/S0002-9904-1958-10214-1.pdf)\n",
    "\n",
    "   [Copy](https://archive.org/details/TheComputerAndTheBrain) of the book: [The Computer and the Brain](https://archive.org)\n",
    "3. Stephen Wolfram [thinks](http://www.wolframscience.com) automata explain everything\n",
    "\n"
   ]
  },
  {
   "cell_type": "markdown",
   "metadata": {
    "ein.tags": "worksheet-0",
    "slideshow": {
     "slide_type": "slide"
    }
   },
   "source": [
    "# What Math Underlies Neural Networks?\n"
   ]
  },
  {
   "cell_type": "markdown",
   "metadata": {
    "ein.tags": "worksheet-0",
    "slideshow": {
     "slide_type": "slide"
    }
   },
   "source": [
    "## Linear Algebra"
   ]
  },
  {
   "cell_type": "markdown",
   "metadata": {
    "ein.tags": "worksheet-0",
    "slideshow": {
     "slide_type": "subslide"
    }
   },
   "source": [
    "The players:\n",
    "\n",
    "1. Vectors\n",
    "2. Matrices\n",
    "3. Scalars\n",
    "4. Addition\n",
    "5. Multiplication (scalar and matrix)\n",
    "6. Transposition\n",
    "7. Inverse"
   ]
  },
  {
   "cell_type": "markdown",
   "metadata": {
    "ein.tags": "worksheet-0",
    "slideshow": {
     "slide_type": "slide"
    }
   },
   "source": [
    "In Class Exercise:\n",
    "\n",
    "Using Numpy arrays (and what is an array?) construct two matrices and add them together. As I do below.\n",
    "\n",
    "And then answer the following question (in code, that is by trying it out).\n",
    "\n",
    "1. What are rules for being able to multiply two matrices?\n",
    "2. Does A*B = B*A and what needs to be special about A and B  for this question to even make sense?\n",
    "\n",
    "[Here](https://docs.scipy.org/doc/numpy-1.13.0/reference/routines.array-creation.html) are many different ways to create arrays."
   ]
  },
  {
   "cell_type": "code",
   "execution_count": 9,
   "metadata": {
    "autoscroll": false,
    "ein.hycell": false,
    "ein.tags": "worksheet-0",
    "slideshow": {
     "slide_type": "slide"
    }
   },
   "outputs": [
    {
     "name": "stdout",
     "output_type": "stream",
     "text": [
      "[[ 4 14 24]\n",
      " [20 40 54]\n",
      " [30 54 70]]\n"
     ]
    }
   ],
   "source": [
    "import numpy as np\n",
    "a = np.array([[1,2,3],[4,5,6],[5,6,7]])\n",
    "b = a + 3\n",
    "print(a*np.transpose(b))"
   ]
  },
  {
   "cell_type": "markdown",
   "metadata": {
    "ein.tags": "worksheet-0",
    "slideshow": {
     "slide_type": "slide"
    }
   },
   "source": [
    "## Notation"
   ]
  },
  {
   "cell_type": "markdown",
   "metadata": {
    "ein.tags": "worksheet-0",
    "slideshow": {
     "slide_type": "subslide"
    }
   },
   "source": [
    "Vectors tend to be notated as _lower case_ letters, often in bold, such as $\\mathbf{a}$. They are also occasionally represented with little arrows on top such as $\\overrightarrow{\\textbf{a}}$.\n",
    "\n",
    "Matrices tend to be notated as _upper case_ letters, typically in bold, such as $\\mathbf{M}$."
   ]
  },
  {
   "cell_type": "markdown",
   "metadata": {
    "ein.tags": "worksheet-0",
    "slideshow": {
     "slide_type": "slide"
    }
   },
   "source": [
    "More Linear Algebra\n",
    "\n",
    "1. What is a row vector and what is a column vector?\n",
    "2. Which orientation is the more standard?\n",
    "3. What is the size of a vector? There are a couple possible answers to this one.\n",
    "4. What is an inner product? "
   ]
  },
  {
   "cell_type": "markdown",
   "metadata": {
    "ein.tags": "worksheet-0",
    "slideshow": {
     "slide_type": "slide"
    }
   },
   "source": [
    "# Homework"
   ]
  },
  {
   "cell_type": "markdown",
   "metadata": {
    "ein.tags": "worksheet-0",
    "slideshow": {
     "slide_type": "slide"
    }
   },
   "source": [
    "Provide a program (or notebook) that computes the inner product of two vectors. First, by coding your own implementation, and second by using the built in numpy method. In your code verify that you get the same answer for the same inputs. And tell me why - in the notebook - that it is generally preferable to find and use built-in functions (or functions from established libraries) rather than coding your own."
   ]
  },
  {
   "cell_type": "code",
   "execution_count": 19,
   "metadata": {
    "autoscroll": false,
    "ein.hycell": false,
    "ein.tags": "worksheet-0",
    "slideshow": {
     "slide_type": "skip"
    }
   },
   "outputs": [],
   "source": [
    "a = np.array([1,2,3])\n",
    "b = np.array([4,5,6])\n",
    "def ip (v1,v2):\n",
    "    try:\n",
    "        return(sum([x*y for (x,y) in zip(v1,v2)]))\n",
    "    except:\n",
    "        print(\"Maybe your vectors are of incompatible sizes?\")\n",
    "def ipnumpy(v1,v2):\n",
    "    return(np.dot(v1,v2))\n"
   ]
  },
  {
   "cell_type": "code",
   "execution_count": 21,
   "metadata": {
    "autoscroll": false,
    "ein.hycell": false,
    "ein.tags": "worksheet-0",
    "slideshow": {
     "slide_type": "slide"
    }
   },
   "outputs": [
    {
     "name": "stdout",
     "output_type": "stream",
     "text": [
      "ip(a,b) is equal to 32\n",
      "ipnumpy(a,b) is equal to 32\n",
      "and ip(a,b) == ipnumpy(a,b) is True\n"
     ]
    }
   ],
   "source": [
    "print(\"ip(a,b) is equal to %d\" % ip(a,b))\n",
    "print(\"ipnumpy(a,b) is equal to %d\" % ipnumpy(a,b))\n",
    "print(\"and ip(a,b) == ipnumpy(a,b) is %s\" % (ip(a,b) == ipnumpy(a,b)))"
   ]
  },
  {
   "cell_type": "markdown",
   "metadata": {
    "ein.tags": "worksheet-0",
    "slideshow": {
     "slide_type": "-"
    }
   },
   "source": [
    "# What is a Neural Network?"
   ]
  },
  {
   "cell_type": "markdown",
   "metadata": {
    "ein.tags": "worksheet-0",
    "slideshow": {
     "slide_type": "-"
    }
   },
   "source": [
    "What is a Neural Network? It is a brain inspired computational approach in which \"neurons\" compute functions of their inputs and pass on a /weighted/ proportion to the next neuron in the chain."
   ]
  },
  {
   "cell_type": "code",
   "execution_count": 61,
   "metadata": {
    "autoscroll": false,
    "ein.hycell": false,
    "ein.tags": "worksheet-0",
    "slideshow": {
     "slide_type": "-"
    }
   },
   "outputs": [
    {
     "data": {
      "image/png": "[encoded data removed]"
     },
     "metadata": {},
     "output_type": "display_data"
    }
   ],
   "source": [
    "%%tikz\n",
    "\\draw node(i1)[rectangle,draw] {\\textbf{Input 1}};\n",
    "\\draw node(i2)[below of=i1,rectangle,draw] {\\textbf{Input 2}};\n",
    "\\draw node(i3)[below of=i2,rectangle,draw] {\\textbf{Input 3}};\n",
    "\\draw node(n1)[right of= i1,rectangle,node distance = 2cm,draw] {\\textbf{Node 1}};\n",
    "\\draw node(n2)[right of= i2,rectangle,node distance = 2cm,draw] {\\textbf{Node 1}};\n",
    "\\draw node(n3)[right of= i3,rectangle,node distance = 2cm,draw] {\\textbf{Node 1}};\n",
    "\\draw node(w1)[right of= n1,rectangle,node distance = 2cm] {\\textbf{W1}};\n",
    "\\draw node(w2)[right of= n2,rectangle,node distance = 2cm] {\\textbf{W2}};\n",
    "\\draw node(w3)[right of= n3,rectangle,node distance = 2cm] {\\textbf{W3}};\n",
    "\\draw node(output)[right of = w2,rectangle,node distance = 2cm] {\\textbf{Output}};\n",
    "\\draw [->] (i1) edge (n1) (n1) edge (w1) (w1) edge (output);\n",
    "\\draw [->] (i2) edge (n2) (n2) edge (w2) (w2) edge (output);\n",
    "\\draw [->] (i3) edge (n3) (n3) edge (w3) (w3) edge (output);"
   ]
  },
  {
   "cell_type": "markdown",
   "metadata": {
    "ein.tags": "worksheet-0",
    "slideshow": {
     "slide_type": "-"
    }
   },
   "source": [
    "$I_1 \\times w_{1,1} + I_2 \\times w_{2,1} + I_3 \\times w_{3,1} > \\Theta$\n",
    "then Output = 1."
   ]
  },
  {
   "cell_type": "markdown",
   "metadata": {
    "ein.tags": "worksheet-0",
    "slideshow": {
     "slide_type": "-"
    }
   },
   "source": [
    "The structure of the threshold unit illustrates the basic mechanics of many neural networks: Inputs are passed to the first layer, which in turn are passed to downstream units (only one shown here). A weighted sum (or possibly a function of the weighted sum) leads to an intermediate output that is then passed to the next layer of the network. In this case the weighted sum is fed into a threshold function that compares the value to a threshold, and passes on the value 1 if it is greater than the threshold and 0 otherwise. "
   ]
  },
  {
   "cell_type": "markdown",
   "metadata": {
    "ein.tags": "worksheet-0",
    "slideshow": {
     "slide_type": "-"
    }
   },
   "source": [
    "## Questions:"
   ]
  },
  {
   "cell_type": "markdown",
   "metadata": {
    "ein.tags": "worksheet-0",
    "slideshow": {
     "slide_type": "-"
    }
   },
   "source": [
    "1. What does  the $\\Theta$ represent and what is it equivalent to in a real neuron?\n",
    "2. What, geometrically speaking, is a plane?\n",
    "3. What is a hyperplane?\n",
    "4. What is linearly separability and how does that relate to planes and hyperplanes?"
   ]
  },
  {
   "cell_type": "markdown",
   "metadata": {
    "ein.tags": "worksheet-0",
    "slideshow": {
     "slide_type": "-"
    }
   },
   "source": [
    "## Examples "
   ]
  },
  {
   "cell_type": "markdown",
   "metadata": {
    "ein.tags": "worksheet-0",
    "slideshow": {
     "slide_type": "-"
    }
   },
   "source": [
    "### AND"
   ]
  },
  {
   "cell_type": "code",
   "execution_count": 66,
   "metadata": {
    "autoscroll": false,
    "ein.hycell": false,
    "ein.tags": "worksheet-0",
    "slideshow": {
     "slide_type": "-"
    }
   },
   "outputs": [
    {
     "data": {
      "text/plain": [
       "<matplotlib.collections.PathCollection at 0x7f4d1675a358>"
      ]
     },
     "execution_count": 66,
     "metadata": {},
     "output_type": "execute_result"
    },
    {
     "data": {
      "image/png": "[encoded data removed]",
      "text/plain": [
       "<matplotlib.figure.Figure at 0x7f4d54401a20>"
      ]
     },
     "metadata": {},
     "output_type": "display_data"
    }
   ],
   "source": [
    "%matplotlib inline\n",
    "import matplotlib \n",
    "import matplotlib.pyplot as p\n",
    "cs = [\"#ff0000\",\"#ff0000\",\"#ff0000\",\"#008000\"]\n",
    "p.scatter([0, 1, 0, 1],[0,0,1,1],color=cs,s = 60)"
   ]
  },
  {
   "cell_type": "markdown",
   "metadata": {
    "ein.tags": "worksheet-0",
    "slideshow": {
     "slide_type": "-"
    }
   },
   "source": [
    "### XOR"
   ]
  },
  {
   "cell_type": "code",
   "execution_count": 67,
   "metadata": {
    "autoscroll": false,
    "ein.hycell": false,
    "ein.tags": "worksheet-0",
    "slideshow": {
     "slide_type": "-"
    }
   },
   "outputs": [
    {
     "data": {
      "text/plain": [
       "<matplotlib.collections.PathCollection at 0x7f4d16722cf8>"
      ]
     },
     "execution_count": 67,
     "metadata": {},
     "output_type": "execute_result"
    },
    {
     "data": {
      "image/png": "[encoded data removed]",
      "text/plain": [
       "<matplotlib.figure.Figure at 0x7f4d167bd400>"
      ]
     },
     "metadata": {},
     "output_type": "display_data"
    }
   ],
   "source": [
    "import matplotlib \n",
    "import matplotlib.pyplot as p\n",
    "cs = [\"#ff0000\", \"#008000\",  \"#008000\", \"#ff0000\"]\n",
    "p.scatter([0, 1, 0, 1],[0,0,1,1],color=cs,s = 60)"
   ]
  },
  {
   "cell_type": "markdown",
   "metadata": {
    "ein.tags": "worksheet-0",
    "slideshow": {
     "slide_type": "-"
    }
   },
   "source": [
    "Nature Biotechnology volume 26, pages 195–197 (2008)\n",
    "\n",
    "![Nature Biotechnology volume 26, pages 195–197 (2008)](https://media.nature.com/m685/nature-assets/nbt/journal/v26/n2/images/nbt1386-F1.gif)"
   ]
  },
  {
   "cell_type": "markdown",
   "metadata": {
    "ein.tags": "worksheet-0",
    "slideshow": {
     "slide_type": "-"
    }
   },
   "source": [
    "## Boolean Logic"
   ]
  },
  {
   "cell_type": "markdown",
   "metadata": {
    "ein.tags": "worksheet-0",
    "slideshow": {
     "slide_type": "-"
    }
   },
   "source": [
    "- George Boole, Author of the _Laws of Thought_\n",
    "    1. Read the [book](https://archive.org/details/investigationofl00boolrich) on Archive.org\n",
    "    2. Read about [George Boole](https://plato.stanford.edu/entries/boole/#LifWor).\n",
    "    "
   ]
  },
  {
   "cell_type": "markdown",
   "metadata": {
    "ein.tags": "worksheet-0",
    "slideshow": {
     "slide_type": "-"
    }
   },
   "source": [
    "*** First Order Logic - Truth Tables\n",
    "    1. Or\n",
    "       #+Name: Or\n",
    "       #+Caption: Or\n",
    "       | Pr. A | Pr. B | Or |\n",
    "       |-------+-------+----|\n",
    "       |     1 |     1 |  1 |\n",
    "       |     0 |     0 |  0 |\n",
    "       |     0 |     1 |  1 |\n",
    "       |     1 |     0 |  1 |\n",
    "    2. And\n",
    "       #+Name: And\n",
    "       #+Caption: And\n",
    "       | Pr. A | Pr. B | And |\n",
    "       |-------+-------+----|\n",
    "       |     1 |     1 |  1 |\n",
    "       |     0 |     0 |  0 |\n",
    "       |     0 |     1 |  0 |\n",
    "       |     1 |     0 |  0 |\n",
    "    3. Nand\n",
    "       #+Name: Nand\n",
    "       #+Caption: Nand\n",
    "       | Pr. A | Pr. B | NAND |\n",
    "       |-------+-------+------|\n",
    "       |     1 |     1 |    0 |\n",
    "       |     0 |     0 |    1 |\n",
    "       |     0 |     1 |    1 |\n",
    "       |     1 |     0 |    1 |\n",
    "**** Class Activity - Groups\n",
    "     1. Create the truth table for the exlusive-or (aka XOR)\n",
    "     2. Using only the above /functions/ show how you can get the XOR function from a particular chain of those three functions.\n",
    "***** Answer :noexport:\n",
    "      :Properties:\n",
    "      :Visibility: folded\n",
    "      :End:\n",
    "      AND(NAND(INPUT),OR(INPUT))\n",
    "*** Why Logic\n",
    "**** Question:\n",
    "     Why should the operations of truth tables and logic be considered relevant for models of human cognition or models of the nervous system?\n",
    "***** Answer: :noexport:\n",
    "      :Properties:\n",
    "      :Visibility: folded\n",
    "      :End:\n",
    "      Possible answers. Not necessarily \"right\" answers.\n",
    "      1. Human thought is fundamentally logical.\n",
    "\t - General\n",
    "           https://plato.stanford.edu/entries/cognitive-science/#ForLog\n",
    "\t - Mental Models - Philip Johnson Laird\n",
    "\t   http://mentalmodels.princeton.edu/about/critics/\n",
    "      2. Neuron firing can be treated as ones and zeros.\n",
    "\t - McCullough and Pitts\n",
    "\t   http://link.springer.com/article/10.1007/BF02478259\n",
    "\t - History of a search for logic in the nervous system\n",
    "           http://muse.jhu.edu/article/46496\n",
    "\n",
    "* Assignments\n",
    "    1. Present me with a concise demonstration of the following, which could be a program or an excel spread sheet. This will require that you know what a vector and matrix are. Wikipedia is fine here, but you can use another source if you want. In fact, Wikipedia is more than you need. This python website http://www.python-course.eu/matrix_arithmetic.php provides a nice overview. \n",
    "       a. How to multiply two vectors together in the operation called a _dot product_. You can either do it with formulas in a spreadsheet or using a loop in some programming language, but you can't just use some special inbuilt function. I need to see enough to know that you understand what is actually taking place - then we will just use the built in functions as we progress.\n",
    "       b. Show how this operation relates to the threshold neuron illustrated above in Figure 1.\n",
    "       c. Demonstrate that matrix multiplication is \"non-commutative.\"\n"
   ]
  }
 ],
 "metadata": {
  "kernelspec": {
   "display_name": "Python 3",
   "language": "python",
   "name": "python3"
  },
  "language_info": {
   "codemirror_mode": {
    "name": "ipython",
    "version": 3
   },
   "file_extension": ".py",
   "mimetype": "text/x-python",
   "name": "python",
   "nbconvert_exporter": "python",
   "pygments_lexer": "ipython3",
   "version": "3.6.5"
  },
  "name": "nnLinAlg.ipynb"
 },
 "nbformat": 4,
 "nbformat_minor": 2
}
