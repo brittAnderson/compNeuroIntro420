{
 "cells": [
  {
   "cell_type": "markdown",
   "metadata": {
    "ein.tags": "worksheet-0",
    "slideshow": {
     "slide_type": "-"
    }
   },
   "source": [
    "# Hopfield Networks"
   ]
  },
  {
   "cell_type": "markdown",
   "metadata": {
    "ein.tags": "worksheet-0",
    "slideshow": {
     "slide_type": "-"
    }
   },
   "source": [
    "The seminal [reference (pdf)](http://www.pnas.org/content/pnas/79/8/2554.full.pdf). Completely readable. Not that long. Take a look."
   ]
  },
  {
   "cell_type": "markdown",
   "metadata": {
    "ein.tags": "worksheet-0",
    "slideshow": {
     "slide_type": "-"
    }
   },
   "source": [
    "## A quick look at the homework and python dictionaries"
   ]
  },
  {
   "cell_type": "code",
   "execution_count": 3,
   "metadata": {
    "autoscroll": false,
    "collapsed": false,
    "ein.hycell": false,
    "ein.tags": "worksheet-0",
    "slideshow": {
     "slide_type": "-"
    }
   },
   "outputs": [],
   "source": [
    "import numpy as np"
   ]
  },
  {
   "cell_type": "code",
   "execution_count": 14,
   "metadata": {
    "autoscroll": false,
    "collapsed": false,
    "ein.hycell": false,
    "ein.tags": "worksheet-0",
    "slideshow": {
     "slide_type": "-"
    }
   },
   "outputs": [
    {
     "name": "stdout",
     "output_type": "stream",
     "text": [
      "-1\n",
      "1\n",
      "1\n",
      "-1\n"
     ]
    }
   ],
   "source": [
    "wor   = [0.2,0.2,0.1]\n",
    "wand  = [0.2,0.2,-0.1]\n",
    "wnand = [-0.2,-0.2,0.3]\n",
    "wdict = {'or':wor,'and':wand,'nand':wnand}\n",
    "inputs = [[-1,-1,1],[-1,1,1],[1,-1,1],[1,1,1]]\n",
    "\n",
    "def checkfxn (inp,ws):\n",
    "    interim = [(1 if (np.dot(inp,ws['or'])> 0) else -1),(1 if (np.dot(inp,ws['nand'])>0) else -1)]\n",
    "    interim.append(1)\n",
    "    return(1 if (np.dot(interim, ws['and']) > 0) else -1)\n",
    "    \n",
    "for i in inputs:\n",
    "    print(checkfxn(i,wdict))"
   ]
  },
  {
   "cell_type": "markdown",
   "metadata": {
    "ein.tags": "worksheet-0",
    "slideshow": {
     "slide_type": "-"
    }
   },
   "source": [
    "Python dictionaries: a convenient way to store values with names. A dictionary is a key:value pairing, like in a dictionary you have the word:definition. Look up the word, you get the definition. Here you look up the key you get the value. I stored my weights for the different booleans with their names. "
   ]
  },
  {
   "cell_type": "markdown",
   "metadata": {
    "ein.tags": "worksheet-0",
    "slideshow": {
     "slide_type": "-"
    }
   },
   "source": [
    "## Not all Networks are the Same"
   ]
  },
  {
   "cell_type": "markdown",
   "metadata": {
    "ein.tags": "worksheet-0",
    "slideshow": {
     "slide_type": "-"
    }
   },
   "source": [
    "1. Feedforward\n",
    "2. Recurrent\n",
    "3. Convolutional\n",
    "4. Multilevel\n",
    "5. Supervised\n",
    "6. Unsupervised"
   ]
  },
  {
   "cell_type": "markdown",
   "metadata": {
    "ein.tags": "worksheet-0",
    "slideshow": {
     "slide_type": "-"
    }
   },
   "source": [
    "### What is important about the Hopfield Net?"
   ]
  },
  {
   "cell_type": "markdown",
   "metadata": {
    "ein.tags": "worksheet-0",
    "slideshow": {
     "slide_type": "-"
    }
   },
   "source": [
    "- Showed physicists a new realm for their skills\n",
    "- Added recurrent (i.e. feedback) connections to network design (output becomes input).\n",
    "- Changed the focus from network architecture to that of a dynamical system.\n",
    "- Showed that the network could remember and\n",
    "- It could do some error correction, it can reconstruct the \"right\" answer from faulty input."
   ]
  },
  {
   "cell_type": "markdown",
   "metadata": {
    "ein.tags": "worksheet-0",
    "slideshow": {
     "slide_type": "-"
    }
   },
   "source": [
    "Discussion: Why are these things important?"
   ]
  },
  {
   "cell_type": "code",
   "execution_count": 3,
   "metadata": {
    "autoscroll": false,
    "collapsed": false,
    "ein.hycell": false,
    "ein.tags": "worksheet-0",
    "slideshow": {
     "slide_type": "-"
    }
   },
   "outputs": [],
   "source": [
    "%load_ext tikzmagic"
   ]
  },
  {
   "cell_type": "code",
   "execution_count": 43,
   "metadata": {
    "autoscroll": false,
    "collapsed": false,
    "ein.hycell": false,
    "ein.tags": "worksheet-0",
    "slideshow": {
     "slide_type": "-"
    }
   },
   "outputs": [
    {
     "data": {
      "image/png": "[encoded data removed]"
     },
     "metadata": {},
     "output_type": "display_data"
    }
   ],
   "source": [
    "%%tikz\n",
    "\\draw (-1.0,1.0)  node (A) {N1};\n",
    "\\draw (1.0 , 1.0) node (B) {N2};\n",
    "\\draw (-1.0 , -1.0) node (C) {N3};\n",
    "\\draw (1.0 , -1.0) node (D) {N4};\n",
    "\\draw [dotted,loop] (A) edge (A);\n",
    "\\draw [dotted,loop] (B) edge (B);\n",
    "\\draw [->,dotted,loop,looseness=10,out=180,in=300] (C) edge (C);\n",
    "\\draw [->,dotted,loop,looseness=10,out=0,in =240] (D) edge (D);\n",
    "\\draw [<->] (A) edge (B) (A) edge (C) (A) edge (D);\n",
    "\\draw [<->] (B) edge (C) (B) edge (D) (A) edge (D);\n",
    "\\draw [<->] (C)  edge (D);\n"
   ]
  },
  {
   "cell_type": "markdown",
   "metadata": {
    "ein.tags": "worksheet-0",
    "slideshow": {
     "slide_type": "-"
    }
   },
   "source": [
    "How does a network like this work?\n",
    "\n",
    "Each node has a value.\n",
    "\n",
    "Each of those arrowheads has an associated weight.\n",
    "\n",
    "The dotted lines indicate that those connections are missing. There are no self connections. Later you will tell me why this *must* be the case.\n",
    "\n",
    "Tests of understanding:\n",
    "\n",
    "1. Tell me what the input for a network like this in terms of the linear algebra constructs we have talked about.\n",
    "2. Tell me what the weights look like in terms of the linear algebra objects we know about.\n",
    "3. How might we conceive of \"running\" the network for one cycle in terms of the above.\n",
    "   Althought we will do it that way for a bit, that is not actually how it is done typically."
   ]
  },
  {
   "cell_type": "markdown",
   "metadata": {
    "ein.tags": "worksheet-0",
    "slideshow": {
     "slide_type": "-"
    }
   },
   "source": [
    "### Let's Work Some Examples"
   ]
  },
  {
   "cell_type": "code",
   "execution_count": 47,
   "metadata": {
    "autoscroll": false,
    "collapsed": false,
    "ein.hycell": false,
    "ein.tags": "worksheet-0",
    "slideshow": {
     "slide_type": "-"
    }
   },
   "outputs": [
    {
     "data": {
      "text/latex": [
       "A = \\(\\{1,0,1,0\\}^T\\)\n",
       "\n",
       "B = \\(\\{0,1,0,1\\}^T\\)"
      ],
      "text/plain": [
       "<IPython.core.display.Latex object>"
      ]
     },
     "metadata": {},
     "output_type": "display_data"
    }
   ],
   "source": [
    "%%latex\n",
    "A = \\(\\{1,0,1,0\\}^T\\)\n",
    "\n",
    "B = \\(\\{0,1,0,1\\}^T\\)\n"
   ]
  },
  {
   "cell_type": "markdown",
   "metadata": {
    "ein.tags": "worksheet-0",
    "slideshow": {
     "slide_type": "-"
    }
   },
   "source": [
    "Weight matrix, W, is,"
   ]
  },
  {
   "cell_type": "code",
   "execution_count": 48,
   "metadata": {
    "autoscroll": false,
    "collapsed": false,
    "ein.hycell": false,
    "ein.tags": "worksheet-0",
    "slideshow": {
     "slide_type": "-"
    }
   },
   "outputs": [
    {
     "data": {
      "text/latex": [
       "\\begin{bmatrix}\n",
       "0 & -3 & 3 & -3\\\\\n",
       "-3 & 0 & -3 & 3\\\\\n",
       "3 & -3 & 0 & -3\\\\\n",
       "-3 & 3 & -3 & 0\\\\\n",
       "\\end{bmatrix}"
      ],
      "text/plain": [
       "<IPython.core.display.Latex object>"
      ]
     },
     "metadata": {},
     "output_type": "display_data"
    }
   ],
   "source": [
    "%%latex\n",
    "\\begin{bmatrix}\n",
    "0 & -3 & 3 & -3\\\\\n",
    "-3 & 0 & -3 & 3\\\\\n",
    "3 & -3 & 0 & -3\\\\\n",
    "-3 & 3 & -3 & 0\\\\\n",
    "\\end{bmatrix}"
   ]
  },
  {
   "cell_type": "markdown",
   "metadata": {
    "ein.tags": "worksheet-0",
    "slideshow": {
     "slide_type": "-"
    }
   },
   "source": [
    "Threshold rule: \n",
    "\n",
    "$output(t)=\\{\\begin{array}{c} 1\\; \\mbox{if }  t \\geq \\Theta\\\\ 0\\; \\mbox{if } t < \\Theta \\end{array}$\n",
    "\n",
    "Let $\\Theta = 0$.\n",
    "\n",
    "What are the outputs for each input pattern?"
   ]
  },
  {
   "cell_type": "markdown",
   "metadata": {
    "ein.tags": "worksheet-0",
    "slideshow": {
     "slide_type": "-"
    }
   },
   "source": [
    "What would you guess you would get for an input of $\\{1,0,0,0\\}^{T}$ and why? "
   ]
  },
  {
   "cell_type": "code",
   "execution_count": null,
   "metadata": {
    "autoscroll": false,
    "collapsed": false,
    "ein.hycell": false,
    "ein.tags": "worksheet-0",
    "slideshow": {
     "slide_type": "-"
    }
   },
   "outputs": [],
   "source": [
    "What do you get?"
   ]
  },
  {
   "cell_type": "markdown",
   "metadata": {
    "ein.tags": "worksheet-0",
    "slideshow": {
     "slide_type": "-"
    }
   },
   "source": [
    "Is A or B **closer**?\n",
    "\n",
    "What does it mean for something to be **closer**?"
   ]
  },
  {
   "cell_type": "markdown",
   "metadata": {
    "ein.tags": "worksheet-0",
    "slideshow": {
     "slide_type": "-"
    }
   },
   "source": [
    "#### Distance Metrics"
   ]
  },
  {
   "cell_type": "markdown",
   "metadata": {
    "ein.tags": "worksheet-0",
    "slideshow": {
     "slide_type": "-"
    }
   },
   "source": [
    "Non-negative; symmetric; identity; [triangle-inequality](https://en.wikipedia.org/wiki/Triangle_inequality)."
   ]
  },
  {
   "cell_type": "markdown",
   "metadata": {
    "ein.tags": "worksheet-0",
    "slideshow": {
     "slide_type": "-"
    }
   },
   "source": [
    "#### [Hamming Distance](https://en.wikipedia.org/wiki/Hamming_distance)"
   ]
  },
  {
   "cell_type": "markdown",
   "metadata": {
    "ein.tags": "worksheet-0",
    "slideshow": {
     "slide_type": "-"
    }
   },
   "source": [
    "Count the differences in bits."
   ]
  },
  {
   "cell_type": "markdown",
   "metadata": {
    "ein.tags": "worksheet-0",
    "slideshow": {
     "slide_type": "-"
    }
   },
   "source": [
    "Digression: Don't forget to think about geometry and dynamics.\n",
    "\n",
    "In the Perceptron lecture, we talked about how the\n",
    "weight vector moved around. But here we don't have the weight vector\n",
    "moving, but we are changing the points on the input. You can think of\n",
    "this as a point moving around in a four dimensional space. At each point\n",
    "in time, there is a new coordinate position. This is a dynamical system.\n",
    "What Hopfield did was, in part, use the language of physics to describe\n",
    "and evaluate what a network was doing. In his case, he used the idea of\n",
    "\"energy\" to compute the state of the network and to show that it would,\n",
    "under his conditions, achieve a minimum. "
   ]
  },
  {
   "cell_type": "markdown",
   "metadata": {
    "ein.tags": "worksheet-0",
    "slideshow": {
     "slide_type": "-"
    }
   },
   "source": [
    "Hebb [Outer Product](https://en.wikipedia.org/wiki/Outer_product) Rule The strength of a change in a connection is\n",
    "equal to the product of the input and outputs, i.e.\n",
    "$$\\Delta A[i,j] = \\eta f[j]g[i]$$ and $$g[i] = \\sum_jA[i,j]f[j]$$\n",
    "therefore, $$\\vec{g} = \\mathbf{Af}$$ Does it matter that the\n",
    "\\(\\mathbf{W}\\) comes first?\n",
    "\n",
    "Why is this named after Hebb?"
   ]
  },
  {
   "cell_type": "markdown",
   "metadata": {
    "ein.tags": "worksheet-0",
    "slideshow": {
     "slide_type": "-"
    }
   },
   "source": [
    "### Class Exercise"
   ]
  },
  {
   "cell_type": "markdown",
   "metadata": {
    "ein.tags": "worksheet-0",
    "slideshow": {
     "slide_type": "-"
    }
   },
   "source": [
    "1. Assume that $\\vec{g}$ and $\\vec{f}$ are each three elements in length.\n",
    "2. Assume that the $\\mathbf{W}$ starts at zero, and that one pattern is learned.\n",
    "3. Write the matrix $\\mathbf{W}$ in a symbolic form, that is with $f's$ and $g's$ and $A's$; not numbers.\n",
    "4. Then, when you have done that, and see if you can find a more compact way to represent the matrix $\\mathbf{W}$ using the vectors $\\vec{f}$ and $\\vec{g}$."
   ]
  },
  {
   "cell_type": "code",
   "execution_count": 56,
   "metadata": {
    "autoscroll": false,
    "collapsed": false,
    "ein.hycell": false,
    "ein.tags": "worksheet-0",
    "slideshow": {
     "slide_type": "-"
    }
   },
   "outputs": [
    {
     "data": {
      "text/latex": [
       "\\(\\mathbf{W}\\) = $\\eta \\times\n",
       "\\begin{bmatrix}\n",
       "f[1]g[1] & f[2]g[1] & f[3]g[1]\\\\\n",
       "f[1]g[2] & f[2]g[2] & f[3]g[2]\\\\\n",
       "f[1]g[3] & f[2]g[3] & f[3]g[3]\n",
       "\\end{bmatrix} = \\eta \\, \\vec{g} \\, \\vec{f}^T$"
      ],
      "text/plain": [
       "<IPython.core.display.Latex object>"
      ]
     },
     "metadata": {},
     "output_type": "display_data"
    }
   ],
   "source": [
    "%%latex\n",
    "\\(\\mathbf{W}\\) = $\\eta \\times\n",
    "\\begin{bmatrix}\n",
    "f[1]g[1] & f[2]g[1] & f[3]g[1]\\\\\n",
    "f[1]g[2] & f[2]g[2] & f[3]g[2]\\\\\n",
    "f[1]g[3] & f[2]g[3] & f[3]g[3]\n",
    "\\end{bmatrix} = \\eta \\, \\vec{g} \\, \\vec{f}^T$"
   ]
  },
  {
   "cell_type": "raw",
   "metadata": {
    "ein.tags": "worksheet-0",
    "slideshow": {
     "slide_type": "-"
    }
   },
   "source": [
    "Now, suppose that we call the matrix $\\vec{g}\\,\\vec{f^T}, \\mathbf{W}$.\n",
    "\n",
    "What is the result of submitting $\\vec{f}$ as an input?\n",
    "\n",
    "$\\vec{g'} = \\mathbf{A}\\vec{f}$ \n",
    "\n",
    "substitute for $\\mathbf{A}$.\n",
    "\n",
    "$\\vec{g'} = \\vec{g} \\, \\vec{f^T} \\, \\vec{f} \\propto \\vec{g}$.\n",
    "\n",
    "Why?"
   ]
  },
  {
   "cell_type": "markdown",
   "metadata": {
    "ein.tags": "worksheet-0",
    "slideshow": {
     "slide_type": "-"
    }
   },
   "source": [
    "Homework Assignment:\n",
    "TL:DR Create a random data set of input patterns, generate the weights necessary to properly decode the inputs, show the code for their computation, and then demonstrate with at least one example that the network is robust to some noise.\n",
    "\n",
    "More detailed:\n",
    "1. Make the input patterns 2-d, square and of size \"n\".\n",
    "2. Use a bipolar system and have, roughly, equal numbers of +1s and -1s in your patterns\n",
    "3. Make a few of them and store them in some sort of data structure.\n",
    "4. Using those patterns compute the weight matrix with the following equation:\n",
    "$$ w_{ij} =\\frac{1}{N} \\sum_{\\mu} value^\\mu_i \\times value^\\mu_j$$\n",
    "Where N is the size of the patters, that is how many \"neurons\". $\\mu$ is an index for each of the patterns, and $i$ and $j$ refer to the neurons in the pattern $\\mu$. Do this **in code**. The computer is good for this manual, repetitive sort of stuff.\n",
    "5. Program an asynchronous updating rule, run your network until it stablelizes, and then show that you get back what you put in.\n",
    "6. Then do the same for at least one disrupted pattern (where you flipped a couple of bits around.)"
   ]
  },
  {
   "cell_type": "markdown",
   "metadata": {
    "ein.tags": "worksheet-0",
    "slideshow": {
     "slide_type": "-"
    }
   },
   "source": [
    "###### Imports"
   ]
  },
  {
   "cell_type": "code",
   "execution_count": 213,
   "metadata": {
    "autoscroll": false,
    "collapsed": false,
    "ein.hycell": false,
    "ein.tags": "worksheet-0",
    "slideshow": {
     "slide_type": "-"
    }
   },
   "outputs": [],
   "source": [
    "%matplotlib inline\n",
    "import matplotlib\n",
    "import matplotlib.pyplot as p\n",
    "import random as r\n",
    "import numpy as np"
   ]
  },
  {
   "cell_type": "markdown",
   "metadata": {
    "ein.tags": "worksheet-0",
    "slideshow": {
     "slide_type": "-"
    }
   },
   "source": [
    "###### Generate Random Size and Number of Patterns"
   ]
  },
  {
   "cell_type": "code",
   "execution_count": 224,
   "metadata": {
    "autoscroll": false,
    "collapsed": false,
    "ein.hycell": false,
    "ein.tags": "worksheet-0",
    "slideshow": {
     "slide_type": "-"
    }
   },
   "outputs": [],
   "source": [
    "def hopGenSzN ():\n",
    "    pn = r.randint(5,10)\n",
    "    psz = np.repeat(r.randint(3,6),2)\n",
    "    return((pn,psz))"
   ]
  },
  {
   "cell_type": "markdown",
   "metadata": {
    "ein.tags": "worksheet-0",
    "slideshow": {
     "slide_type": "-"
    }
   },
   "source": [
    "###### Function to make random patterns"
   ]
  },
  {
   "cell_type": "code",
   "execution_count": 215,
   "metadata": {
    "autoscroll": false,
    "collapsed": false,
    "ein.hycell": false,
    "ein.tags": "worksheet-0",
    "slideshow": {
     "slide_type": "-"
    }
   },
   "outputs": [],
   "source": [
    "def hopMkPatts(numPs2Make,psize):\n",
    "    ps = []\n",
    "    for n in range(numPs2Make):\n",
    "        tobepatt = np.array([[(np.round(r.random()) *2) - 1 for i in range(psize[0])] for j in range(psize[1])])\n",
    "        ps.append(tobepatt)\n",
    "    return(ps)"
   ]
  },
  {
   "cell_type": "markdown",
   "metadata": {
    "ein.tags": "worksheet-0",
    "slideshow": {
     "slide_type": "-"
    }
   },
   "source": [
    "###### Function to Make Weight Matrix for a set of Generated Patterns"
   ]
  },
  {
   "cell_type": "code",
   "execution_count": 225,
   "metadata": {
    "autoscroll": false,
    "collapsed": false,
    "ein.hycell": false,
    "ein.tags": "worksheet-0",
    "slideshow": {
     "slide_type": "-"
    }
   },
   "outputs": [],
   "source": [
    "def hopMkWts(patterns):\n",
    "    w = np.zeros(list(map((lambda x: x**2),patterns[0].shape)))\n",
    "    for p in patterns:\n",
    "        w = (1.0/p.size)*(w + np.outer(p,p))\n",
    "    np.fill_diagonal(w,0)\n",
    "    return(w)\n"
   ]
  },
  {
   "cell_type": "markdown",
   "metadata": {
    "ein.tags": "worksheet-0",
    "slideshow": {
     "slide_type": "-"
    }
   },
   "source": [
    "###### Function to Loop Asyncrhonously Through all the Elements of a Pattern Until Output is Stable"
   ]
  },
  {
   "cell_type": "code",
   "execution_count": 226,
   "metadata": {
    "autoscroll": false,
    "collapsed": false,
    "ein.hycell": false,
    "ein.tags": "worksheet-0",
    "slideshow": {
     "slide_type": "-"
    }
   },
   "outputs": [],
   "source": [
    "def hopLoop(patt,wts):\n",
    "    inpatt = patt\n",
    "    while True:\n",
    "        rws = list(range(patt.shape[0]))\n",
    "        cls = list(range(patt.shape[1]))\n",
    "        r.shuffle(rws)\n",
    "        r.shuffle(cls)\n",
    "        testpatt = inpatt\n",
    "        for rw in rws:\n",
    "            for cl in cls:\n",
    "                inpatt[rw][cl] = 1.0 if ((np.reshape(inpatt,(1,inpatt.size))\n",
    "                                        @ wts[rw]) * inpatt[rw][cl]) > 0 else -1\n",
    "        if (np.all(testpatt == inpatt)): break\n",
    "    return(patt)"
   ]
  },
  {
   "cell_type": "markdown",
   "metadata": {
    "ein.tags": "worksheet-0",
    "slideshow": {
     "slide_type": "-"
    }
   },
   "source": [
    "###### A Function to Visualize the Output"
   ]
  },
  {
   "cell_type": "code",
   "execution_count": 227,
   "metadata": {
    "autoscroll": false,
    "collapsed": false,
    "ein.hycell": false,
    "ein.tags": "worksheet-0",
    "slideshow": {
     "slide_type": "-"
    }
   },
   "outputs": [],
   "source": [
    "def hopPlot(ins,outs): \n",
    "    r = len(ins)\n",
    "    c = 3\n",
    "    pltcntr = 1\n",
    "    for i in range(r):\n",
    "        p.subplot(r,3,pltcntr)\n",
    "        p.imshow(ins[i])\n",
    "        p.subplot(r,3,(pltcntr+1))\n",
    "        p.imshow(outs[i])\n",
    "        p.subplot(r,3,(pltcntr+2))\n",
    "        p.imshow(ins[i]-outs[i])\n",
    "        pltcntr = pltcntr+3\n",
    "    return(p)"
   ]
  },
  {
   "cell_type": "markdown",
   "metadata": {
    "ein.tags": "worksheet-0",
    "slideshow": {
     "slide_type": "-"
    }
   },
   "source": [
    "###### Example of How to Use"
   ]
  },
  {
   "cell_type": "code",
   "execution_count": 234,
   "metadata": {
    "autoscroll": false,
    "collapsed": false,
    "ein.hycell": false,
    "ein.tags": "worksheet-0",
    "slideshow": {
     "slide_type": "-"
    }
   },
   "outputs": [],
   "source": [
    "myn,mysz = hopGenSzN()\n",
    "myps = hopMkPatts(myn,mysz)\n",
    "w = hopMkWts(myps)\n",
    "outps = []\n",
    "for inp in myps:\n",
    "    op = hopLoop(inp,w)\n",
    "    outps.append(op)\n"
   ]
  },
  {
   "cell_type": "code",
   "execution_count": 235,
   "metadata": {
    "autoscroll": false,
    "collapsed": false,
    "ein.hycell": false,
    "ein.tags": "worksheet-0",
    "slideshow": {
     "slide_type": "-"
    }
   },
   "outputs": [
    {
     "data": {
      "image/png": "[encoded data removed]",
      "text/plain": [
       "<matplotlib.figure.Figure at 0x7f44fa951390>"
      ]
     },
     "metadata": {},
     "output_type": "display_data"
    }
   ],
   "source": [
    "myp = hopPlot(myps,outps)"
   ]
  }
 ],
 "metadata": {
  "kernelspec": {
   "display_name": "Python 3",
   "name": "python3"
  },
  "name": "hopfield.ipynb"
 },
 "nbformat": 4,
 "nbformat_minor": 2
}
