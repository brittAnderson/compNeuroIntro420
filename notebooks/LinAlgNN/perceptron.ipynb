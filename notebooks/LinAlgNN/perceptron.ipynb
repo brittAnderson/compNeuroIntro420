{
 "cells": [
  {
   "cell_type": "code",
   "execution_count": 1,
   "metadata": {
    "autoscroll": false,
    "ein.hycell": false,
    "ein.tags": "worksheet-0",
    "slideshow": {
     "slide_type": "skip"
    }
   },
   "outputs": [],
   "source": [
    "%matplotlib inline\n",
    "import matplotlib\n",
    "import matplotlib.pyplot as p"
   ]
  },
  {
   "cell_type": "markdown",
   "metadata": {
    "ein.tags": "worksheet-0",
    "slideshow": {
     "slide_type": "slide"
    }
   },
   "source": [
    "# Perceptron"
   ]
  },
  {
   "cell_type": "markdown",
   "metadata": {
    "ein.tags": "worksheet-0",
    "slideshow": {
     "slide_type": "slide"
    }
   },
   "source": [
    "## The Rules"
   ]
  },
  {
   "cell_type": "markdown",
   "metadata": {
    "ein.tags": "worksheet-0",
    "slideshow": {
     "slide_type": "slide"
    }
   },
   "source": [
    "1. $I = \\sum_{i=1}^{n} w_i~x_i$\n",
    "2. If $I \\ge T$ then $y = +1$ else if $I \\lt T$ then $y = -1$.\n",
    "3. $\\mathbf{w_{new}} = \\mathbf{w_{old}} + \\beta \\mathbf{yx}$\n",
    "4. if answer correct, then $\\beta = +1$, else if answer incorrect then $\\beta = -1$."
   ]
  },
  {
   "cell_type": "markdown",
   "metadata": {
    "ein.tags": "worksheet-0",
    "slideshow": {
     "slide_type": "slide"
    }
   },
   "source": [
    "First, demonstrate your understanding with pencil and paper. Beginning with an input of $\\begin{bmatrix}0.3 \\\\ 0.7 \\end{bmatrix}$, an initial set of weights of $\\begin{bmatrix}-0.6\\\\0.8\\end{bmatrix}$, and a **class** of 1. Compute the value of the new weight vector with pen and paper. "
   ]
  },
  {
   "cell_type": "markdown",
   "metadata": {
    "ein.tags": "worksheet-0",
    "slideshow": {
     "slide_type": "slide"
    }
   },
   "source": [
    "Do it in code.\n",
    "\n",
    "1. Set up a numpy array to hold all of your input patterns, and their class assignments. What might our data structure look like?\n"
   ]
  },
  {
   "cell_type": "code",
   "execution_count": 2,
   "metadata": {
    "autoscroll": false,
    "ein.hycell": false,
    "ein.tags": "worksheet-0",
    "slideshow": {
     "slide_type": "subslide"
    }
   },
   "outputs": [],
   "source": [
    "import numpy as np"
   ]
  },
  {
   "cell_type": "code",
   "execution_count": 3,
   "metadata": {
    "autoscroll": false,
    "ein.hycell": false,
    "ein.tags": "worksheet-0",
    "slideshow": {
     "slide_type": "subslide"
    }
   },
   "outputs": [],
   "source": [
    "ins = np.array([\n",
    "    [np.array([0.3,0.7])   ,  1.0],\n",
    "    [np.array([-0.6,0.3])  , -1.0],\n",
    "    [np.array([0.7,0.3])   ,  1.0],\n",
    "    [np.array([-0.2,-0.8]) , -1.0]])                "
   ]
  },
  {
   "cell_type": "markdown",
   "metadata": {
    "ein.tags": "worksheet-0",
    "slideshow": {
     "slide_type": "-"
    }
   },
   "source": [
    "2. Create an array to hold your starting weights"
   ]
  },
  {
   "cell_type": "code",
   "execution_count": 4,
   "metadata": {
    "autoscroll": false,
    "ein.hycell": false,
    "ein.tags": "worksheet-0",
    "slideshow": {
     "slide_type": "subslide"
    }
   },
   "outputs": [
    {
     "name": "stdout",
     "output_type": "stream",
     "text": [
      "[array([-0.6,  0.3]) -1.0]\n"
     ]
    }
   ],
   "source": [
    "print(ins[1])"
   ]
  },
  {
   "cell_type": "code",
   "execution_count": 5,
   "metadata": {},
   "outputs": [
    {
     "data": {
      "text/plain": [
       "array([-0.6,  0.3,  1. ])"
      ]
     },
     "execution_count": 5,
     "metadata": {},
     "output_type": "execute_result"
    }
   ],
   "source": [
    "np.append(ins[1][0],1.0)"
   ]
  },
  {
   "cell_type": "code",
   "execution_count": 6,
   "metadata": {
    "autoscroll": false,
    "ein.hycell": false,
    "ein.tags": "worksheet-0",
    "slideshow": {
     "slide_type": "subslide"
    }
   },
   "outputs": [],
   "source": [
    "w = np.array([-0.6,0.8,])"
   ]
  },
  {
   "cell_type": "markdown",
   "metadata": {
    "ein.tags": "worksheet-0",
    "slideshow": {
     "slide_type": "subslide"
    }
   },
   "source": [
    "Write a function to implement the updating rule."
   ]
  },
  {
   "cell_type": "code",
   "execution_count": 7,
   "metadata": {
    "autoscroll": false,
    "ein.hycell": false,
    "ein.tags": "worksheet-0",
    "slideshow": {
     "slide_type": "subslide"
    }
   },
   "outputs": [],
   "source": [
    "def updPercep (i,wt,T=0):\n",
    "    ipt = i[0]\n",
    "    cls = i[1]\n",
    "    y = 1 if (ipt @ wt) >= T else -1\n",
    "    Beta = 1 if y == cls else -1\n",
    "    return (wt + Beta*y*ipt)"
   ]
  },
  {
   "cell_type": "markdown",
   "metadata": {
    "ein.tags": "worksheet-0",
    "slideshow": {
     "slide_type": "subslide"
    }
   },
   "source": [
    "Test it. Use the same one you did by hand."
   ]
  },
  {
   "cell_type": "code",
   "execution_count": 8,
   "metadata": {
    "autoscroll": false,
    "ein.hycell": false,
    "ein.tags": "worksheet-0",
    "slideshow": {
     "slide_type": "subslide"
    }
   },
   "outputs": [
    {
     "name": "stdout",
     "output_type": "stream",
     "text": [
      "[-0.3  1.5]\n"
     ]
    }
   ],
   "source": [
    "wp = updPercep(ins[0],w)\n",
    "print(wp)"
   ]
  },
  {
   "cell_type": "markdown",
   "metadata": {
    "ein.tags": "worksheet-0",
    "slideshow": {
     "slide_type": "slide"
    }
   },
   "source": [
    "How does the network do with this original input for classifying these four cases?"
   ]
  },
  {
   "cell_type": "code",
   "execution_count": 9,
   "metadata": {
    "autoscroll": false,
    "ein.hycell": false,
    "ein.tags": "worksheet-0",
    "slideshow": {
     "slide_type": "subslide"
    }
   },
   "outputs": [
    {
     "name": "stdout",
     "output_type": "stream",
     "text": [
      "True\n",
      "False\n",
      "False\n",
      "True\n"
     ]
    }
   ],
   "source": [
    "wtest = w\n",
    "for i in ins:\n",
    "    print(np.sign(i[0] @ wtest) == i[1]) "
   ]
  },
  {
   "cell_type": "markdown",
   "metadata": {
    "ein.tags": "worksheet-0",
    "slideshow": {
     "slide_type": "subslide"
    }
   },
   "source": [
    "Now train it for each of the four inputs shown above."
   ]
  },
  {
   "cell_type": "code",
   "execution_count": 10,
   "metadata": {
    "autoscroll": false,
    "ein.hycell": false,
    "ein.tags": "worksheet-0",
    "slideshow": {
     "slide_type": "subslide"
    }
   },
   "outputs": [],
   "source": [
    "neww = np.array([w])\n",
    "for patt in ins:\n",
    "    tempw = updPercep(patt,neww[-1])\n",
    "    neww = np.append(neww,np.array([updPercep(patt,neww[-1])]),axis=0)"
   ]
  },
  {
   "cell_type": "code",
   "execution_count": 11,
   "metadata": {
    "autoscroll": false,
    "ein.hycell": false,
    "ein.tags": "worksheet-0",
    "slideshow": {
     "slide_type": "subslide"
    }
   },
   "outputs": [
    {
     "name": "stdout",
     "output_type": "stream",
     "text": [
      "[[-0.6  0.8]\n",
      " [-0.3  1.5]\n",
      " [ 0.3  1.2]\n",
      " [ 1.   1.5]\n",
      " [ 1.2  2.3]]\n"
     ]
    }
   ],
   "source": [
    "print(neww)"
   ]
  },
  {
   "cell_type": "code",
   "execution_count": 12,
   "metadata": {
    "autoscroll": false,
    "ein.hycell": false,
    "ein.tags": "worksheet-0",
    "slideshow": {
     "slide_type": "slide"
    }
   },
   "outputs": [
    {
     "data": {
      "image/png": "[encoded data removed]",
      "text/plain": [
       "<matplotlib.figure.Figure at 0x7f66f72c3630>"
      ]
     },
     "metadata": {},
     "output_type": "display_data"
    }
   ],
   "source": [
    "origin = [0],[0]\n",
    "p.quiver(*origin, neww[:,0],neww[:,1],scale= 2.3,units='inches')\n",
    "p.show()"
   ]
  },
  {
   "cell_type": "markdown",
   "metadata": {
    "ein.tags": "worksheet-0",
    "slideshow": {
     "slide_type": "subslide"
    }
   },
   "source": [
    "How is our network doing now?"
   ]
  },
  {
   "cell_type": "markdown",
   "metadata": {
    "ein.tags": "worksheet-0",
    "slideshow": {
     "slide_type": "slide"
    }
   },
   "source": [
    "Geometrically, what does the weight vector mean, and what is the significane of the perpendicular to the weight vector?"
   ]
  },
  {
   "cell_type": "markdown",
   "metadata": {
    "ein.tags": "worksheet-0",
    "slideshow": {
     "slide_type": "slide"
    }
   },
   "source": [
    "1. What is the relation between the inner product of two vectors and the cosine of the angle between them?\n",
    "2. What is the **sign** for the cosine of angles less than 90 degrees and those greater than 90 degrees?\n",
    "3. How do these facts help us to answer the question above?\n",
    "4. Why does this reinforce the advice to think *geometrically* when thinking about networks and weight vectors?"
   ]
  },
  {
   "cell_type": "code",
   "execution_count": 13,
   "metadata": {
    "autoscroll": false,
    "ein.hycell": false,
    "ein.tags": "worksheet-0",
    "slideshow": {
     "slide_type": "slide"
    }
   },
   "outputs": [
    {
     "name": "stdout",
     "output_type": "stream",
     "text": [
      "1\n",
      "2\n",
      "3\n"
     ]
    }
   ],
   "source": [
    "# What is that asterisk origin doing?\n",
    "a = [1, 2, 3]\n",
    "\n",
    "def printInput(i1,i2,i3):\n",
    "    print(i1)\n",
    "    print(i2)\n",
    "    print(i3)\n",
    "\n",
    "printInput(*a)\n"
   ]
  },
  {
   "cell_type": "markdown",
   "metadata": {
    "ein.tags": "worksheet-0",
    "slideshow": {
     "slide_type": "slide"
    }
   },
   "source": [
    "## Rules are Made to be Broken (or at least update)"
   ]
  },
  {
   "cell_type": "markdown",
   "metadata": {
    "ein.tags": "worksheet-0",
    "slideshow": {
     "slide_type": "slide"
    }
   },
   "source": [
    "### The Delta Rule"
   ]
  },
  {
   "cell_type": "markdown",
   "metadata": {
    "ein.tags": "worksheet-0",
    "slideshow": {
     "slide_type": "subslide"
    }
   },
   "source": [
    "$$\\Delta~w_i = x_i~\\eta(desired - observed)$$"
   ]
  },
  {
   "cell_type": "markdown",
   "metadata": {
    "ein.tags": "worksheet-0",
    "slideshow": {
     "slide_type": "slide"
    }
   },
   "source": [
    "### Classroom exercise"
   ]
  },
  {
   "cell_type": "markdown",
   "metadata": {
    "ein.tags": "worksheet-0",
    "slideshow": {
     "slide_type": "subslide"
    }
   },
   "source": [
    "Replace the perceptron learning rule with the Delta rule and run a few rounds with the above data (or make your own using the random library)"
   ]
  },
  {
   "cell_type": "code",
   "execution_count": 14,
   "metadata": {
    "autoscroll": false,
    "ein.hycell": false,
    "ein.tags": "worksheet-0",
    "slideshow": {
     "slide_type": "subslide"
    }
   },
   "outputs": [
    {
     "name": "stdout",
     "output_type": "stream",
     "text": [
      "[0.6448309599874429, 0.48031866002348733, 0.3154714082603596, 0.7295517492182578, 0.5735453441219467, 0.17865342810366902, 0.8844250105313841, 0.01866621116688849, 0.39692560652866116, 0.07436005089225528]\n"
     ]
    }
   ],
   "source": [
    "import random\n",
    "print([random.random() for i in range(0, 10)])"
   ]
  },
  {
   "cell_type": "markdown",
   "metadata": {
    "ein.tags": "worksheet-0",
    "slideshow": {
     "slide_type": "subslide"
    }
   },
   "source": [
    "1. How do you know when to stop applying the delta rule?\n",
    "2. What happens to your weights if you don't stop?\n",
    "\n"
   ]
  },
  {
   "cell_type": "markdown",
   "metadata": {
    "ein.tags": "worksheet-0",
    "slideshow": {
     "slide_type": "slide"
    }
   },
   "source": [
    "### Homework:"
   ]
  },
  {
   "cell_type": "markdown",
   "metadata": {
    "ein.tags": "worksheet-0",
    "slideshow": {
     "slide_type": "-"
    }
   },
   "source": [
    "1. Provide a table showing the XOR function (inputs and outputs)\n",
    "2. Show how you can compute this function using a two layer network and only (all? some?) of the Boolean functions **AND**, **OR**, **NOTAND** aka **NAND**.\n",
    "3. Using your understanding of how weight vectors relate to the decision plane hardcode a network in python that will allow me to input a two valued tuple (e.g. (0,1)) and where your network will correctly compute the XOR solution and print, and where this will repeat until I chose to quit.\n",
    "4. Note you will need a *bias*. Thus your network will assume that all my end puts have a third input value that is always \"1\", and the weight vectors of your network have three values.\n",
    "5. In a markdown cell in your python notebook tell me why this network can't be built with one layer, why it is possible to build it with more than one, and how this connects, however you may understand it, with all this talk about deep networks that is frequently in the news. These answers can be brief. Don't write a book. Short. Concise. I just want to see what you are thinking. "
   ]
  }
 ],
 "metadata": {
  "kernelspec": {
   "display_name": "Python 3",
   "language": "python",
   "name": "python3"
  },
  "language_info": {
   "codemirror_mode": {
    "name": "ipython",
    "version": 3
   },
   "file_extension": ".py",
   "mimetype": "text/x-python",
   "name": "python",
   "nbconvert_exporter": "python",
   "pygments_lexer": "ipython3",
   "version": "3.6.4"
  },
  "name": "perceptron.ipynb"
 },
 "nbformat": 4,
 "nbformat_minor": 2
}
