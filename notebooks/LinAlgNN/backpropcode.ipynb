{
 "cells": [
  {
   "cell_type": "markdown",
   "metadata": {
    "ein.tags": "worksheet-0",
    "slideshow": {
     "slide_type": "-"
    }
   },
   "source": [
    "# Example of XOR Backpropagation Code"
   ]
  },
  {
   "cell_type": "markdown",
   "metadata": {
    "ein.tags": "worksheet-0",
    "slideshow": {
     "slide_type": "-"
    }
   },
   "source": [
    "## Imports"
   ]
  },
  {
   "cell_type": "code",
   "execution_count": 5,
   "metadata": {
    "autoscroll": false,
    "ein.hycell": false,
    "ein.tags": "worksheet-0",
    "slideshow": {
     "slide_type": "-"
    }
   },
   "outputs": [],
   "source": [
    "%matplotlib inline\n",
    "import numpy as npi\n",
    "import random as r\n",
    "import itertools as iter\n",
    "import matplotlib\n",
    "import matplotlib.pyplot as pyp"
   ]
  },
  {
   "cell_type": "code",
   "execution_count": 6,
   "metadata": {
    "autoscroll": false,
    "ein.hycell": false,
    "ein.tags": "worksheet-0",
    "slideshow": {
     "slide_type": "-"
    }
   },
   "outputs": [
    {
     "ename": "ImportError",
     "evalue": "No module named 'colorama'",
     "output_type": "error",
     "traceback": [
      "\u001b[0;31m---------------------------------------------------------------------------\u001b[0m",
      "\u001b[0;31mImportError\u001b[0m                               Traceback (most recent call last)",
      "\u001b[0;32m<ipython-input-6-bbc32b63e66e>\u001b[0m in \u001b[0;36m<module>\u001b[0;34m()\u001b[0m\n\u001b[0;32m----> 1\u001b[0;31m \u001b[0;32mimport\u001b[0m \u001b[0mcolorama\u001b[0m\u001b[0;34m\u001b[0m\u001b[0m\n\u001b[0m\u001b[1;32m      2\u001b[0m \u001b[0;32mfrom\u001b[0m \u001b[0mcolorama\u001b[0m \u001b[0;32mimport\u001b[0m \u001b[0mFore\u001b[0m\u001b[0;34m\u001b[0m\u001b[0m\n\u001b[1;32m      3\u001b[0m \u001b[0;31m#only used to color the answers below; not really necessary\u001b[0m\u001b[0;34m\u001b[0m\u001b[0;34m\u001b[0m\u001b[0m\n",
      "\u001b[0;31mImportError\u001b[0m: No module named 'colorama'"
     ]
    }
   ],
   "source": [
    "import colorama\n",
    "from colorama import Fore\n",
    "#only used to color the answers below; not really necessary"
   ]
  },
  {
   "cell_type": "markdown",
   "metadata": {
    "ein.tags": "worksheet-0",
    "slideshow": {
     "slide_type": "-"
    }
   },
   "source": [
    "## Creating test variables and flags"
   ]
  },
  {
   "cell_type": "code",
   "execution_count": null,
   "metadata": {
    "autoscroll": false,
    "ein.hycell": false,
    "ein.tags": "worksheet-0",
    "slideshow": {
     "slide_type": "-"
    }
   },
   "outputs": [],
   "source": [
    "plotflag = True\n",
    "printflag = True\n",
    "inputs = [(np.array([[0],[0]]),0),(np.array([[0],[1]]),1),(np.array([[1],[0]]),1),(np.array([[1],[1]]),0)]\n",
    "\n",
    "w1 = np.array([r.random() for a in range(10)]).reshape(5,2)\n",
    "w2 = np.array([r.random() for a in range(5)]).reshape(1,5)"
   ]
  },
  {
   "cell_type": "markdown",
   "metadata": {
    "ein.tags": "worksheet-0",
    "slideshow": {
     "slide_type": "-"
    }
   },
   "source": [
    "## Helper Functions"
   ]
  },
  {
   "cell_type": "code",
   "execution_count": null,
   "metadata": {
    "autoscroll": false,
    "ein.hycell": false,
    "ein.tags": "worksheet-0",
    "slideshow": {
     "slide_type": "-"
    }
   },
   "outputs": [],
   "source": [
    "def eudist(x1,x2):\n",
    "    \"\"\"Computes the Euclidean distance between two points.\"\"\"\n",
    "    return(sum((x1 - x2)**2.0)**0.5)\n",
    "def sigmoid(zee):\n",
    "    \"\"\"Computes the logistic function.\"\"\"\n",
    "    return(1.0/(1+np.exp(-1*zee)))\n",
    "\n",
    "def sigmoidprime(zee):\n",
    "    \"\"\"Computes the derivative of the logistic function.\"\"\"\n",
    "    return(sigmoid(zee)*(1-sigmoid(zee)))\n",
    "\n",
    "def cost(y,yhat):\n",
    "    \"\"\"Root mean square error \"cost function.\" \"\"\"\n",
    "    0.5*(eudist(y,yhat)**2.0)\n",
    "\n",
    "def costprime(y,yhat):\n",
    "    \"\"\"Derivative of RMS cost function.\"\"\"\n",
    "    return(yhat - y)"
   ]
  },
  {
   "cell_type": "markdown",
   "metadata": {
    "ein.tags": "worksheet-0",
    "slideshow": {
     "slide_type": "-"
    }
   },
   "source": [
    "### Functions for the forward and backward passes"
   ]
  },
  {
   "cell_type": "code",
   "execution_count": null,
   "metadata": {
    "autoscroll": false,
    "ein.hycell": false,
    "ein.tags": "worksheet-0",
    "slideshow": {
     "slide_type": "-"
    }
   },
   "outputs": [],
   "source": [
    "def forwardpass (xs,wtlist):\n",
    "    \"\"\"Forward Pass of Backpropagation.\n",
    "\n",
    "    Inputs:\n",
    "    xs     -- input patterns\n",
    "    wtlist -- the weight matrix for all layers\n",
    "\n",
    "    Returns:\n",
    "    Tuple of weighed inputs and the associated activations\n",
    "    \"\"\"\n",
    "    zees=[]\n",
    "    ays = [xs]\n",
    "    for w in wtlist:\n",
    "        zees.append(np.dot(w,ays[-1]))\n",
    "        ays.append(sigmoid(zees[-1]))\n",
    "    return((zees,ays))\n",
    "\n",
    "def backpass (y,zees,ays,wtlist):\n",
    "    \"\"\"Backward Pass of Backpropagation.\n",
    "\n",
    "    Inputs:\n",
    "    y      -- output\n",
    "    zees   -- weighted inputs\n",
    "    ays    -- activations\n",
    "    wtlist -- weights\n",
    "\n",
    "    Returns:\n",
    "    costgradient\n",
    "    \"\"\"\n",
    "    delta = costprime(y,ays[-1])*sigmoidprime(zees[-1])\n",
    "    costgrad = [np.dot(delta,ays[-2].T)]\n",
    "    for l in range(2,3):\n",
    "        delta = np.dot(wtlist[-l+1].T,delta)*sigmoidprime(zees[-l])\n",
    "        costgrad.insert(0,np.dot(delta,ays[-l-1].T))\n",
    "    return(costgrad)"
   ]
  },
  {
   "cell_type": "markdown",
   "metadata": {
    "ein.tags": "worksheet-0",
    "slideshow": {
     "slide_type": "-"
    }
   },
   "source": [
    "### Loops - one loop version, and repeated version"
   ]
  },
  {
   "cell_type": "code",
   "execution_count": null,
   "metadata": {
    "autoscroll": false,
    "ein.hycell": false,
    "ein.tags": "worksheet-0",
    "slideshow": {
     "slide_type": "-"
    }
   },
   "outputs": [],
   "source": [
    "def fbloop(inp,wts,eta = 0.25):\n",
    "    \"\"\"Performs one round of forward and backward passes.\"\"\"\n",
    "    zs,heys=forwardpass(inp[0],wts)\n",
    "    cgs = backpass(inp[1],zs,heys,wts)\n",
    "    newwts = [wt -eta*cg for wt,cg in zip(wts,cgs)]\n",
    "    return(newwts)\n",
    "\n",
    "def bigloop(inputs,startwts,thr = 0.5):\n",
    "    \"\"\"bigloop: principal function for peforming backpropagation.\n",
    "\n",
    "    Inputs:\n",
    "    inputs   -- a list of input patterns.\n",
    "    startwts -- the starting weight matrices\n",
    "\n",
    "    Output:\n",
    "    printflag provides textual summary of performance.\n",
    "    plotflag shows a plot of how the error changes during the solving process.\n",
    "    \"\"\"\n",
    "    loopnum = []\n",
    "    error = []\n",
    "    inps = iter.cycle(inputs)\n",
    "    ws = startwts\n",
    "    for il in range(100000):\n",
    "        patt = next(inps)\n",
    "        ws = fbloop(patt,ws)\n",
    "        if (il%1000 == 0):\n",
    "            tmpe=0\n",
    "            for i,o in inputs:\n",
    "                z,h=forwardpass(i,ws)\n",
    "                if printflag:\n",
    "                    tmpans = Fore.GREEN if (h[-1] > thr) == o else Fore.RED\n",
    "                    print(tmpans + \"Loop #{0} gives output {1} with correct {2}\".format(il,h[-1],o))\n",
    "                tmpe = tmpe + abs(h[-1]-o)\n",
    "            error.append(tmpe[0][0])\n",
    "            loopnum.append(il)\n",
    "    if plotflag:\n",
    "        pyp.plot(loopnum,error)\n",
    "        pyp.show()"
   ]
  },
  {
   "cell_type": "code",
   "execution_count": null,
   "metadata": {
    "autoscroll": false,
    "ein.hycell": false,
    "ein.tags": "worksheet-0",
    "slideshow": {
     "slide_type": "-"
    }
   },
   "outputs": [],
   "source": [
    "#Demo of the code with both flags\n",
    "bigloop(inputs, [w1,w2])"
   ]
  },
  {
   "cell_type": "code",
   "execution_count": null,
   "metadata": {
    "autoscroll": false,
    "ein.hycell": false,
    "ein.tags": "worksheet-0",
    "slideshow": {
     "slide_type": "-"
    }
   },
   "outputs": [],
   "source": []
  }
 ],
 "metadata": {
  "kernelspec": {
   "display_name": "Python 3",
   "language": "python",
   "name": "python3"
  },
  "language_info": {
   "codemirror_mode": {
    "name": "ipython",
    "version": 3
   },
   "file_extension": ".py",
   "mimetype": "text/x-python",
   "name": "python",
   "nbconvert_exporter": "python",
   "pygments_lexer": "ipython3",
   "version": "3.5.2"
  },
  "name": "backpropcode.ipynb"
 },
 "nbformat": 4,
 "nbformat_minor": 2
}
