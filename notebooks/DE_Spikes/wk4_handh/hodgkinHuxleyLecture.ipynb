{
 "cells": [
  {
   "cell_type": "markdown",
   "metadata": {
    "ein.tags": "worksheet-0",
    "slideshow": {
     "slide_type": "slide"
    }
   },
   "source": [
    "# Hodgkin Huxley Model of the Neuron"
   ]
  },
  {
   "cell_type": "markdown",
   "metadata": {
    "ein.tags": "worksheet-0",
    "slideshow": {
     "slide_type": "notes"
    }
   },
   "source": [
    "## Reminder\n",
    "\n",
    "The current going in to the cell is what we inject. The current coming out is the sum of the capacitance (due to the lipid bilayer), and the resistance (due to the ion channels). This is **Kirchoff's** rule."
   ]
  },
  {
   "cell_type": "markdown",
   "metadata": {
    "ein.tags": "worksheet-0",
    "slideshow": {
     "slide_type": "subslide"
    }
   },
   "source": [
    "Recall that in the Integrate and Fire model we lumped all our ionic events together into one term: \n",
    "\n",
    "$$\\tau \\frac{dV(t)}{dt} = -V(t) + R~I(t)$$\n",
    "\n",
    "The HH model is basically the same except we have a resistance for each ion channel. The rule for currents in parallel is to apply Kirchoff's and Ohm's laws realizing that they all experience the same voltage. The currents add."
   ]
  },
  {
   "cell_type": "markdown",
   "metadata": {
    "ein.tags": "worksheet-0",
    "slideshow": {
     "slide_type": "subslide"
    }
   },
   "source": [
    "But in the Hodgkin and Huxley model we treat these different ionic components with their own terms to capture the difference between the Sodium (Na), Potassium (K), and negative anions (still lumped as \"leak\" l). \n",
    "\n",
    "$$\\sum_i I_R(t) = \\bar{g}_{Na} m^3 h (V(t) - E_{Na}) + \\bar{g}_{K} n^4 (V(t) - E_{K}) + \\bar{g}_{L} (V(t) - E_{L})$$"
   ]
  },
  {
   "cell_type": "markdown",
   "metadata": {
    "ein.tags": "worksheet-0",
    "slideshow": {
     "slide_type": "slide"
    }
   },
   "source": [
    "## Putting together The HH Model\n",
    "\n",
    "$$I_{tot} = I_r + I_C$$\n",
    "\n",
    "By the same logic as for the integrate and fire $I_C = c~\\frac{dV}{dt}$.\n",
    "\n",
    "$$I_{tot} = \\bar{g}_{Na} m^3 h (V(t) - E_{Na}) + \\bar{g}_{K} n^4 (V(t) - E_{K}) + \\bar{g}_{L} (V(t) - E_{L}) + c~\\frac{dV}{dt}$$\n",
    "\n",
    "Rearrange to get the $\\frac{dV}{dt}$ on a side by itself.\n",
    "\n",
    "$$c~\\frac{dV}{dt} = I_{tot} - (\\bar{g}_{Na} m^3 h (V(t) - E_{Na}) + \\bar{g}_{K} n^4 (V(t) - E_{K}) + \\bar{g}_{L} (V(t) - E_{L}))$$"
   ]
  },
  {
   "cell_type": "markdown",
   "metadata": {
    "ein.tags": "worksheet-0",
    "slideshow": {
     "slide_type": "notes"
    }
   },
   "source": [
    "#### Notes\n",
    "\n",
    "1. What are the $\\bar{g}_*$ terms?\n",
    "2. What are the $E_{*}$ terms?\n",
    "3. What do m,n, and h represent?\n",
    "4. Where did these equations come from?"
   ]
  },
  {
   "cell_type": "markdown",
   "metadata": {
    "ein.tags": "worksheet-0",
    "slideshow": {
     "slide_type": "subslide"
    }
   },
   "source": [
    "## It's Differential Equations All the Way Down\n",
    "\n",
    " $ \\dot{m} = \\alpha_m (V)(1 - m) - \\beta_m (V) m $"
   ]
  },
  {
   "cell_type": "markdown",
   "metadata": {
    "ein.tags": "worksheet-0",
    "slideshow": {
     "slide_type": "notes"
    }
   },
   "source": [
    "#### Notes\n",
    "\n",
    "1. Each of the m,n, and h terms have their own equation of exactly the same form, but with their unique alphas and betas (that is what the subscript means). \n",
    "2. What does the V in parentheses mean?\n",
    "3. When they were finally sequenced (decades later), what do you think was the number of sub-units that the sodium and potassium channels were found to have?"
   ]
  },
  {
   "cell_type": "markdown",
   "metadata": {
    "ein.tags": "worksheet-0",
    "slideshow": {
     "slide_type": "slide"
    }
   },
   "source": [
    "## Online Practice\n",
    "\n",
    "An example: [Online HH Model in Javascript](https://ackmanlab.com/2017-06-30-hodgkin-huxley-model.html)"
   ]
  },
  {
   "cell_type": "markdown",
   "metadata": {
    "ein.tags": "worksheet-0",
    "slideshow": {
     "slide_type": "slide"
    }
   },
   "source": [
    "## Getting Started\n",
    "\n",
    "### How do you know where to start?\n",
    "\n",
    "1. If you allow $t \\rightarrow \\infty \\mbox{, then } \\frac{dV}{dt}=$?\n",
    "2. You assume that it goes to zero; that is, you reach steady state. Then you can solve for some of the constants.\n",
    "3. Where do the constants come from?\n",
    "4. They come from experiments, and you use what you are given.\n",
    "5. Assume the following constants - they are set to assume a resting potential of zero (instead of what and why doesn't this matter)?\n",
    "6. These constants also work out to enforce a capacitance of 1"
   ]
  },
  {
   "cell_type": "markdown",
   "metadata": {
    "ein.tags": "worksheet-0",
    "slideshow": {
     "slide_type": "slide"
    }
   },
   "source": [
    "### Constants\n",
    "\n",
    "Constant | Value\n",
    "---------|------\n",
    "ena      |   115\n",
    "gna      |   120\n",
    "ek       |   -12\n",
    "gk       |    36\n",
    "el       |  10.6\n",
    "gl       |   0.3"
   ]
  },
  {
   "cell_type": "markdown",
   "metadata": {
    "ein.tags": "worksheet-0",
    "slideshow": {
     "slide_type": "slide"
    }
   },
   "source": [
    "## Alpha and Beta Formulas\n",
    "\n",
    "$\n",
    "\\alpha _{n}(V_{m})={\\frac {0.01(10-V_{m})}{\\exp {\\big (}{\\frac {10-V_{m}}{10}}{\\big )}-1}}$\n",
    "\n",
    "$\\alpha _{m}(V_{m})={\\frac {0.1(25-V_{m})}{\\exp {\\big (}{\\frac {25-V_{m}}{10}}{\\big )}-1}}$\n",
    "\n",
    "$\\alpha _{h}(V_{m})=0.07\\exp {\\bigg (}{\\frac {-V_{m}}{20}}{\\bigg )}$\n",
    "\n",
    "$\\beta _{n}(V_{m})=0.125\\exp {\\bigg (}{\\frac {-V_{m}}{80}}{\\bigg )}$\n",
    "\n",
    "$\\beta _{m}(V_{m})=4\\exp {\\bigg (}{\\frac {-V_{m}}{18}}{\\bigg )}$\n",
    "\n",
    "$\\beta _{h}(V_{m})={\\frac {1}{\\exp {\\big (}{\\frac {30-V_{m}}{10}}{\\big )}+1}}\n",
    "$"
   ]
  },
  {
   "cell_type": "code",
   "execution_count": null,
   "metadata": {
    "autoscroll": false,
    "ein.hycell": false,
    "ein.tags": "worksheet-0",
    "slideshow": {
     "slide_type": "slide"
    }
   },
   "outputs": [],
   "source": [
    "from numpy import *\n",
    "from pylab import *\n",
    "from math  import *\n",
    "\n",
    "T      = \n",
    "dt     = \n",
    "time   = \n",
    "V_0    = \n",
    "I      = \n",
    "V      = \n",
    "V[0]   = \n",
    "n      = \n",
    "m      = \n",
    "h      = \n",
    "E_Na   = \n",
    "E_K    = \n",
    "E_L    = \n",
    "g_Na   = \n",
    "g_K    = \n",
    "g_L    = \n",
    "C      = \n",
    "# the K gates cotrolled by n\n",
    "def alpha_n(v): \n",
    "   alpha_n = (0.1-0.01*v)/(exp(1-0.1*v) - 1) if v!=10 else 0.1\n",
    "   return alpha_n\n",
    "def beta_n(v):\n",
    "\n",
    "   return beta_n\n",
    "# the Na gates cotrolled by m\n",
    "def alpha_m(v):\n",
    "\n",
    "   return alpha_m\n",
    "def beta_m(v):\n",
    "\n",
    "   return beta_m\n",
    "# the Na gates cotrolled by h\n",
    "def alpha_h(v):\n",
    "\n",
    "   return alpha_h\n",
    "def beta_h(v):\n",
    "\n",
    "   return beta_h\n",
    "\n",
    "for j, t in enumerate(time):\n",
    "   if 20 >= t >= 5:\n",
    "      I[j] = 10  #current injection (uA/cm2)\n",
    "      \n",
    "for j in range(1, len(time)):\n",
    "   n[j] = n[j-1] + dt*\"stuff\"\n",
    "   m[j] = m[j-1] + dt*\"stuff\"\n",
    "   h[j] = h[j-1] + dt*\"stuff\"\n",
    "   \n",
    "   V[j] = V[j-1] + \"alot of stuff\" \n",
    "\n",
    "plot(time, V, time, I-25)\n",
    "legend(('V','I'))\n",
    "ylabel('V (mV)')\n",
    "xlabel('Time (msec)')\n",
    "show()\n"
   ]
  },
  {
   "cell_type": "code",
   "execution_count": null,
   "metadata": {},
   "outputs": [],
   "source": []
  }
 ],
 "metadata": {
  "celltoolbar": "Slideshow",
  "kernelspec": {
   "display_name": "Python 3",
   "language": "python",
   "name": "python3"
  },
  "language_info": {
   "codemirror_mode": {
    "name": "ipython",
    "version": 3
   },
   "file_extension": ".py",
   "mimetype": "text/x-python",
   "name": "python",
   "nbconvert_exporter": "python",
   "pygments_lexer": "ipython3",
   "version": "3.7.3"
  },
  "name": "hodgkinHuxleyLecture.ipynb"
 },
 "nbformat": 4,
 "nbformat_minor": 2
}
