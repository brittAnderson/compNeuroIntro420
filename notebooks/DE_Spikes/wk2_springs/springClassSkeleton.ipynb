{
 "cells": [
  {
   "cell_type": "markdown",
   "metadata": {},
   "source": [
    "# Spring\n",
    "\n",
    "## Instructions\n",
    "\n",
    "We will work on this in class. Your goal is to write the code for a spring using a differential equation to help you update your calculation of position as a function of time. Here is a skeleton of what you will need to get going. "
   ]
  },
  {
   "cell_type": "markdown",
   "metadata": {},
   "source": [
    "## Part 1"
   ]
  },
  {
   "cell_type": "code",
   "execution_count": null,
   "metadata": {},
   "outputs": [],
   "source": [
    "#What inputs and \"magics\" do you need?\n",
    "\n",
    "#What is the equation of a frictionless spring?\n",
    "\n",
    "#What is it you are plotting?\n",
    "\n",
    "def spring(inputs): #might need more than one input, might not\n",
    "    #stuff here\n",
    "    return();#something has to go in there\n",
    "\n",
    "def plot(inputs): #inputs just a place holder, you have to supply details\n",
    "    #stuff here\n",
    "    return(); #return something?\n",
    "\n",
    "def main():\n",
    "    s = spring(1);#1's are just here to make this work without above inputs defined\n",
    "    p = plot(1)\n",
    "    quit = False\n",
    "    if (not quit):\n",
    "        q = input('Type y to quit, any other key to continue')\n",
    "        if (q != 'y'):\n",
    "            main()\n",
    "            \n",
    "main()"
   ]
  },
  {
   "cell_type": "markdown",
   "metadata": {},
   "source": [
    "## Part 2"
   ]
  },
  {
   "cell_type": "markdown",
   "metadata": {},
   "source": [
    "Provide the code for the damped oscillator. It has the formula of \n",
    "\n",
    "$$ \\frac{d^2 s}{dt^2} = -P~s(t) - k~v(t) $$\n",
    "\n",
    "This should really only require changing one line of your code for the simple harmonic oscillator."
   ]
  }
 ],
 "metadata": {
  "kernelspec": {
   "display_name": "Python 3",
   "language": "python",
   "name": "python3"
  },
  "language_info": {
   "codemirror_mode": {
    "name": "ipython",
    "version": 3
   },
   "file_extension": ".py",
   "mimetype": "text/x-python",
   "name": "python",
   "nbconvert_exporter": "python",
   "pygments_lexer": "ipython3",
   "version": "3.7.3"
  }
 },
 "nbformat": 4,
 "nbformat_minor": 2
}
