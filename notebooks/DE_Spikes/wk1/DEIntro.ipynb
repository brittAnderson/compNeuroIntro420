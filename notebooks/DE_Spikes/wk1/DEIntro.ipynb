{
 "cells": [
  {
   "cell_type": "markdown",
   "metadata": {
    "ein.tags": "worksheet-0",
    "slideshow": {
     "slide_type": "slide"
    }
   },
   "source": [
    "# Differential Equations and Models of Neuronal Action Potentials"
   ]
  },
  {
   "cell_type": "markdown",
   "metadata": {
    "ein.tags": "worksheet-0",
    "slideshow": {
     "slide_type": "slide"
    }
   },
   "source": [
    "## What is a _DE_?"
   ]
  },
  {
   "cell_type": "markdown",
   "metadata": {
    "ein.tags": "worksheet-0",
    "slideshow": {
     "slide_type": "subslide"
    }
   },
   "source": [
    "1. Pair up\n",
    "2. 5 minutes - Find an answer and agree on it.\n",
    "3. 5 minutes - I will repair the groups. Each member has to explain to the new partner what their old group thought and decide if you agree with your original definition, the new definition, or if they are really saying the same thing.\n",
    "4. Then we will discuss. "
   ]
  },
  {
   "cell_type": "markdown",
   "metadata": {
    "ein.tags": "worksheet-0",
    "slideshow": {
     "slide_type": "subslide"
    }
   },
   "source": [
    "Measures of change"
   ]
  },
  {
   "cell_type": "markdown",
   "metadata": {
    "ein.tags": "worksheet-0",
    "slideshow": {
     "slide_type": "subslide"
    }
   },
   "source": [
    "Given what we have decided differential equations are, what can we see as possible uses in psychology and neuroscience?"
   ]
  },
  {
   "cell_type": "markdown",
   "metadata": {
    "ein.tags": "worksheet-0",
    "slideshow": {
     "slide_type": "slide"
    }
   },
   "source": [
    "## Notation"
   ]
  },
  {
   "cell_type": "markdown",
   "metadata": {
    "ein.tags": "worksheet-0",
    "slideshow": {
     "slide_type": "subslide"
    }
   },
   "source": [
    "LOL\n",
    "IMHO\n",
    "IRL\n",
    "\n",
    "Concise summaries of things that would take too long to write out in detail. Mathematical notation is just a technical emoji. You probably know the \"math\" they represent; you just don't know the abbreviation that is being used. "
   ]
  },
  {
   "cell_type": "markdown",
   "metadata": {
    "ein.tags": "worksheet-0",
    "slideshow": {
     "slide_type": "subslide"
    }
   },
   "source": [
    "Write out in long hand (or type on your computer) what is meant by the following:"
   ]
  },
  {
   "cell_type": "code",
   "execution_count": 30,
   "metadata": {
    "autoscroll": false,
    "ein.hycell": false,
    "ein.tags": "worksheet-0",
    "slideshow": {
     "slide_type": "subslide"
    }
   },
   "outputs": [
    {
     "data": {
      "text/latex": [
       "$\\displaystyle \\sum_{\\forall x \\in \\left\\{ 1 , 2 , 3 \\right \\}} x ~=~ 6$"
      ],
      "text/plain": [
       "<IPython.core.display.Math object>"
      ]
     },
     "execution_count": 30,
     "metadata": {},
     "output_type": "execute_result"
    }
   ],
   "source": [
    "from IPython.display import Math\n",
    "Math(r'\\sum_{\\forall x \\in \\left\\{ 1 , 2 , 3 \\right \\}} x ~=~ 6')"
   ]
  },
  {
   "cell_type": "markdown",
   "metadata": {
    "ein.tags": "worksheet-0",
    "slideshow": {
     "slide_type": "slide"
    }
   },
   "source": [
    "### DE Notation"
   ]
  },
  {
   "cell_type": "markdown",
   "metadata": {
    "ein.tags": "worksheet-0",
    "slideshow": {
     "slide_type": "subslide"
    }
   },
   "source": [
    "_Multiple Ways to Say the Same Thing_\n",
    "\n",
    "$\\frac{dy}{dx}$\n",
    "\n",
    "$\\dot{x}$\n",
    "\n",
    "$x'$\n",
    "\n",
    "$f'(x)$"
   ]
  },
  {
   "cell_type": "markdown",
   "metadata": {
    "ein.tags": "worksheet-0",
    "slideshow": {
     "slide_type": "slide"
    }
   },
   "source": [
    "### Derivatives are Slopes"
   ]
  },
  {
   "cell_type": "markdown",
   "metadata": {
    "ein.tags": "worksheet-0",
    "slideshow": {
     "slide_type": "subslide"
    }
   },
   "source": [
    "What is a slope?"
   ]
  },
  {
   "cell_type": "markdown",
   "metadata": {
    "ein.tags": "worksheet-0",
    "slideshow": {
     "slide_type": "subslide"
    }
   },
   "source": [
    "When in doubt return to definition.\n",
    "\n",
    "Deriving the definition of a derivative. "
   ]
  },
  {
   "cell_type": "markdown",
   "metadata": {
    "ein.tags": "worksheet-0",
    "slideshow": {
     "slide_type": "subslide"
    }
   },
   "source": [
    "Your first jupyter python cell.\n",
    "\n",
    "1. Launch a new notebook\n",
    "2. Create a `code` cell\n",
    "3. Use the **magic** for python plotting\n",
    "4. `import` the needed libraries (do you know what a library is?)\n",
    "5. create a `list` of numbers\n",
    "6. create a second `list` of different numbers\n",
    "7. plot them."
   ]
  },
  {
   "cell_type": "code",
   "execution_count": 29,
   "metadata": {
    "autoscroll": false,
    "ein.hycell": false,
    "ein.tags": "worksheet-0",
    "slideshow": {
     "slide_type": "subslide"
    }
   },
   "outputs": [
    {
     "data": {
      "text/plain": [
       "[<matplotlib.lines.Line2D at 0x7f5834130da0>]"
      ]
     },
     "execution_count": 29,
     "metadata": {},
     "output_type": "execute_result"
    },
    {
     "data": {
      "image/png": "[encoded data removed]",
      "text/plain": [
       "<Figure size 432x288 with 1 Axes>"
      ]
     },
     "metadata": {},
     "output_type": "display_data"
    }
   ],
   "source": [
    "%matplotlib inline\n",
    "import matplotlib\n",
    "import matplotlib.pyplot as plt\n",
    "import numpy as np\n",
    "xs = [1,2,3,4,5]\n",
    "ys = [2,4,6,8,10]\n",
    "plt.plot(xs,ys)"
   ]
  },
  {
   "cell_type": "markdown",
   "metadata": {
    "ein.tags": "worksheet-0",
    "slideshow": {
     "slide_type": "slide"
    }
   },
   "source": [
    "## What is the Slope of a Curve?"
   ]
  },
  {
   "cell_type": "code",
   "execution_count": 33,
   "metadata": {
    "autoscroll": false,
    "ein.hycell": false,
    "ein.tags": "worksheet-0",
    "slideshow": {
     "slide_type": "-"
    }
   },
   "outputs": [
    {
     "data": {
      "text/plain": [
       "[<matplotlib.lines.Line2D at 0x7f582f4067b8>]"
      ]
     },
     "execution_count": 33,
     "metadata": {},
     "output_type": "execute_result"
    },
    {
     "data": {
      "image/png": "[encoded data removed]",
      "text/plain": [
       "<Figure size 432x288 with 1 Axes>"
      ]
     },
     "metadata": {},
     "output_type": "display_data"
    }
   ],
   "source": [
    "p = [100]\n",
    "r = 0.04\n",
    "i = np.linspace(1,100,100)\n",
    "for j in i:\n",
    "    p.append(p[-1]+p[-1]*r)\n",
    "plt.plot(i,p[0:100])  "
   ]
  },
  {
   "cell_type": "markdown",
   "metadata": {
    "ein.tags": "worksheet-0",
    "slideshow": {
     "slide_type": "subslide"
    }
   },
   "source": [
    "Questions:\n",
    "1. Describe in words a reallife scenario that matches the process being plotted above.\n",
    "2. How would you define a slope for a curve like this?"
   ]
  },
  {
   "cell_type": "code",
   "execution_count": 36,
   "metadata": {
    "autoscroll": false,
    "ein.hycell": false,
    "ein.tags": "worksheet-0",
    "scrolled": false,
    "slideshow": {
     "slide_type": "fragment"
    },
    "tags": [
     "remove_cell"
    ]
   },
   "outputs": [
    {
     "data": {
      "image/png": "[encoded data removed]",
      "text/plain": [
       "<Figure size 432x288 with 1 Axes>"
      ]
     },
     "metadata": {},
     "output_type": "display_data"
    }
   ],
   "source": [
    "a = np.linspace(-4,6,num=120)\n",
    "b = [x**3 for x in a];#list comprehension\n",
    "plt.plot(a,b)\n",
    "plt.plot([2,2],[-100,8], 'k-',lw=2)\n",
    "plt.plot([-4,2],[8,8], 'k-',lw=2)\n",
    "plt.plot([4,4],[64,-100], 'k-',lw=2)\n",
    "plt.plot([-4,6],[-64,56], 'r-',lw=2)\n",
    "plt.plot([-4,4],[64,64], 'k-',lw=2)\n",
    "plt.plot([4,6],[64,64], 'k--',lw=2)\n",
    "plt.plot([2,4],[8,64], 'k-',lw=2)\n",
    "plt.show()"
   ]
  },
  {
   "cell_type": "markdown",
   "metadata": {
    "ein.tags": "worksheet-0",
    "slideshow": {
     "slide_type": "slide"
    }
   },
   "source": [
    "### Derivatives are Instantaneous Slopes ###"
   ]
  },
  {
   "cell_type": "markdown",
   "metadata": {
    "ein.tags": "worksheet-0",
    "slideshow": {
     "slide_type": "subslide"
    }
   },
   "source": [
    "You pick two points that are \"close enough\" and you get an answer that is \"close enough.\"  If your answer isn't \"close enough\" then you move your points closer, until _in the limit_ there is an infinitesimal distance between them.\n",
    "\n",
    "Definition:\n",
    "\n",
    "$\\frac{dy}{dx} = \\lim_{h \\to 0}\\frac{f(x + h) - f(x)}{(x + h) - x}$"
   ]
  },
  {
   "cell_type": "markdown",
   "metadata": {
    "ein.tags": "worksheet-0",
    "slideshow": {
     "slide_type": "subslide"
    }
   },
   "source": [
    "Code Interlude: List Comprehension"
   ]
  },
  {
   "cell_type": "code",
   "execution_count": 40,
   "metadata": {
    "autoscroll": false,
    "ein.hycell": false,
    "ein.tags": "worksheet-0",
    "slideshow": {
     "slide_type": "subslide"
    }
   },
   "outputs": [
    {
     "name": "stdout",
     "output_type": "stream",
     "text": [
      "[1, 4]\n"
     ]
    }
   ],
   "source": [
    "a  = [1,2,3,4]\n",
    "a2 = [e for e in a if e not in [2,3]]\n",
    "print(a2)"
   ]
  },
  {
   "cell_type": "markdown",
   "metadata": {
    "ein.tags": "worksheet-0",
    "slideshow": {
     "slide_type": "slide"
    }
   },
   "source": [
    "What is a square root?\n",
    "\n",
    "What is the **solution** to $y=x^2$ if I tell you what $y$ is?"
   ]
  },
  {
   "cell_type": "markdown",
   "metadata": {
    "ein.tags": "worksheet-0",
    "slideshow": {
     "slide_type": "subslide"
    }
   },
   "source": [
    "**Intuition Pumps for how to solve it**\n",
    "\n",
    "1. Come up with a guess (e.g. in your head what would you guess is the square root of 128?).\n",
    "2. Write a formula that would allow you to compute the error (or how far off you were).\n",
    "3. How much should you adjust your guess to get closer to the correct answer?\n",
    "4. What is the derivative of $x^2$? Does it have a place in your formula?\n",
    "5. Give a reason graphically why you ought to be able to use this derivative to help improve your guess.\n",
    "6. What happens to the sign of the \"adjustment\" when our guesses go from giving us too big an answer to too little an answer."
   ]
  },
  {
   "cell_type": "markdown",
   "metadata": {
    "ein.tags": "worksheet-0",
    "slideshow": {
     "slide_type": "slide"
    }
   },
   "source": [
    "#### Short Digression"
   ]
  },
  {
   "cell_type": "markdown",
   "metadata": {
    "ein.tags": "worksheet-0",
    "slideshow": {
     "slide_type": "subslide"
    }
   },
   "source": [
    "1. How do you figure out the derivative of something?\n",
    "2. Can you save yourself the work with Python?"
   ]
  },
  {
   "cell_type": "code",
   "execution_count": 2,
   "metadata": {
    "autoscroll": false,
    "ein.hycell": false,
    "ein.tags": "worksheet-0",
    "slideshow": {
     "slide_type": "subslide"
    }
   },
   "outputs": [
    {
     "name": "stdout",
     "output_type": "stream",
     "text": [
      "Add(Mul(Integer(4), Pow(Symbol('x'), Integer(2))), Mul(Integer(-1), Float('0.5', precision=53), sin(Symbol('x'))))\n",
      "8*x - 0.5*cos(x)\n"
     ]
    }
   ],
   "source": [
    "from sympy import * ;#what does this line do?\n",
    "x = Symbol('x')\n",
    "y = 4*x**2 - 1/2*sin(x)            ;#what do two asterisks mean?\n",
    "print(srepr(y))\n",
    "print(diff(y,x))"
   ]
  },
  {
   "cell_type": "markdown",
   "metadata": {
    "ein.tags": "worksheet-0",
    "slideshow": {
     "slide_type": "subslide"
    }
   },
   "source": [
    "$\\mbox{Error} = \\mbox{(my guess)}^2 - \\mbox{128}$"
   ]
  },
  {
   "cell_type": "markdown",
   "metadata": {
    "ein.tags": "worksheet-0",
    "slideshow": {
     "slide_type": "subslide"
    }
   },
   "source": [
    "$\\frac{\\Delta~\\mbox{Error}}{\\Delta~\\mbox{Guess}} = \\frac{\\mbox{Error(Guess1) - Error(Guess0)}}{\\mbox{Guess1} - \\mbox{Guess0}}$"
   ]
  },
  {
   "cell_type": "markdown",
   "metadata": {
    "ein.tags": "worksheet-0",
    "slideshow": {
     "slide_type": "subslide"
    }
   },
   "source": [
    "$$\\frac{\\mbox{dError}}{\\mbox{dGuess}} = \\frac{\\mbox{f(Guess1)} - \\mbox{goal} - \\mbox{f(Guess0)} + \\mbox{goal}}{\\mbox{Guess1} - \\mbox{Guess0}}$$"
   ]
  },
  {
   "cell_type": "code",
   "execution_count": 44,
   "metadata": {
    "autoscroll": false,
    "ein.hycell": false,
    "ein.tags": "worksheet-0",
    "scrolled": true,
    "slideshow": {
     "slide_type": "slide"
    }
   },
   "outputs": [
    {
     "data": {
      "text/plain": [
       "[<matplotlib.lines.Line2D at 0x7f582e0d0fd0>]"
      ]
     },
     "execution_count": 44,
     "metadata": {},
     "output_type": "execute_result"
    },
    {
     "data": {
      "image/png": "[encoded data removed]",
      "text/plain": [
       "<Figure size 432x288 with 1 Axes>"
      ]
     },
     "metadata": {},
     "output_type": "display_data"
    }
   ],
   "source": [
    "#Error Plot\n",
    "#What is square root of 55?\n",
    "plotData = [(x**2-55,x) for x in np.arange(5.0,8.5,0.01)]\n",
    "plt.plot([y[1] for y in plotData],[x[0] for x in plotData],)\n",
    "plt.plot([5.0,8.5],[0,0],'r-')\n",
    "plt.plot([np.sqrt(55),np.sqrt(55)],[12,-30],'r-')\n",
    "plt.plot([5.0,8.0],[-30,0],'k--')\n",
    "plt.plot([8.0,8.0],[-5,15],'g--')\n",
    "plt.plot([8.0,8.0-(9.0/16)] , [9.0,0.0],'b')"
   ]
  },
  {
   "cell_type": "code",
   "execution_count": 65,
   "metadata": {
    "autoscroll": false,
    "ein.hycell": false,
    "ein.tags": "worksheet-0",
    "scrolled": true,
    "slideshow": {
     "slide_type": "slide"
    }
   },
   "outputs": [
    {
     "data": {
      "text/plain": [
       "[<matplotlib.lines.Line2D at 0x7fc1a1d709b0>]"
      ]
     },
     "execution_count": 65,
     "metadata": {},
     "output_type": "execute_result"
    },
    {
     "data": {
      "image/png": "[encoded data removed]",
      "text/plain": [
       "<matplotlib.figure.Figure at 0x7fc1a6e98828>"
      ]
     },
     "metadata": {},
     "output_type": "display_data"
    }
   ],
   "source": [
    "plotData = [(x**2-55,x) for x in np.arange(7.3,7.6,0.01)]\n",
    "plt.plot([y[1] for y in plotData],[x[0] for x in plotData],)\n",
    "plt.plot([7.0,7.5],[0,0],'r-')\n",
    "plt.plot([np.sqrt(55),np.sqrt(55)],[3,-3],'r-')\n",
    "xs = [np.sqrt(55)-1/4,np.sqrt(55)+1/4]\n",
    "plt.plot(xs , [16*x-119 for x in xs],'b')"
   ]
  },
  {
   "cell_type": "markdown",
   "metadata": {
    "ein.tags": "worksheet-0",
    "slideshow": {
     "slide_type": "slide"
    }
   },
   "source": [
    "#### Pandas"
   ]
  },
  {
   "cell_type": "markdown",
   "metadata": {
    "ein.tags": "worksheet-0",
    "slideshow": {
     "slide_type": "subslide"
    }
   },
   "source": [
    "[Panda's Documentation](http://pandas.pydata.org/pandas-docs/stable/)\n",
    "\n",
    "There are a lot of tutorials out there, e.g. [Panda for Beginners](https://stackabuse.com/beginners-tutorial-on-the-pandas-python-library/)\n",
    "\n",
    "By the way: you can actually run web pages inside of a Jupyter notebook"
   ]
  },
  {
   "cell_type": "code",
   "execution_count": 3,
   "metadata": {
    "autoscroll": false,
    "ein.hycell": false,
    "ein.tags": "worksheet-0",
    "slideshow": {
     "slide_type": "subslide"
    }
   },
   "outputs": [
    {
     "data": {
      "text/html": [
       "\n",
       "        <iframe\n",
       "            width=\"100%\"\n",
       "            height=\"350\"\n",
       "            src=\"http://pandas.pydata.org/pandas-docs/stable/\"\n",
       "            frameborder=\"0\"\n",
       "            allowfullscreen\n",
       "        ></iframe>\n",
       "        "
      ],
      "text/plain": [
       "<IPython.lib.display.IFrame at 0x7f3d20123940>"
      ]
     },
     "execution_count": 3,
     "metadata": {},
     "output_type": "execute_result"
    }
   ],
   "source": [
    "from IPython.display import IFrame\n",
    "IFrame('http://pandas.pydata.org/pandas-docs/stable/',width='100%',height=350)"
   ]
  },
  {
   "cell_type": "markdown",
   "metadata": {
    "ein.tags": "worksheet-0",
    "slideshow": {
     "slide_type": "subslide"
    }
   },
   "source": [
    "If you have heard of _data.frames_ in the programming language R then you basically know what Pandas is for. It is an effort to provide the same functionality for Python. Think of spreadsheet where you have alabel or a name for a column of data."
   ]
  },
  {
   "cell_type": "markdown",
   "metadata": {
    "ein.tags": "worksheet-0",
    "slideshow": {
     "slide_type": "slide"
    }
   },
   "source": [
    "#### Common Programming Constructs"
   ]
  },
  {
   "cell_type": "markdown",
   "metadata": {
    "ein.tags": "worksheet-0",
    "slideshow": {
     "slide_type": "subslide"
    }
   },
   "source": [
    "1. Constants\n",
    "2. Variables\n",
    "3. Iterators (like for loops or while loops)\n",
    "4. Functions"
   ]
  },
  {
   "cell_type": "code",
   "execution_count": 1,
   "metadata": {
    "autoscroll": false,
    "ein.hycell": false,
    "ein.tags": "worksheet-0",
    "scrolled": true,
    "slideshow": {
     "slide_type": "slide"
    }
   },
   "outputs": [],
   "source": [
    "import pandas as pd\n",
    "\n",
    "#Constants\n",
    "guesses = [8.0]    ; #what is the difference between the 8.0 having or not having the square brackets?\n",
    "errors = [10000]  \n",
    "tolerance = 0.01"
   ]
  },
  {
   "cell_type": "markdown",
   "metadata": {
    "ein.tags": "worksheet-0",
    "slideshow": {
     "slide_type": "slide"
    }
   },
   "source": [
    "#### Finding Cube Roots"
   ]
  },
  {
   "cell_type": "markdown",
   "metadata": {
    "ein.tags": "worksheet-0",
    "slideshow": {
     "slide_type": "subslide"
    }
   },
   "source": [
    "1. What is a _cube root_?\n",
    "\n",
    "2. What is the derivative of $x^3$?\n",
    "\n",
    "3. Find it with Python\n",
    "\n",
    "4. Write two Python Functions: one to `return` the cube of a number, and one to `return` the derivative when evaluated at a particular value of `x`."
   ]
  },
  {
   "cell_type": "code",
   "execution_count": 46,
   "metadata": {
    "autoscroll": false,
    "ein.hycell": false,
    "ein.tags": "worksheet-0",
    "slideshow": {
     "slide_type": "subslide"
    }
   },
   "outputs": [
    {
     "name": "stdout",
     "output_type": "stream",
     "text": [
      "3*x**2\n"
     ]
    }
   ],
   "source": [
    "x = Symbol('x')\n",
    "y = x**3\n",
    "print(diff(y,x))"
   ]
  },
  {
   "cell_type": "markdown",
   "metadata": {
    "ein.tags": "worksheet-0",
    "slideshow": {
     "slide_type": "subslide"
    }
   },
   "source": [
    "Here is the basic syntax for a function in Python."
   ]
  },
  {
   "cell_type": "code",
   "execution_count": 4,
   "metadata": {
    "autoscroll": false,
    "ein.hycell": false,
    "ein.tags": "worksheet-0",
    "slideshow": {
     "slide_type": "subslide"
    }
   },
   "outputs": [
    {
     "name": "stdout",
     "output_type": "stream",
     "text": [
      "1000\n"
     ]
    }
   ],
   "source": [
    "#Local Functions\n",
    "def cube (x):\n",
    "    return(x**3)\n",
    "\n",
    "print(cube(10))"
   ]
  },
  {
   "cell_type": "markdown",
   "metadata": {
    "ein.tags": "worksheet-0",
    "slideshow": {
     "slide_type": "subslide"
    }
   },
   "source": [
    "Now you write the formula for the derivative."
   ]
  },
  {
   "cell_type": "code",
   "execution_count": 19,
   "metadata": {
    "autoscroll": false,
    "ein.hycell": false,
    "ein.tags": "worksheet-0",
    "scrolled": true,
    "slideshow": {
     "slide_type": "subslide"
    }
   },
   "outputs": [],
   "source": [
    "def derivCube (x):\n",
    "    return(3*x**2)"
   ]
  },
  {
   "cell_type": "code",
   "execution_count": 6,
   "metadata": {},
   "outputs": [
    {
     "name": "stdout",
     "output_type": "stream",
     "text": [
      "1\n",
      "4\n"
     ]
    }
   ],
   "source": [
    "a = [1,2,3,4]\n",
    "print(a[0])\n",
    "print(a[-1])"
   ]
  },
  {
   "cell_type": "code",
   "execution_count": 54,
   "metadata": {
    "autoscroll": false,
    "ein.hycell": false,
    "ein.tags": "worksheet-0",
    "scrolled": true,
    "slideshow": {
     "slide_type": "subslide"
    }
   },
   "outputs": [
    {
     "data": {
      "text/html": [
       "<div>\n",
       "<style scoped>\n",
       "    .dataframe tbody tr th:only-of-type {\n",
       "        vertical-align: middle;\n",
       "    }\n",
       "\n",
       "    .dataframe tbody tr th {\n",
       "        vertical-align: top;\n",
       "    }\n",
       "\n",
       "    .dataframe thead th {\n",
       "        text-align: right;\n",
       "    }\n",
       "</style>\n",
       "<table border=\"1\" class=\"dataframe\">\n",
       "  <thead>\n",
       "    <tr style=\"text-align: right;\">\n",
       "      <th></th>\n",
       "      <th>errors</th>\n",
       "      <th>guesses</th>\n",
       "    </tr>\n",
       "  </thead>\n",
       "  <tbody>\n",
       "    <tr>\n",
       "      <th>0</th>\n",
       "      <td>10000.000000</td>\n",
       "      <td>8.000000</td>\n",
       "    </tr>\n",
       "    <tr>\n",
       "      <th>1</th>\n",
       "      <td>384.000000</td>\n",
       "      <td>6.000000</td>\n",
       "    </tr>\n",
       "    <tr>\n",
       "      <th>2</th>\n",
       "      <td>88.000000</td>\n",
       "      <td>5.185185</td>\n",
       "    </tr>\n",
       "    <tr>\n",
       "      <th>3</th>\n",
       "      <td>11.409643</td>\n",
       "      <td>5.043729</td>\n",
       "    </tr>\n",
       "    <tr>\n",
       "      <th>4</th>\n",
       "      <td>0.308434</td>\n",
       "      <td>5.039687</td>\n",
       "    </tr>\n",
       "    <tr>\n",
       "      <th>5</th>\n",
       "      <td>0.000247</td>\n",
       "      <td>5.039684</td>\n",
       "    </tr>\n",
       "  </tbody>\n",
       "</table>\n",
       "</div>"
      ],
      "text/plain": [
       "         errors   guesses\n",
       "0  10000.000000  8.000000\n",
       "1    384.000000  6.000000\n",
       "2     88.000000  5.185185\n",
       "3     11.409643  5.043729\n",
       "4      0.308434  5.039687\n",
       "5      0.000247  5.039684"
      ]
     },
     "execution_count": 54,
     "metadata": {},
     "output_type": "execute_result"
    }
   ],
   "source": [
    "while (abs(errors[-1]) > tolerance):\n",
    "    errors.append(cube(guesses[-1]) - 128)\n",
    "    guesses.append(-1*errors[-1]/derivCube(guesses[-1]) + guesses[-1])\n",
    "\n",
    "pd.DataFrame({\n",
    "    'errors' : errors,\n",
    "    'guesses' :guesses\n",
    "})"
   ]
  },
  {
   "cell_type": "markdown",
   "metadata": {
    "ein.tags": "worksheet-0",
    "slideshow": {
     "slide_type": "slide"
    }
   },
   "source": [
    "## A freestanding version"
   ]
  },
  {
   "cell_type": "markdown",
   "metadata": {
    "ein.tags": "worksheet-0",
    "slideshow": {
     "slide_type": "subslide"
    }
   },
   "source": [
    "Note bene: Sometimes to figure out what is going wrong with a function you need to _debug_.\n",
    "\n",
    "One simple way to do this for simple programs is to place `print` statements at strategic points in your code so that you can see whether the variables you are using have sensible values for test cases you can do in your head or on paper. \n",
    "\n",
    "For larger and more complicated programs you would write a test set that with known inputs and outputs and you would evaluate your program on these known cases to verify sensible behavior in an automatic fashion. Sometimes you will see the phrase _test driven development_ to capture this technique."
   ]
  },
  {
   "cell_type": "code",
   "execution_count": 7,
   "metadata": {
    "autoscroll": false,
    "ein.hycell": false,
    "ein.tags": "worksheet-0",
    "scrolled": false,
    "slideshow": {
     "slide_type": "subslide"
    }
   },
   "outputs": [
    {
     "name": "stdout",
     "output_type": "stream",
     "text": [
      "Cube root of ?\n",
      "746\n",
      "Answer is: 9.069421980736077\n",
      "\n"
     ]
    }
   ],
   "source": [
    "def cube (x):\n",
    "    return(x**3)\n",
    "\n",
    "def derivCube (x):\n",
    "    return(3*x**2)\n",
    "\n",
    "def cubeRoot(n,initGuess = 5.0):\n",
    "    guess = initGuess\n",
    "    error = 10000.0\n",
    "    tolerance = 0.01\n",
    "    i = 0\n",
    "    while (abs(error) > tolerance):\n",
    "        error = cube(guess) - n \n",
    "        #print(error)\n",
    "        guess = -1*error/derivCube(guess) + guess\n",
    "    return(guess)\n",
    "\n",
    "def main():\n",
    "    testNum = input(\"Cube root of ?\\n\")\n",
    "    print(\"Answer is: {0}\\n\".format(cubeRoot(float(testNum))))\n",
    "\n",
    "if __name__ == \"__main__\":\n",
    "    main()"
   ]
  }
 ],
 "metadata": {
  "celltoolbar": "Slideshow",
  "kernelspec": {
   "display_name": "Python 3",
   "language": "python",
   "name": "python3"
  },
  "language_info": {
   "codemirror_mode": {
    "name": "ipython",
    "version": 3
   },
   "file_extension": ".py",
   "mimetype": "text/x-python",
   "name": "python",
   "nbconvert_exporter": "python",
   "pygments_lexer": "ipython3",
   "version": "3.7.3"
  },
  "livereveal": {
   "scroll": true
  },
  "name": "DEIntro.ipynb"
 },
 "nbformat": 4,
 "nbformat_minor": 2
}
