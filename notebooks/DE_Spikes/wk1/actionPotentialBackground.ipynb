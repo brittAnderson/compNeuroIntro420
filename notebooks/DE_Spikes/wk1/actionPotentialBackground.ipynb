{
 "cells": [
  {
   "cell_type": "markdown",
   "metadata": {
    "ein.tags": "worksheet-0",
    "slideshow": {
     "slide_type": "slide"
    }
   },
   "source": [
    "# The Action Potential"
   ]
  },
  {
   "cell_type": "markdown",
   "metadata": {
    "ein.tags": "worksheet-0",
    "slideshow": {
     "slide_type": "slide"
    }
   },
   "source": [
    "Can you draw one? I am going to ask you to do that in a moment, and to verify that you know ..."
   ]
  },
  {
   "cell_type": "markdown",
   "metadata": {
    "ein.tags": "worksheet-0",
    "slideshow": {
     "slide_type": "subslide"
    }
   },
   "source": [
    "### Questions:"
   ]
  },
  {
   "cell_type": "markdown",
   "metadata": {
    "ein.tags": "worksheet-0",
    "slideshow": {
     "slide_type": "subslide"
    }
   },
   "source": [
    "1. What are the axes?\n",
    "2. What causes the upward deflection?\n",
    "3. What is, and what causes, the overshoot?\n",
    "4. Who discovered the action potential?\n",
    "5. Who won the Nobel Prize for characterizing the ionic events of the action potential experimentally and building a mathematical model?"
   ]
  },
  {
   "cell_type": "markdown",
   "metadata": {
    "ein.tags": "worksheet-0",
    "slideshow": {
     "slide_type": "notes"
    }
   },
   "source": [
    "Psychology students should already know this, so team up with some CS students and others to prepare your answers to the above, and then we will work through them in a group."
   ]
  },
  {
   "cell_type": "markdown",
   "metadata": {
    "ein.tags": "worksheet-0",
    "slideshow": {
     "slide_type": "subslide"
    }
   },
   "source": [
    "Did you drawing of the action potential look like this?\n"
   ]
  },
  {
   "cell_type": "markdown",
   "metadata": {
    "ein.tags": "worksheet-0",
    "slideshow": {
     "slide_type": "subslide"
    }
   },
   "source": [
    "![Action Potential](https://upload.wikimedia.org/wikipedia/commons/thumb/9/95/Action_potential_basic_shape.svg/491px-Action_potential_basic_shape.svg.png)\n"
   ]
  },
  {
   "cell_type": "markdown",
   "metadata": {
    "ein.tags": "worksheet-0",
    "slideshow": {
     "slide_type": "subslide"
    }
   },
   "source": [
    "1. Why Should Prof. [Roxane Itier](https://academic.oup.com/view-large/figure/5148431/bhg111f2.jpeg)'s Students Care About Action Potentials?\n",
    "2. Why Should Prof. [Chris Eliasmith](https://science.sciencemag.org/content/sci/338/6111/1202/F3.large.jpg)'s Students Care About Action Potentials?\n",
    "3. What Exactly About Action Potentials Should We Care About?\n",
    "   More a question for future discussion in about a week or two. "
   ]
  }
 ],
 "metadata": {
  "celltoolbar": "Slideshow",
  "kernelspec": {
   "display_name": "Python 3",
   "language": "python",
   "name": "python3"
  },
  "language_info": {
   "codemirror_mode": {
    "name": "ipython",
    "version": 3
   },
   "file_extension": ".py",
   "mimetype": "text/x-python",
   "name": "python",
   "nbconvert_exporter": "python",
   "pygments_lexer": "ipython3",
   "version": "3.7.3"
  },
  "livereveal": {
   "scroll": "true"
  },
  "name": "actionPotentialBackground.ipynb"
 },
 "nbformat": 4,
 "nbformat_minor": 2
}
