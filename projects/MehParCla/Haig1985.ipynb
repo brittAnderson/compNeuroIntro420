{
 "cells": [
  {
   "cell_type": "code",
   "execution_count": 1,
   "metadata": {},
   "outputs": [
    {
     "name": "stdout",
     "output_type": "stream",
     "text": [
      "Enter the target number: 2\n"
     ]
    },
    {
     "data": {
      "image/png": "[encoded data removed]",
      "text/plain": [
       "<matplotlib.figure.Figure at 0x2516567ac18>"
      ]
     },
     "metadata": {},
     "output_type": "display_data"
    }
   ],
   "source": [
    "%matplotlib inline\n",
    "import matplotlib.pyplot as p\n",
    "import IPython.display as pd\n",
    "import numpy as np\n",
    "import random as r\n",
    "import math\n",
    "import time\n",
    "\n",
    "MASK_1 =                 np.array([[0, 1, 0, 0, 1],\n",
    "                                   [1, 0, 0, 1, 0], \n",
    "                                   [0, 0, 0, 1, 0],\n",
    "                                   [0, 0, 0, 1, 0],\n",
    "                                   [1, 0, 1, 0, 0]])\n",
    "\n",
    "MASK_2 =                 np.array([[0, 1, 0, 1, 0],\n",
    "                                   [1, 0, 1, 1, 1], \n",
    "                                   [1, 0, 1, 0, 1],\n",
    "                                   [0, 0, 0, 0, 0],\n",
    "                                   [1, 0, 0, 0, 1]])\n",
    "\n",
    "MASK_3 =                 np.array([[1, 0, 1, 1, 0],\n",
    "                                   [1, 1, 0, 0, 1], \n",
    "                                   [1, 0, 0, 0, 1],\n",
    "                                   [0, 1, 1, 1, 0],\n",
    "                                   [1, 0, 0, 0, 1]])\n",
    "\n",
    "MASK_4 =                 np.array([[0, 0, 0, 1, 1],\n",
    "                                   [0, 0, 0, 0, 0], \n",
    "                                   [1, 1, 1, 1, 1],\n",
    "                                   [0, 1, 0, 0, 0],\n",
    "                                   [0, 0, 1, 1, 0]])\n",
    "\n",
    "MASK_5 =                 np.array([[0, 0, 0, 0, 0],\n",
    "                                   [1, 1, 1, 1, 1], \n",
    "                                   [1, 0, 0, 0, 0],\n",
    "                                   [0, 0, 1, 1, 0],\n",
    "                                   [0, 0, 0, 0, 1]])\n",
    "\n",
    "MASK_6 =                 np.array([[1, 1, 1, 1, 1],\n",
    "                                   [1, 0, 0, 0, 1], \n",
    "                                   [0, 0, 0, 0, 0],\n",
    "                                   [1, 0, 0, 0, 1],\n",
    "                                   [1, 1, 1, 1, 1]])\n",
    "\n",
    "stimuli =     [(1, \"t1m1\", MASK_1), \n",
    "               (1, \"t1m2\", MASK_2), \n",
    "               (1, \"t1m3\", MASK_3), \n",
    "               (1, \"t1m4\", MASK_4),\n",
    "               (1, \"t1m5\", MASK_5),\n",
    "               (1, \"t1m6\", MASK_6),\n",
    "           \n",
    "               (2, \"t2m1\", MASK_1), \n",
    "               (2, \"t2m2\", MASK_2), \n",
    "               (2, \"t2m3\", MASK_3), \n",
    "               (2, \"t2m4\", MASK_4),\n",
    "               (2, \"t2m5\", MASK_5),\n",
    "               (2, \"t2m6\", MASK_6),\n",
    "           \n",
    "               (3, \"t3m1\", MASK_1), \n",
    "               (3, \"t3m2\", MASK_2), \n",
    "               (3, \"t3m3\", MASK_3), \n",
    "               (3, \"t3m4\", MASK_4),\n",
    "               (3, \"t3m5\", MASK_5),\n",
    "               (3, \"t3m6\", MASK_6),\n",
    "               \n",
    "               (4, \"t4m1\", MASK_1), \n",
    "               (4, \"t4m2\", MASK_2), \n",
    "               (4, \"t4m3\", MASK_3), \n",
    "               (4, \"t4m4\", MASK_4),\n",
    "               (4, \"t4m5\", MASK_5),\n",
    "               (4, \"t4m6\", MASK_6)]\n",
    "\n",
    "\n",
    "def main():\n",
    "    squares = np.zeros(MASK_1.shape)\n",
    "    correct = np.zeros(MASK_1.shape)\n",
    "    TRIALS = int(input(\"Enter the number of trials (maximum 24): \"))\n",
    "    r.shuffle(stimuli)\n",
    "    TRIAL_STIMULI = stimuli[:TRIALS]\n",
    "    \n",
    "    for t in TRIAL_STIMULI:\n",
    "        pd.display(pd.Image(filename =\"stimuli/\" + t[1] + \".png\", width=200, height=200))\n",
    "        pd.clear_output(wait = True)\n",
    "        guess = int(input(\"Enter the target number: \")) \n",
    "        squares += t[2]\n",
    "        if guess == t[0]:  correct += t[2]\n",
    "        time.sleep(1)\n",
    "            \n",
    "                        \n",
    "    squares[squares == 0] = 1\n",
    "    correct[correct == 0] = 1\n",
    "    \n",
    "    SCORES = np.around(correct/squares, decimals = 1)\n",
    "    p.title(\"Compartive Technique\")\n",
    "    p.xlabel(\"Square\")\n",
    "    p.ylabel(\"Correct Guesses\")\n",
    "#    p.plot(np.arange(0, MASK_1.size), SCORES.flatten())\n",
    "    p.bar(np.arange(0, MASK_1.size), height= SCORES.flatten())\n",
    "    \n",
    "    \n",
    "main()"
   ]
  },
  {
   "cell_type": "code",
   "execution_count": null,
   "metadata": {},
   "outputs": [],
   "source": []
  },
  {
   "cell_type": "code",
   "execution_count": null,
   "metadata": {},
   "outputs": [],
   "source": []
  }
 ],
 "metadata": {
  "kernelspec": {
   "display_name": "Python 3",
   "language": "python",
   "name": "python3"
  },
  "language_info": {
   "codemirror_mode": {
    "name": "ipython",
    "version": 3
   },
   "file_extension": ".py",
   "mimetype": "text/x-python",
   "name": "python",
   "nbconvert_exporter": "python",
   "pygments_lexer": "ipython3",
   "version": "3.6.4"
  }
 },
 "nbformat": 4,
 "nbformat_minor": 2
}
